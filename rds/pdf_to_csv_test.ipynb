{
 "cells": [
  {
   "cell_type": "code",
   "execution_count": 84,
   "metadata": {},
   "outputs": [],
   "source": [
    "import csv\n",
    "import pandas as pd\n",
    "import numpy as np\n",
    "import urllib\n",
    "from tabula.io import read_pdf, convert_into\n",
    "import datetime\n",
    "from typing import List, Tuple, Any\n",
    "\n",
    "from config import Config\n",
    "from pgConnect import PgConnection\n",
    "from dfs_dao import Dfs_dao"
   ]
  },
  {
   "cell_type": "code",
   "execution_count": 75,
   "metadata": {},
   "outputs": [
    {
     "name": "stdout",
     "output_type": "stream",
     "text": [
      "Connecting to the PostgreSQL database...\n"
     ]
    }
   ],
   "source": [
    "config : Config = Config()\n",
    "pgc : PgConnection = PgConnection(config)\n",
    "dao : Dfs_dao = Dfs_dao(pgc)"
   ]
  },
  {
   "cell_type": "code",
   "execution_count": 76,
   "metadata": {},
   "outputs": [],
   "source": [
    "injury_base = 'https://ak-static.cms.nba.com/referee/injury/Injury-Report'"
   ]
  },
  {
   "cell_type": "code",
   "execution_count": 77,
   "metadata": {},
   "outputs": [],
   "source": [
    "link = 'https://ak-static.cms.nba.com/referee/injury/Injury-Report_2023-01-18_03PM.pdf'"
   ]
  },
  {
   "cell_type": "code",
   "execution_count": 122,
   "metadata": {},
   "outputs": [],
   "source": [
    "def process_times_of_day(game_time_1 : datetime.time, game_time_2 : datetime.time) -> List[str]:\n",
    "    hr1 = game_time_1.hour - 1\n",
    "    hr2 = game_time_2.hour - 1\n",
    "    \n",
    "    retHours = []\n",
    "    ampm = 'AM'\n",
    "    while hr1 < hr2 + 2:\n",
    "        printHr = hr1\n",
    "        if hr1 >= 12:\n",
    "            ampm = 'PM'\n",
    "        if hr1 > 12:\n",
    "            printHr -= 12\n",
    "        retHours.append((str(printHr).zfill(2) + ampm, hr1))\n",
    "        hr1 += 1\n",
    "    return retHours"
   ]
  },
  {
   "cell_type": "code",
   "execution_count": 123,
   "metadata": {},
   "outputs": [],
   "source": [
    "date_tuples = dao.select_game_date_times()\n",
    "\n",
    "def get_injury_report_links(data_tuples : List[Tuple[Any,... ]]) -> List[Tuple[str, datetime.time]]:\n",
    "    collection_hours = []\n",
    "    time_stamps = []\n",
    "    for date_tuple in date_tuples:\n",
    "        yr, mth, day = (str(date_tuple[0].year), \n",
    "                        str(date_tuple[0].month).zfill(2), \n",
    "                        str(date_tuple[0].day).zfill(2))\n",
    "        \n",
    "        day_base = '-'.join([yr, mth, day])\n",
    "        hours = process_times_of_day(date_tuple[1], date_tuple[2])\n",
    "        for hour in hours:\n",
    "            collection_hours.append(injury_base + '_' + day_base + '_' + hour[0] + '.pdf')\n",
    "            time_stamps.append(datetime.time(hour[1],30))\n",
    "    return list(zip(collection_hours, time_stamps))\n",
    "\n",
    "test = get_injury_report_links(date_tuples)"
   ]
  },
  {
   "cell_type": "code",
   "execution_count": 124,
   "metadata": {},
   "outputs": [],
   "source": [
    "test = test[:5]"
   ]
  },
  {
   "cell_type": "code",
   "execution_count": 148,
   "metadata": {},
   "outputs": [
    {
     "name": "stdout",
     "output_type": "stream",
     "text": [
      "('https://ak-static.cms.nba.com/referee/injury/Injury-Report_2023-01-17_07PM.pdf', datetime.time(19, 30))\n"
     ]
    }
   ],
   "source": [
    "print(test[1])"
   ]
  },
  {
   "cell_type": "code",
   "execution_count": 152,
   "metadata": {},
   "outputs": [],
   "source": [
    "def extract_date_from_link(link : str) -> datetime.date:\n",
    "    date_portion : str = link[link.rfind('t_')+2 : link.rfind('_')]\n",
    "    dp_list : List[str] = [int(i) for i in date_portion.split('-')]\n",
    "    dt : datetime.date = datetime.date(*tuple(dp_list))\n",
    "    return dt\n"
   ]
  },
  {
   "cell_type": "code",
   "execution_count": null,
   "metadata": {},
   "outputs": [],
   "source": [
    "convert_into('https://ak-static.cms.nba.com/referee/injury/Injury-Report_2022-10-15_11AM.pdf', 'test.csv', pages = 'all')"
   ]
  },
  {
   "cell_type": "code",
   "execution_count": 181,
   "metadata": {},
   "outputs": [
    {
     "name": "stderr",
     "output_type": "stream",
     "text": [
      "Got stderr: Jan 18, 2023 6:37:32 PM org.apache.pdfbox.pdmodel.font.PDTrueTypeFont <init>\n",
      "WARNING: Using fallback font 'Helvetica-Bold' for 'Calibri-Bold'\n",
      "Jan 18, 2023 6:37:32 PM org.apache.pdfbox.pdmodel.font.PDTrueTypeFont <init>\n",
      "WARNING: Using fallback font 'Helvetica' for 'Calibri'\n",
      "\n"
     ]
    }
   ],
   "source": [
    "def collect_injury_report_csv(link : str, report_time : datetime.time):\n",
    "    dt : datetime.date = extract_date_from_link(link)\n",
    "\n",
    "    response = urllib.request.urlopen(link)\n",
    "    a = response.read()\n",
    "    convert_into(link, 'test.csv', pages = 'all')a\n",
    "\n",
    "    with open('test.csv') as f:\n",
    "        csv_rows = []\n",
    "        r = csv.reader(f)\n",
    "        for num, row in enumerate(r):\n",
    "            row = [''] * 7 + row\n",
    "            while row[-1] == '':\n",
    "                row.pop(-1)\n",
    "            row = row[-7:]\n",
    "            if row[-1] not in ('NOT YET SUBMITTED', 'Reason') or num == 0:\n",
    "                csv_rows.append(row)\n",
    "\n",
    "    df = pd.DataFrame(csv_rows[1:], columns = csv_rows[0])\n",
    "    df = df.replace('', np.nan).fillna(method = 'ffill')\n",
    "    df['report_date'] = dt\n",
    "    df['report_time'] = report_time\n",
    "    df['report_datetime'] = datetime.datetime.combine(dt, report_time)\n",
    "    tmp = df['Game Time'].str.replace(' (ET)', 'pm', regex = False)\n",
    "    df['game_datetime'] = pd.to_datetime(df['Game Date'] + ' ' + tmp, format = '%m/%d/%Y %I:%M%p')\n",
    "    return df\n",
    "\n",
    "a = collect_injury_report_csv(test[0][0], test[0][1])"
   ]
  },
  {
   "cell_type": "code",
   "execution_count": 157,
   "metadata": {},
   "outputs": [
    {
     "data": {
      "text/plain": [
       "datetime.time(7, 30)"
      ]
     },
     "execution_count": 157,
     "metadata": {},
     "output_type": "execute_result"
    }
   ],
   "source": [
    "datetime.time(int('07'), int('30'))"
   ]
  },
  {
   "cell_type": "code",
   "execution_count": 182,
   "metadata": {},
   "outputs": [
    {
     "data": {
      "text/html": [
       "<div>\n",
       "<style scoped>\n",
       "    .dataframe tbody tr th:only-of-type {\n",
       "        vertical-align: middle;\n",
       "    }\n",
       "\n",
       "    .dataframe tbody tr th {\n",
       "        vertical-align: top;\n",
       "    }\n",
       "\n",
       "    .dataframe thead th {\n",
       "        text-align: right;\n",
       "    }\n",
       "</style>\n",
       "<table border=\"1\" class=\"dataframe\">\n",
       "  <thead>\n",
       "    <tr style=\"text-align: right;\">\n",
       "      <th></th>\n",
       "      <th>Game Date</th>\n",
       "      <th>Game Time</th>\n",
       "      <th>Matchup</th>\n",
       "      <th>Team</th>\n",
       "      <th>Player Name</th>\n",
       "      <th>Current Status</th>\n",
       "      <th>Reason</th>\n",
       "      <th>report_date</th>\n",
       "      <th>report_time</th>\n",
       "      <th>report_datetime</th>\n",
       "      <th>game_datetime</th>\n",
       "    </tr>\n",
       "  </thead>\n",
       "  <tbody>\n",
       "    <tr>\n",
       "      <th>0</th>\n",
       "      <td>01/17/2023</td>\n",
       "      <td>07:30 (ET)</td>\n",
       "      <td>TOR@MIL</td>\n",
       "      <td>Milwaukee Bucks</td>\n",
       "      <td>Antetokounmpo, Giannis</td>\n",
       "      <td>Out</td>\n",
       "      <td>Injury/Illness - Left Knee; Soreness</td>\n",
       "      <td>2023-01-17</td>\n",
       "      <td>18:30:00</td>\n",
       "      <td>2023-01-17 18:30:00</td>\n",
       "      <td>2023-01-17 19:30:00</td>\n",
       "    </tr>\n",
       "    <tr>\n",
       "      <th>1</th>\n",
       "      <td>01/17/2023</td>\n",
       "      <td>07:30 (ET)</td>\n",
       "      <td>TOR@MIL</td>\n",
       "      <td>Milwaukee Bucks</td>\n",
       "      <td>Ibaka, Serge</td>\n",
       "      <td>Out</td>\n",
       "      <td>Personal Reasons</td>\n",
       "      <td>2023-01-17</td>\n",
       "      <td>18:30:00</td>\n",
       "      <td>2023-01-17 18:30:00</td>\n",
       "      <td>2023-01-17 19:30:00</td>\n",
       "    </tr>\n",
       "    <tr>\n",
       "      <th>2</th>\n",
       "      <td>01/17/2023</td>\n",
       "      <td>07:30 (ET)</td>\n",
       "      <td>TOR@MIL</td>\n",
       "      <td>Milwaukee Bucks</td>\n",
       "      <td>Middleton, Khris</td>\n",
       "      <td>Out</td>\n",
       "      <td>Injury/Illness - Right Knee; Soreness</td>\n",
       "      <td>2023-01-17</td>\n",
       "      <td>18:30:00</td>\n",
       "      <td>2023-01-17 18:30:00</td>\n",
       "      <td>2023-01-17 19:30:00</td>\n",
       "    </tr>\n",
       "    <tr>\n",
       "      <th>3</th>\n",
       "      <td>01/17/2023</td>\n",
       "      <td>07:30 (ET)</td>\n",
       "      <td>TOR@MIL</td>\n",
       "      <td>Toronto Raptors</td>\n",
       "      <td>Banton, Dalano</td>\n",
       "      <td>Out</td>\n",
       "      <td>Injury/Illness - Right Hip; Pointer</td>\n",
       "      <td>2023-01-17</td>\n",
       "      <td>18:30:00</td>\n",
       "      <td>2023-01-17 18:30:00</td>\n",
       "      <td>2023-01-17 19:30:00</td>\n",
       "    </tr>\n",
       "    <tr>\n",
       "      <th>4</th>\n",
       "      <td>01/17/2023</td>\n",
       "      <td>07:30 (ET)</td>\n",
       "      <td>TOR@MIL</td>\n",
       "      <td>Toronto Raptors</td>\n",
       "      <td>Porter Jr., Otto</td>\n",
       "      <td>Out</td>\n",
       "      <td>Injury/Illness - Left Foot; Surgery - second t...</td>\n",
       "      <td>2023-01-17</td>\n",
       "      <td>18:30:00</td>\n",
       "      <td>2023-01-17 18:30:00</td>\n",
       "      <td>2023-01-17 19:30:00</td>\n",
       "    </tr>\n",
       "  </tbody>\n",
       "</table>\n",
       "</div>"
      ],
      "text/plain": [
       "    Game Date   Game Time  Matchup             Team             Player Name  \\\n",
       "0  01/17/2023  07:30 (ET)  TOR@MIL  Milwaukee Bucks  Antetokounmpo, Giannis   \n",
       "1  01/17/2023  07:30 (ET)  TOR@MIL  Milwaukee Bucks            Ibaka, Serge   \n",
       "2  01/17/2023  07:30 (ET)  TOR@MIL  Milwaukee Bucks        Middleton, Khris   \n",
       "3  01/17/2023  07:30 (ET)  TOR@MIL  Toronto Raptors          Banton, Dalano   \n",
       "4  01/17/2023  07:30 (ET)  TOR@MIL  Toronto Raptors        Porter Jr., Otto   \n",
       "\n",
       "  Current Status                                             Reason  \\\n",
       "0            Out               Injury/Illness - Left Knee; Soreness   \n",
       "1            Out                                   Personal Reasons   \n",
       "2            Out              Injury/Illness - Right Knee; Soreness   \n",
       "3            Out                Injury/Illness - Right Hip; Pointer   \n",
       "4            Out  Injury/Illness - Left Foot; Surgery - second t...   \n",
       "\n",
       "  report_date report_time     report_datetime       game_datetime  \n",
       "0  2023-01-17    18:30:00 2023-01-17 18:30:00 2023-01-17 19:30:00  \n",
       "1  2023-01-17    18:30:00 2023-01-17 18:30:00 2023-01-17 19:30:00  \n",
       "2  2023-01-17    18:30:00 2023-01-17 18:30:00 2023-01-17 19:30:00  \n",
       "3  2023-01-17    18:30:00 2023-01-17 18:30:00 2023-01-17 19:30:00  \n",
       "4  2023-01-17    18:30:00 2023-01-17 18:30:00 2023-01-17 19:30:00  "
      ]
     },
     "execution_count": 182,
     "metadata": {},
     "output_type": "execute_result"
    }
   ],
   "source": [
    "a.head()"
   ]
  },
  {
   "cell_type": "code",
   "execution_count": 41,
   "metadata": {},
   "outputs": [
    {
     "ename": "TypeError",
     "evalue": "unsupported operand type(s) for +: 'datetime.time' and 'datetime.timedelta'",
     "output_type": "error",
     "traceback": [
      "\u001b[0;31m---------------------------------------------------------------------------\u001b[0m",
      "\u001b[0;31mTypeError\u001b[0m                                 Traceback (most recent call last)",
      "\u001b[1;32m/Users/kniu91/Documents/Kevin's Folders/Projects/dfs/rds/pdf_to_csv_test.ipynb Cell 7\u001b[0m in \u001b[0;36m<cell line: 2>\u001b[0;34m()\u001b[0m\n\u001b[1;32m      <a href='vscode-notebook-cell:/Users/kniu91/Documents/Kevin%27s%20Folders/Projects/dfs/rds/pdf_to_csv_test.ipynb#X26sZmlsZQ%3D%3D?line=0'>1</a>\u001b[0m \u001b[39mfrom\u001b[39;00m \u001b[39mdatetime\u001b[39;00m \u001b[39mimport\u001b[39;00m timedelta\n\u001b[0;32m----> <a href='vscode-notebook-cell:/Users/kniu91/Documents/Kevin%27s%20Folders/Projects/dfs/rds/pdf_to_csv_test.ipynb#X26sZmlsZQ%3D%3D?line=1'>2</a>\u001b[0m datetime\u001b[39m.\u001b[39;49mtime(\u001b[39m19\u001b[39;49m, \u001b[39m0\u001b[39;49m) \u001b[39m+\u001b[39;49m timedelta(hours \u001b[39m=\u001b[39;49m \u001b[39m-\u001b[39;49m\u001b[39m1\u001b[39;49m)\n",
      "\u001b[0;31mTypeError\u001b[0m: unsupported operand type(s) for +: 'datetime.time' and 'datetime.timedelta'"
     ]
    }
   ],
   "source": [
    "from datetime import timedelta\n",
    "datetime.time(19, 0) + timedelta(hours = -1)a"
   ]
  },
  {
   "cell_type": "code",
   "execution_count": 55,
   "metadata": {},
   "outputs": [],
   "source": []
  },
  {
   "cell_type": "code",
   "execution_count": null,
   "metadata": {},
   "outputs": [],
   "source": []
  },
  {
   "cell_type": "code",
   "execution_count": null,
   "metadata": {},
   "outputs": [],
   "source": []
  },
  {
   "cell_type": "code",
   "execution_count": 64,
   "metadata": {},
   "outputs": [
    {
     "name": "stderr",
     "output_type": "stream",
     "text": [
      "Got stderr: Jan 18, 2023 4:29:33 PM org.apache.pdfbox.pdmodel.font.PDTrueTypeFont <init>\n",
      "WARNING: Using fallback font 'Helvetica-Bold' for 'Calibri-Bold'\n",
      "Jan 18, 2023 4:29:33 PM org.apache.pdfbox.pdmodel.font.PDTrueTypeFont <init>\n",
      "WARNING: Using fallback font 'Helvetica' for 'Calibri'\n",
      "\n"
     ]
    }
   ],
   "source": []
  },
  {
   "cell_type": "code",
   "execution_count": 69,
   "metadata": {},
   "outputs": [
    {
     "data": {
      "text/html": [
       "<div>\n",
       "<style scoped>\n",
       "    .dataframe tbody tr th:only-of-type {\n",
       "        vertical-align: middle;\n",
       "    }\n",
       "\n",
       "    .dataframe tbody tr th {\n",
       "        vertical-align: top;\n",
       "    }\n",
       "\n",
       "    .dataframe thead th {\n",
       "        text-align: right;\n",
       "    }\n",
       "</style>\n",
       "<table border=\"1\" class=\"dataframe\">\n",
       "  <thead>\n",
       "    <tr style=\"text-align: right;\">\n",
       "      <th></th>\n",
       "      <th>Game Date</th>\n",
       "      <th>Game Time</th>\n",
       "      <th>Matchup</th>\n",
       "      <th>Team</th>\n",
       "      <th>Player Name</th>\n",
       "      <th>Current Status</th>\n",
       "      <th>Reason</th>\n",
       "    </tr>\n",
       "  </thead>\n",
       "  <tbody>\n",
       "    <tr>\n",
       "      <th>0</th>\n",
       "      <td>01/18/2023</td>\n",
       "      <td>07:30 (ET)</td>\n",
       "      <td>ATL@DAL</td>\n",
       "      <td>Atlanta Hawks</td>\n",
       "      <td>Williams, Donovan</td>\n",
       "      <td>Out</td>\n",
       "      <td>G League - Two-Way</td>\n",
       "    </tr>\n",
       "    <tr>\n",
       "      <th>1</th>\n",
       "      <td>01/18/2023</td>\n",
       "      <td>07:30 (ET)</td>\n",
       "      <td>ATL@DAL</td>\n",
       "      <td>Dallas Mavericks</td>\n",
       "      <td>Doncic, Luka</td>\n",
       "      <td>Probable</td>\n",
       "      <td>Injury/Illness - Left Ankle; Soreness</td>\n",
       "    </tr>\n",
       "    <tr>\n",
       "      <th>2</th>\n",
       "      <td>01/18/2023</td>\n",
       "      <td>07:30 (ET)</td>\n",
       "      <td>ATL@DAL</td>\n",
       "      <td>Dallas Mavericks</td>\n",
       "      <td>Finney-Smith, Dorian</td>\n",
       "      <td>Questionable</td>\n",
       "      <td>Injury/Illness - Right Adductor; Strain</td>\n",
       "    </tr>\n",
       "    <tr>\n",
       "      <th>3</th>\n",
       "      <td>01/18/2023</td>\n",
       "      <td>07:30 (ET)</td>\n",
       "      <td>ATL@DAL</td>\n",
       "      <td>Dallas Mavericks</td>\n",
       "      <td>Green, Josh</td>\n",
       "      <td>Questionable</td>\n",
       "      <td>Injury/Illness - Right Elbow; Sprain</td>\n",
       "    </tr>\n",
       "    <tr>\n",
       "      <th>4</th>\n",
       "      <td>01/18/2023</td>\n",
       "      <td>07:30 (ET)</td>\n",
       "      <td>ATL@DAL</td>\n",
       "      <td>Dallas Mavericks</td>\n",
       "      <td>Hardaway Jr., Tim</td>\n",
       "      <td>Out</td>\n",
       "      <td>Injury/Illness - Left Ankle; Sprain</td>\n",
       "    </tr>\n",
       "    <tr>\n",
       "      <th>...</th>\n",
       "      <td>...</td>\n",
       "      <td>...</td>\n",
       "      <td>...</td>\n",
       "      <td>...</td>\n",
       "      <td>...</td>\n",
       "      <td>...</td>\n",
       "      <td>...</td>\n",
       "    </tr>\n",
       "    <tr>\n",
       "      <th>91</th>\n",
       "      <td>01/19/2023</td>\n",
       "      <td>03:00 (ET)</td>\n",
       "      <td>CHI@DET</td>\n",
       "      <td>Detroit Pistons</td>\n",
       "      <td>Diallo, Hamidou</td>\n",
       "      <td>Probable</td>\n",
       "      <td>Injury/Illness - Right Calf; Soreness</td>\n",
       "    </tr>\n",
       "    <tr>\n",
       "      <th>92</th>\n",
       "      <td>01/19/2023</td>\n",
       "      <td>03:00 (ET)</td>\n",
       "      <td>CHI@DET</td>\n",
       "      <td>Detroit Pistons</td>\n",
       "      <td>Duren, Jalen</td>\n",
       "      <td>Questionable</td>\n",
       "      <td>Injury/Illness - Right Ankle; Soreness</td>\n",
       "    </tr>\n",
       "    <tr>\n",
       "      <th>93</th>\n",
       "      <td>01/19/2023</td>\n",
       "      <td>03:00 (ET)</td>\n",
       "      <td>CHI@DET</td>\n",
       "      <td>Detroit Pistons</td>\n",
       "      <td>Joseph, Cory</td>\n",
       "      <td>Questionable</td>\n",
       "      <td>Injury/Illness - Right Knee; Soreness</td>\n",
       "    </tr>\n",
       "    <tr>\n",
       "      <th>94</th>\n",
       "      <td>01/19/2023</td>\n",
       "      <td>03:00 (ET)</td>\n",
       "      <td>CHI@DET</td>\n",
       "      <td>Detroit Pistons</td>\n",
       "      <td>Noel, Nerlens</td>\n",
       "      <td>Questionable</td>\n",
       "      <td>Injury/Illness - Left Foot; Soreness</td>\n",
       "    </tr>\n",
       "    <tr>\n",
       "      <th>95</th>\n",
       "      <td>01/19/2023</td>\n",
       "      <td>03:00 (ET)</td>\n",
       "      <td>CHI@DET</td>\n",
       "      <td>Detroit Pistons</td>\n",
       "      <td>Rhoden, Jared</td>\n",
       "      <td>Out</td>\n",
       "      <td>G League - Two-Way</td>\n",
       "    </tr>\n",
       "  </tbody>\n",
       "</table>\n",
       "<p>96 rows × 7 columns</p>\n",
       "</div>"
      ],
      "text/plain": [
       "     Game Date   Game Time  Matchup              Team           Player Name  \\\n",
       "0   01/18/2023  07:30 (ET)  ATL@DAL     Atlanta Hawks     Williams, Donovan   \n",
       "1   01/18/2023  07:30 (ET)  ATL@DAL  Dallas Mavericks          Doncic, Luka   \n",
       "2   01/18/2023  07:30 (ET)  ATL@DAL  Dallas Mavericks  Finney-Smith, Dorian   \n",
       "3   01/18/2023  07:30 (ET)  ATL@DAL  Dallas Mavericks           Green, Josh   \n",
       "4   01/18/2023  07:30 (ET)  ATL@DAL  Dallas Mavericks     Hardaway Jr., Tim   \n",
       "..         ...         ...      ...               ...                   ...   \n",
       "91  01/19/2023  03:00 (ET)  CHI@DET   Detroit Pistons       Diallo, Hamidou   \n",
       "92  01/19/2023  03:00 (ET)  CHI@DET   Detroit Pistons          Duren, Jalen   \n",
       "93  01/19/2023  03:00 (ET)  CHI@DET   Detroit Pistons          Joseph, Cory   \n",
       "94  01/19/2023  03:00 (ET)  CHI@DET   Detroit Pistons         Noel, Nerlens   \n",
       "95  01/19/2023  03:00 (ET)  CHI@DET   Detroit Pistons         Rhoden, Jared   \n",
       "\n",
       "   Current Status                                   Reason  \n",
       "0             Out                       G League - Two-Way  \n",
       "1        Probable    Injury/Illness - Left Ankle; Soreness  \n",
       "2    Questionable  Injury/Illness - Right Adductor; Strain  \n",
       "3    Questionable     Injury/Illness - Right Elbow; Sprain  \n",
       "4             Out      Injury/Illness - Left Ankle; Sprain  \n",
       "..            ...                                      ...  \n",
       "91       Probable    Injury/Illness - Right Calf; Soreness  \n",
       "92   Questionable   Injury/Illness - Right Ankle; Soreness  \n",
       "93   Questionable    Injury/Illness - Right Knee; Soreness  \n",
       "94   Questionable     Injury/Illness - Left Foot; Soreness  \n",
       "95            Out                       G League - Two-Way  \n",
       "\n",
       "[96 rows x 7 columns]"
      ]
     },
     "execution_count": 69,
     "metadata": {},
     "output_type": "execute_result"
    }
   ],
   "source": []
  },
  {
   "cell_type": "code",
   "execution_count": 24,
   "metadata": {},
   "outputs": [
    {
     "name": "stdout",
     "output_type": "stream",
     "text": [
      "['Game Date', 'Game Time', 'Matchup', 'Team', 'Player Name', 'Current Status', 'Reason']\n",
      "['01/18/2023', '07:30 (ET)', 'ATL@DAL', 'Atlanta Hawks', 'Williams, Donovan', 'Out', 'G League - Two-Way']\n",
      "['', '', 'Dallas Mavericks', 'Doncic, Luka', 'Probable', 'Injury/Illness - Left Ankle; Soreness', '']\n",
      "['', '', 'Finney-Smith, Dorian', 'Questionable', 'Injury/Illness - Right Adductor; Strain', '', '']\n",
      "['', '', '', 'Green, Josh', 'Questionable', 'Injury/Illness - Right Elbow; Sprain', '']\n",
      "['', '', '', 'Hardaway Jr., Tim', 'Out', 'Injury/Illness - Left Ankle; Sprain', '']\n",
      "['', '', '', 'Kleber, Maxi', 'Out', 'Injury/Illness - Right Hamstring; Tear', '']\n",
      "['', '', '', 'Wright IV, McKinley', 'Out', 'Injury/Illness - Right Foot; Sprain', '']\n",
      "['', 'WAS@NYK', 'New York Knicks', 'Jeffries, DaQuan', 'Out', 'G League - Two-Way', '']\n",
      "['', '', '', 'Keels, Trevor', 'Out', 'G League - Two-Way', '']\n",
      "['', '', 'Washington Wizards', 'Beal, Bradley', 'Available', 'Injury/Illness - Left Hamstring; Left hamstring strain', '']\n",
      "['', '', '', 'Carey Jr., Vernon', 'Out', 'G League - On Assignment', '']\n",
      "['', '', '', 'Davis, Johnny', 'Out', 'G League - On Assignment', '']\n",
      "['', '', '', 'Todd, Isaiah', 'Out', 'G League - On Assignment', '']\n",
      "['08:00 (ET)', 'CHA@HOU', 'Charlotte Hornets', 'Bouknight, James', 'Out', 'G League - On Assignment', '']\n",
      "['', '', 'Hayward, Gordon', 'Doubtful', 'Injury/Illness - Left Hamstring; Soreness', '', '']\n",
      "['', '', 'Jones, Kai', 'Out', 'G League - On Assignment', '', '']\n",
      "['', '', 'Maledon, Theo', 'Out', 'G League - Two-Way', '', '']\n",
      "['', '', 'Martin, Cody', 'Doubtful', 'Injury/Illness - Left Knee; Soreness', '', '']\n",
      "['', '', 'Oubre Jr., Kelly', 'Out', 'Injury/Illness - Left Hand; Surgery', '', '']\n",
      "['', 'Houston Rockets', 'Days, Darius', 'Out', 'G League - Two-Way', '', '']\n",
      "['', '', 'Hudgins, Trevor', 'Out', 'G League - Two-Way', '', '']\n",
      "['', '', 'Porter Jr., Kevin', 'Questionable', 'Injury/Illness - Left Foot; Contusion', '', '']\n",
      "['CLE@MEM', 'Cleveland Cavaliers', 'Mitchell, Donovan', 'Out', 'Injury/Illness - Left Groin; Strain', '', '']\n",
      "['', 'Mobley, Isaiah', 'Out', 'G League - Two-Way', '', '', '']\n",
      "['', 'Wade, Dean', 'Out', 'Injury/Illness - Left Shoulder; Sprain', '', '', '']\n",
      "['', 'Windler, Dylan', 'Out', 'Injury/Illness - Right Ankle; Sprain', '', '', '']\n",
      "['Memphis Grizzlies', 'Chandler, Kennedy', 'Available', 'Injury/Illness - Nasal; Fracture / Face Mask', '', '', '']\n"
     ]
    }
   ],
   "source": []
  },
  {
   "cell_type": "code",
   "execution_count": 19,
   "metadata": {},
   "outputs": [],
   "source": [
    "a = test[0]"
   ]
  },
  {
   "cell_type": "code",
   "execution_count": 20,
   "metadata": {},
   "outputs": [
    {
     "name": "stdout",
     "output_type": "stream",
     "text": [
      "            Game Date            Game Time               Matchup  \\\n",
      "0          01/18/2023           07:30 (ET)               ATL@DAL   \n",
      "1                 NaN                  NaN      Dallas Mavericks   \n",
      "2                 NaN                  NaN  Finney-Smith, Dorian   \n",
      "3                 NaN                  NaN                   NaN   \n",
      "4                 NaN                  NaN                   NaN   \n",
      "5                 NaN                  NaN                   NaN   \n",
      "6                 NaN                  NaN                   NaN   \n",
      "7                 NaN              WAS@NYK       New York Knicks   \n",
      "8                 NaN                  NaN                   NaN   \n",
      "9                 NaN                  NaN    Washington Wizards   \n",
      "10                NaN                  NaN                   NaN   \n",
      "11                NaN                  NaN                   NaN   \n",
      "12                NaN                  NaN                   NaN   \n",
      "13         08:00 (ET)              CHA@HOU     Charlotte Hornets   \n",
      "14                NaN                  NaN       Hayward, Gordon   \n",
      "15                NaN                  NaN            Jones, Kai   \n",
      "16                NaN                  NaN         Maledon, Theo   \n",
      "17                NaN                  NaN          Martin, Cody   \n",
      "18                NaN                  NaN      Oubre Jr., Kelly   \n",
      "19                NaN      Houston Rockets          Days, Darius   \n",
      "20                NaN                  NaN       Hudgins, Trevor   \n",
      "21                NaN                  NaN     Porter Jr., Kevin   \n",
      "22            CLE@MEM  Cleveland Cavaliers     Mitchell, Donovan   \n",
      "23                NaN       Mobley, Isaiah                   Out   \n",
      "24                NaN           Wade, Dean                   Out   \n",
      "25                NaN       Windler, Dylan                   Out   \n",
      "26  Memphis Grizzlies    Chandler, Kennedy             Available   \n",
      "\n",
      "                                            Team  \\\n",
      "0                                  Atlanta Hawks   \n",
      "1                                   Doncic, Luka   \n",
      "2                                   Questionable   \n",
      "3                                    Green, Josh   \n",
      "4                              Hardaway Jr., Tim   \n",
      "5                                   Kleber, Maxi   \n",
      "6                            Wright IV, McKinley   \n",
      "7                               Jeffries, DaQuan   \n",
      "8                                  Keels, Trevor   \n",
      "9                                  Beal, Bradley   \n",
      "10                             Carey Jr., Vernon   \n",
      "11                                 Davis, Johnny   \n",
      "12                                  Todd, Isaiah   \n",
      "13                              Bouknight, James   \n",
      "14                                      Doubtful   \n",
      "15                                           Out   \n",
      "16                                           Out   \n",
      "17                                      Doubtful   \n",
      "18                                           Out   \n",
      "19                                           Out   \n",
      "20                                           Out   \n",
      "21                                  Questionable   \n",
      "22                                           Out   \n",
      "23                            G League - Two-Way   \n",
      "24        Injury/Illness - Left Shoulder; Sprain   \n",
      "25          Injury/Illness - Right Ankle; Sprain   \n",
      "26  Injury/Illness - Nasal; Fracture / Face Mask   \n",
      "\n",
      "                                  Player Name  \\\n",
      "0                           Williams, Donovan   \n",
      "1                                    Probable   \n",
      "2     Injury/Illness - Right Adductor; Strain   \n",
      "3                                Questionable   \n",
      "4                                         Out   \n",
      "5                                         Out   \n",
      "6                                         Out   \n",
      "7                                         Out   \n",
      "8                                         Out   \n",
      "9                                   Available   \n",
      "10                                        Out   \n",
      "11                                        Out   \n",
      "12                                        Out   \n",
      "13                                        Out   \n",
      "14  Injury/Illness - Left Hamstring; Soreness   \n",
      "15                   G League - On Assignment   \n",
      "16                         G League - Two-Way   \n",
      "17       Injury/Illness - Left Knee; Soreness   \n",
      "18        Injury/Illness - Left Hand; Surgery   \n",
      "19                         G League - Two-Way   \n",
      "20                         G League - Two-Way   \n",
      "21      Injury/Illness - Left Foot; Contusion   \n",
      "22        Injury/Illness - Left Groin; Strain   \n",
      "23                                        NaN   \n",
      "24                                        NaN   \n",
      "25                                        NaN   \n",
      "26                                        NaN   \n",
      "\n",
      "                                       Current Status              Reason  \n",
      "0                                                 Out  G League - Two-Way  \n",
      "1               Injury/Illness - Left Ankle; Soreness                 NaN  \n",
      "2                                                 NaN                 NaN  \n",
      "3                Injury/Illness - Right Elbow; Sprain                 NaN  \n",
      "4                 Injury/Illness - Left Ankle; Sprain                 NaN  \n",
      "5              Injury/Illness - Right Hamstring; Tear                 NaN  \n",
      "6                 Injury/Illness - Right Foot; Sprain                 NaN  \n",
      "7                                  G League - Two-Way                 NaN  \n",
      "8                                  G League - Two-Way                 NaN  \n",
      "9   Injury/Illness - Left Hamstring; Left hamstrin...                 NaN  \n",
      "10                           G League - On Assignment                 NaN  \n",
      "11                           G League - On Assignment                 NaN  \n",
      "12                           G League - On Assignment                 NaN  \n",
      "13                           G League - On Assignment                 NaN  \n",
      "14                                                NaN                 NaN  \n",
      "15                                                NaN                 NaN  \n",
      "16                                                NaN                 NaN  \n",
      "17                                                NaN                 NaN  \n",
      "18                                                NaN                 NaN  \n",
      "19                                                NaN                 NaN  \n",
      "20                                                NaN                 NaN  \n",
      "21                                                NaN                 NaN  \n",
      "22                                                NaN                 NaN  \n",
      "23                                                NaN                 NaN  \n",
      "24                                                NaN                 NaN  \n",
      "25                                                NaN                 NaN  \n",
      "26                                                NaN                 NaN  \n"
     ]
    }
   ],
   "source": [
    "print(a)"
   ]
  },
  {
   "cell_type": "code",
   "execution_count": 5,
   "metadata": {},
   "outputs": [],
   "source": [
    "a = requests.get(link)"
   ]
  },
  {
   "cell_type": "code",
   "execution_count": 7,
   "metadata": {},
   "outputs": [
    {
     "ename": "AttributeError",
     "evalue": "'Response' object has no attribute 'read'",
     "output_type": "error",
     "traceback": [
      "\u001b[0;31m---------------------------------------------------------------------------\u001b[0m",
      "\u001b[0;31mAttributeError\u001b[0m                            Traceback (most recent call last)",
      "Cell \u001b[0;32mIn[7], line 1\u001b[0m\n\u001b[0;32m----> 1\u001b[0m read_pdf(a\u001b[39m.\u001b[39;49mread())\n",
      "\u001b[0;31mAttributeError\u001b[0m: 'Response' object has no attribute 'read'"
     ]
    }
   ],
   "source": [
    "read_pdf(a.read())\n"
   ]
  },
  {
   "cell_type": "code",
   "execution_count": null,
   "metadata": {},
   "outputs": [],
   "source": []
  }
 ],
 "metadata": {
  "kernelspec": {
   "display_name": "ncaa",
   "language": "python",
   "name": "python3"
  },
  "language_info": {
   "codemirror_mode": {
    "name": "ipython",
    "version": 3
   },
   "file_extension": ".py",
   "mimetype": "text/x-python",
   "name": "python",
   "nbconvert_exporter": "python",
   "pygments_lexer": "ipython3",
   "version": "3.9.12"
  },
  "orig_nbformat": 4,
  "vscode": {
   "interpreter": {
    "hash": "bee5674010edb9cafde857bf6ed1f796045a81d354f601a762200feb8a30ef17"
   }
  }
 },
 "nbformat": 4,
 "nbformat_minor": 2
}
