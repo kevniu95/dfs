{
 "cells": [
  {
   "cell_type": "code",
   "execution_count": 11,
   "metadata": {},
   "outputs": [],
   "source": [
    "import sys\n",
    " \n",
    "# adding Folder_2 to the system path\n",
    "sys.path.insert(0, '../utils')\n",
    "\n",
    "from typing import Dict\n",
    "import argparse\n",
    "\n",
    "from config import Config\n",
    "from pgConnect import PgConnection\n",
    "from dfs_dao import Dfs_dao\n",
    "from requestLimiter import RequestLimiter\n",
    "from teamRosterReader import TeamRosterReader, learn_teams_from_summary\n",
    "from bs4 import BeautifulSoup\n",
    "from bs4.element import Tag\n",
    "import pandas as pd\n",
    "\n",
    "from bs4utils import get_ith_table"
   ]
  },
  {
   "cell_type": "code",
   "execution_count": 12,
   "metadata": {},
   "outputs": [
    {
     "name": "stdout",
     "output_type": "stream",
     "text": [
      "Connecting to the PostgreSQL database...\n",
      "In constructor...\n",
      "Successfully loaded previous Rate Limiter info for https://www.basketball-reference.com\n",
      "Initialized with 0 of 19 entries filled\n",
      "\n",
      "Saving RequestLimiter status to disk...\n"
     ]
    }
   ],
   "source": [
    "config : Config = Config()\n",
    "pgc : PgConnection = PgConnection(config)\n",
    "\n",
    "# reader \n",
    "read_constants : Dict[str, str] = config.parse_section('reader')\n",
    "BASE : str = read_constants['base']\n",
    "NAME : str = BASE[BASE.find('.') + 1:]\n",
    "\n",
    "# requestLimiter\n",
    "rl_constants : Dict[str, str] = config.parse_section('requestLimiter')\n",
    "load_loc = rl_constants['load_location']\n",
    "LOAD_FILE : str = f'{load_loc}{NAME}.p'\n",
    "INTERVAL : int = int(rl_constants['interval'])\n",
    "LIMIT : int = int(rl_constants['limit'])\n",
    "\n",
    "# # ======\n",
    "# # 2. Parse args\n",
    "# # ======\n",
    "# parser = argparse.ArgumentParser()\n",
    "# parser.add_argument(\"year\", help = \"Year of data to be added \")\n",
    "# args = parser.parse_args()\n",
    "# YEAR : int = int(args.year)\n",
    "\n",
    "rl : RequestLimiter = RequestLimiter(BASE, \n",
    "                    interval = INTERVAL, \n",
    "                    limit = LIMIT - 1, \n",
    "                    load = LOAD_FILE)"
   ]
  },
  {
   "cell_type": "code",
   "execution_count": 13,
   "metadata": {},
   "outputs": [
    {
     "name": "stdout",
     "output_type": "stream",
     "text": [
      "Successfully processed append to queue...\n",
      "Size of current queue... 1\n",
      "Saving RequestLimiter status to disk...\n"
     ]
    }
   ],
   "source": [
    "link = 'https://www.basketball-reference.com/draft/NBA_2022.html'\n",
    "res = rl.get(link, waitForPop = True)"
   ]
  },
  {
   "cell_type": "code",
   "execution_count": 17,
   "metadata": {},
   "outputs": [],
   "source": [
    "data = res.text\n",
    "soup : BeautifulSoup = BeautifulSoup(data, 'html.parser')\n",
    "soup\n",
    "table : Tag = get_ith_table(soup, 0, id = 'stats')"
   ]
  },
  {
   "cell_type": "code",
   "execution_count": 40,
   "metadata": {},
   "outputs": [],
   "source": [
    "thead = table.find('thead')\n",
    "data = []\n",
    "column_names = [th.text.strip() for th in thead.find_all('th')]\n",
    "column_names = column_names[column_names.index('Advanced') + 1:]\n",
    "had_link = set()\n",
    "\n",
    "for row in table.find_all(['tr']):\n",
    "    row_data = []\n",
    "    link_data = []\n",
    "    for num, td in enumerate(row.find_all(['td','th'])):\n",
    "        not_link = None\n",
    "        if ''.join(td.text.strip()):\n",
    "            not_link = ''.join(td.text.strip())\n",
    "        row_data.append(not_link)\n",
    "\n",
    "        if td.find('a'):\n",
    "            link = td.a['href']\n",
    "            link_data.append(link)\n",
    "            had_link.add(num)\n",
    "    data.append(row_data + link_data)\n",
    "data\n",
    "had_link = list(had_link)\n",
    "had_link.sort()\n",
    "for val in had_link:\n",
    "    column_names.append(column_names[val] + '_link')\n",
    "\n",
    "df = pd.DataFrame(data[2:], columns= column_names)\n",
    "my_res = df[['Pk', 'Tm', 'Player', 'College', 'Player_link']]\n",
    "# df"
   ]
  },
  {
   "cell_type": "code",
   "execution_count": 44,
   "metadata": {},
   "outputs": [
    {
     "data": {
      "text/plain": [
       "[('1', 'ORL', 'Paolo Banchero', 'Duke', '/players/b/banchpa01.html'),\n",
       " ('2', 'OKC', 'Chet Holmgren', 'Gonzaga', '/players/h/holmgch01.html'),\n",
       " ('3', 'HOU', 'Jabari Smith Jr.', 'Auburn', '/players/s/smithja05.html'),\n",
       " ('4', 'SAC', 'Keegan Murray', 'Iowa', '/players/m/murrake02.html'),\n",
       " ('5', 'DET', 'Jaden Ivey', 'Purdue', '/players/i/iveyja01.html'),\n",
       " ('6', 'IND', 'Bennedict Mathurin', 'Arizona', '/players/m/mathube01.html'),\n",
       " ('7', 'POR', 'Shaedon Sharpe', 'Kentucky', '/players/s/sharpsh01.html'),\n",
       " ('8', 'NOP', 'Dyson Daniels', None, '/players/d/daniedy01.html'),\n",
       " ('9', 'SAS', 'Jeremy Sochan', 'Baylor', '/players/s/sochaje01.html'),\n",
       " ('10', 'WAS', 'Johnny Davis', 'Wisconsin', '/players/d/davisjo06.html'),\n",
       " ('11', 'NYK', 'Ousmane Dieng', None, '/players/d/diengou01.html'),\n",
       " ('12', 'OKC', 'Jalen Williams', 'Santa Clara', '/players/w/willija06.html'),\n",
       " ('13', 'CHO', 'Jalen Duren', 'Memphis', '/players/d/durenja01.html'),\n",
       " ('14', 'CLE', 'Ochai Agbaji', 'Kansas', '/players/a/agbajoc01.html'),\n",
       " ('15', 'CHO', 'Mark Williams', 'Duke', '/players/w/willima07.html'),\n",
       " ('16', 'ATL', 'AJ Griffin', 'Duke', '/players/g/griffaj01.html'),\n",
       " ('17', 'HOU', 'Tari Eason', 'LSU', '/players/e/easonta01.html'),\n",
       " ('18', 'CHI', 'Dalen Terry', 'Arizona', '/players/t/terryda01.html'),\n",
       " ('19', 'MIN', 'Jake LaRavia', 'Wake Forest', '/players/l/laravja01.html'),\n",
       " ('20', 'SAS', 'Malaki Branham', 'Ohio State', '/players/b/branhma01.html'),\n",
       " ('21', 'DEN', 'Christian Braun', 'Kansas', '/players/b/braunch01.html'),\n",
       " ('22', 'MEM', 'Walker Kessler', 'Auburn', '/players/k/kesslwa01.html'),\n",
       " ('23', 'PHI', 'David Roddy', 'Colorado State', '/players/r/roddyda01.html'),\n",
       " ('24', 'MIL', 'MarJon Beauchamp', None, '/players/b/beaucma01.html'),\n",
       " ('25', 'SAS', 'Blake Wesley', 'Notre Dame', '/players/w/weslebl01.html'),\n",
       " ('26', 'DAL', 'Wendell Moore Jr.', 'Duke', '/players/m/moorewe01.html'),\n",
       " ('27', 'MIA', 'Nikola Jović', None, '/players/j/jovicni01.html'),\n",
       " ('28',\n",
       "  'GSW',\n",
       "  'Patrick Baldwin Jr.',\n",
       "  'UW-Milwaukee',\n",
       "  '/players/b/baldwpa01.html'),\n",
       " ('29', 'MEM', 'TyTy Washington Jr.', 'Kentucky', '/players/w/washity02.html'),\n",
       " ('30', 'OKC', 'Peyton Watson', 'UCLA', '/players/w/watsope01.html'),\n",
       " ('Pk', 'Tm', 'Player', 'College', None),\n",
       " ('31', 'IND', 'Andrew Nembhard', 'Gonzaga', '/players/n/nembhan01.html'),\n",
       " ('32', 'ORL', 'Caleb Houstan', 'Michigan', '/players/h/houstca01.html'),\n",
       " ('33', 'TOR', 'Christian Koloko', 'Arizona', '/players/k/kolokch01.html'),\n",
       " ('34', 'OKC', 'Jaylin Williams', 'Arkansas', '/players/w/willija07.html'),\n",
       " ('35', 'LAL', 'Max Christie', 'Michigan State', '/players/c/chrisma02.html'),\n",
       " ('36', 'POR', 'Gabriele Procida', None, '/players/p/prociga01.html'),\n",
       " ('37', 'SAC', 'Jaden Hardy', None, '/players/h/hardyja02.html'),\n",
       " ('38', 'SAS', 'Kennedy Chandler', 'Tennessee', '/players/c/chandke01.html'),\n",
       " ('39', 'CLE', 'Khalifa Diop', None, '/players/d/diopkh01.html'),\n",
       " ('40', 'MIN', 'Bryce McGowens', 'Nebraska', '/players/m/mcgowbr01.html'),\n",
       " ('41', 'NOP', 'E.J. Liddell', 'Ohio State', '/players/l/liddeej01.html'),\n",
       " ('42', 'NYK', 'Trevor Keels', 'Duke', '/players/k/keelstr01.html'),\n",
       " ('43', 'LAC', 'Moussa Diabaté', 'Michigan', '/players/d/diabamo01.html'),\n",
       " ('44', 'ATL', 'Ryan Rollins', 'Toledo', '/players/r/rolliry01.html'),\n",
       " ('45', 'CHO', 'Josh Minott', 'Memphis', '/players/m/minotjo01.html'),\n",
       " ('46', 'DET', 'Ismael Kamagate', None, '/players/k/kamagis01.html'),\n",
       " ('47', 'MEM', 'Vince Williams Jr.', 'VCU', '/players/w/willivi01.html'),\n",
       " ('48', 'MIN', 'Kendall Brown', 'Baylor', '/players/b/brownke03.html'),\n",
       " ('49', 'CLE', 'Isaiah Mobley', 'USC', '/players/m/mobleis01.html'),\n",
       " ('50', 'MIN', 'Matteo Spagnolo', None, '/players/s/spagnma01.html'),\n",
       " ('51', 'GSW', 'Tyrese Martin', 'UConn', '/players/m/martity01.html'),\n",
       " ('52', 'NOP', 'Karlo Matković', None, '/players/m/matkoka01.html'),\n",
       " ('53', 'BOS', 'JD Davison', 'Alabama', '/players/d/davisjd01.html'),\n",
       " ('54', 'WAS', 'Yannick Nzosa', None, '/players/n/nzosaya01.html'),\n",
       " ('55', 'GSW', 'Gui Santos', None, '/players/s/santogu01.html'),\n",
       " ('56', 'CLE', 'Luke Travers', None, '/players/t/travelu01.html'),\n",
       " ('57', 'POR', 'Jabari Walker', 'Colorado', '/players/w/walkeja01.html'),\n",
       " ('58', 'IND', 'Hugo Besson', None, '/players/b/bessohu01.html')]"
      ]
     },
     "execution_count": 44,
     "metadata": {},
     "output_type": "execute_result"
    }
   ],
   "source": [
    "rows = []\n",
    "for _, row in my_res.iterrows():\n",
    "    if row['Pk'] is not None:\n",
    "        out = (row['Pk'],\n",
    "                row['Tm'],\n",
    "                row['Player'],\n",
    "                row['College'],\n",
    "                row['Player_link'])\n",
    "        rows.append(out)\n",
    "rows"
   ]
  },
  {
   "cell_type": "code",
   "execution_count": null,
   "metadata": {},
   "outputs": [],
   "source": [
    "def process_player_table(self, table : Tag) -> pd.DataFrame:\n",
    "        \"\"\"\n",
    "        Takes HTML table and adds links before creating pd.DataFrame\n",
    "        \"\"\"\n",
    "        table = table\n",
    "        thead = table.find('thead')\n",
    "        data = []\n",
    "        column_names = [th.text.strip() for th in thead.find_all('th')]\n",
    "        had_link = set()\n",
    "        for row in table.find_all(['tr']):\n",
    "            row_data = []\n",
    "            link_data = []\n",
    "            for num, td in enumerate(row.find_all(['td','th'])):\n",
    "                not_link = None\n",
    "                if ''.join(td.text.strip()):\n",
    "                    not_link = ''.join(td.text.strip())\n",
    "                row_data.append(not_link)\n",
    "\n",
    "                if td.find('a'):\n",
    "                    link = td.a['href']\n",
    "                    link_data.append(link)\n",
    "                    had_link.add(num)\n",
    "            data.append(row_data + link_data)\n",
    "\n",
    "        had_link = list(had_link)\n",
    "        had_link.sort()\n",
    "        for val in had_link:\n",
    "            column_names.append(column_names[val] + '_link')\n",
    "\n",
    "        df = pd.DataFrame(data[1:], columns= column_names)\n",
    "        return df"
   ]
  }
 ],
 "metadata": {
  "kernelspec": {
   "display_name": "ncaa",
   "language": "python",
   "name": "python3"
  },
  "language_info": {
   "codemirror_mode": {
    "name": "ipython",
    "version": 3
   },
   "file_extension": ".py",
   "mimetype": "text/x-python",
   "name": "python",
   "nbconvert_exporter": "python",
   "pygments_lexer": "ipython3",
   "version": "3.9.12"
  },
  "orig_nbformat": 4,
  "vscode": {
   "interpreter": {
    "hash": "bee5674010edb9cafde857bf6ed1f796045a81d354f601a762200feb8a30ef17"
   }
  }
 },
 "nbformat": 4,
 "nbformat_minor": 2
}
