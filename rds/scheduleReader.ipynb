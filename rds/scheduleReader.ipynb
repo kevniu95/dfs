{
 "cells": [
  {
   "cell_type": "code",
   "execution_count": 1,
   "metadata": {},
   "outputs": [
    {
     "name": "stdout",
     "output_type": "stream",
     "text": [
      "In save function...\n",
      "In save function...\n",
      "In save function...\n"
     ]
    }
   ],
   "source": [
    "import sys\n",
    " \n",
    "# adding Folder_2 to the system path\n",
    "sys.path.insert(0, '../utils')\n",
    "\n",
    "from typing import Dict, List\n",
    "import argparse\n",
    "\n",
    "from config import Config\n",
    "from pgConnect import PgConnection\n",
    "from dfs_dao import Dfs_dao\n",
    "from requestLimiter import RequestLimiter\n",
    "from teamRosterReader import TeamRosterReader, learn_teams_from_summary\n",
    "from scheduleReader import BoxscoreReader, learn_schedule_from_month\n",
    "from bs4 import BeautifulSoup\n"
   ]
  },
  {
   "cell_type": "code",
   "execution_count": 2,
   "metadata": {},
   "outputs": [
    {
     "name": "stdout",
     "output_type": "stream",
     "text": [
      "Connecting to the PostgreSQL database...\n",
      "In constructor...\n",
      "Successfully loaded previous Rate Limiter info for https://www.basketball-reference.com\n",
      "Initialized with 0 of 19 entries filled\n",
      "\n",
      "Saving RequestLimiter status to disk...\n"
     ]
    }
   ],
   "source": [
    "# ======\n",
    "# 1. Read configs\n",
    "# ======\n",
    "config : Config = Config()\n",
    "pgc : PgConnection = PgConnection(config)\n",
    "\n",
    "# reader \n",
    "read_constants : Dict[str, str] = config.parse_section('reader')\n",
    "BASE : str = read_constants['base']\n",
    "NAME : str = BASE[BASE.find('.') + 1:]\n",
    "\n",
    "# requestLimiter\n",
    "rl_constants : Dict[str, str] = config.parse_section('requestLimiter')\n",
    "load_loc = rl_constants['load_location']\n",
    "LOAD_FILE : str = f'{load_loc}{NAME}.p'\n",
    "INTERVAL : int = int(rl_constants['interval'])\n",
    "LIMIT : int = int(rl_constants['limit'])\n",
    "\n",
    "# ======\n",
    "# 2. Parse args\n",
    "# ======\n",
    "YEAR : int = 2023\n",
    "\n",
    "rl : RequestLimiter = RequestLimiter(BASE, \n",
    "                    interval = INTERVAL, \n",
    "                    limit = LIMIT - 1, \n",
    "                    load = LOAD_FILE)\n",
    "trr : TeamRosterReader = TeamRosterReader(None, None, YEAR, rl)\n",
    "br : BoxscoreReader = BoxscoreReader(rl)\n",
    "dao : Dfs_dao = Dfs_dao(pgc)\n",
    "\n",
    "schedule_base = BASE + '/leagues/NBA_{}_games-{}.html'\n",
    "\n",
    "MONTHS : List[str] = ['october', \n",
    "            'november', \n",
    "            'december', \n",
    "            'january',\n",
    "            'february',\n",
    "            'march',\n",
    "            'april',\n",
    "            'may',\n",
    "            'june']"
   ]
  },
  {
   "cell_type": "code",
   "execution_count": 3,
   "metadata": {},
   "outputs": [],
   "source": [
    "from bs4utils import get_ith_table, read_ith_table\n",
    "from bs4.element import Tag\n",
    "import pandas as pd\n",
    "from typing import Tuple, Any"
   ]
  },
  {
   "cell_type": "code",
   "execution_count": 4,
   "metadata": {},
   "outputs": [],
   "source": [
    "\n",
    "# def get_all_info(soup : BeautifulSoup):\n",
    "#     \"\"\"\"\n",
    "#     Returns\n",
    "#         Tuple with 4 items\n",
    "#             - tm1_tuple, tm1_player_list (tuples)\n",
    "#             - tm2_tuple, tm2_player_list (tuples)\n",
    "#     \"\"\"\n",
    "#     tm1, tm2 = get_team_names(soup)\n",
    "#     tm1_inds = [0, 7] \n",
    "#     tm2_inds = [8, 15]\n",
    "    \n",
    "#     tm1_tup, tm1_players = process_team_tables(soup, tm1_inds)\n",
    "#     tm2_tup, tm2_players = process_team_tables(soup, tm2_inds)\n",
    "#     tm1_players = check_players(tm1_players)\n",
    "#     tm2_players = check_players(tm2_players)\n",
    "\n",
    "#     # Extra 0/1 represents away vs home\n",
    "#     tm1_tup = (tm1, '0') + tm1_tup\n",
    "#     tm2_tup = (tm2, '1') + tm2_tup\n",
    "\n",
    "#     return tm1_tup, tm1_players, tm2_tup, tm2_players\n",
    "\n",
    "# def get_team_names(soup : BeautifulSoup) -> Tuple[str, str]:\n",
    "#     tm1 : str = soup.find_all('strong')[1].text.strip()\n",
    "#     tm2 : str = soup.find_all('strong')[2].text.strip()\n",
    "#     return tm1, tm2\n",
    "\n",
    "\n",
    "def process_team_tables(soup : BeautifulSoup, inds : List[int]):\n",
    "    tmTup = ()\n",
    "    playerTups : List[Tuple[Any, ...]] = []\n",
    "    for ind in inds:\n",
    "        df = read_ith_table(soup, ind)\n",
    "        df.columns = df.columns.droplevel()\n",
    "        tmTup += _get_tm_info(df)\n",
    "        playerTups = _get_player_tuples(df, playerTups)\n",
    "    return tmTup, playerTups\n",
    "\n",
    "\n",
    "def check_players(players : List[Tuple[Any,...]]) -> List[Tuple[Any,...]]:\n",
    "    new_players = []\n",
    "    for p in players:\n",
    "        p = list(p)\n",
    "        assert p[0] == p[21]\n",
    "        p.pop(21)\n",
    "        p.pop(21)\n",
    "        new_players.append(tuple(p))\n",
    "    return new_players\n",
    "        \n",
    "\n",
    "def _get_tm_info(df : pd.DataFrame) -> Tuple[Any, ...]:\n",
    "    last_row = df.iloc[-1, :]\n",
    "    assert last_row['Starters'] == 'Team Totals'\n",
    "    tup = tuple(list(last_row)[2:-1])\n",
    "    return tup\n",
    "\n",
    "\n",
    "def _get_minutes(mins : str) -> float:\n",
    "    mins, seconds = mins.split(':')\n",
    "    return str(round(float(mins) + float(seconds) / 60,2))\n",
    "\n",
    "def _get_player_tuples(df : pd.DataFrame(), playerTups : List[Tuple[Any,...]]) -> Tuple[Any, ...]:\n",
    "    player_df = df[~df['MP'].isin(['Did Not Play', '240', 'MP'])].reset_index()\n",
    "    for num, row in player_df.iterrows():\n",
    "        player_list : List[Any] = list(row)[1:]\n",
    "        player_list[1] = _get_minutes(player_list[1])\n",
    "        player_tup = tuple(player_list)\n",
    "        if len(playerTups) <= num:\n",
    "            playerTups.append(player_tup)\n",
    "        else:\n",
    "            playerTups[num] = playerTups[num] + player_tup    \n",
    "    return playerTups"
   ]
  },
  {
   "cell_type": "code",
   "execution_count": 5,
   "metadata": {},
   "outputs": [
    {
     "name": "stdout",
     "output_type": "stream",
     "text": [
      "Successfully processed append to queue...\n",
      "Size of current queue... 1\n",
      "Saving RequestLimiter status to disk...\n",
      "Successfully processed append to queue...\n",
      "Size of current queue... 2\n",
      "Saving RequestLimiter status to disk...\n",
      "Committed team_box insertion!\n",
      "INSERT INTO player_box VALUES ('Tue, Oct 18, 2022','19:30:00','Philadelphia 76ers','Boston Celtics','Tyrese Maxey','38.18','8','16','.500','2','5','.400','3','3','1.000','0','1','1','2','2','0','1','5','21','-6','.606','.563','.313','.188','0.0','3.8','1.9','8.4','2.6','0.0','5.5','21.7','118','129','-0.9'),('Tue, Oct 18, 2022','19:30:00','Philadelphia 76ers','Boston Celtics','James Harden','37.28','9','14','.643','5','9','.556','12','12','1.000','0','8','8','7','0','0','3','3','35','+1','.908','.821','.643','.857','0.0','31.2','15.4','31.7','0.0','0.0','13.5','27.0','165','132','14.5'),('Tue, Oct 18, 2022','19:30:00','Philadelphia 76ers','Boston Celtics','Joel Embiid','37.27','9','18','.500','1','6','.167','7','9','.778','1','14','15','5','0','1','6','4','26','-13','.592','.528','.333','.500','3.8','54.6','28.8','22.7','0.0','2.7','21.5','33.9','103','127','-0.5'),('Tue, Oct 18, 2022','19:30:00','Philadelphia 76ers','Boston Celtics','Tobias Harris','34.23','7','14','.500','3','6','.500','1','2','.500','1','1','2','0','3','0','0','3','18','-1','.605','.607','.429','.143','4.1','4.2','4.2','0.0','4.3','0.0','0.0','19.6','122','125','2.6'),('Tue, Oct 18, 2022','19:30:00','Philadelphia 76ers','Boston Celtics','P.J. Tucker','33.02','3','5','.600','0','2','.000','0','0','NaN'::float,'2','2','4','0','0','1','2','2','6','-6','.600','.600','.400','.000','8.6','8.8','8.7','0.0','0.0','3.1','28.6','9.6','98','132','-4.3'),('Tue, Oct 18, 2022','19:30:00','Philadelphia 76ers','Boston Celtics','De''Anthony Melton','20.55','2','4','.500','1','2','.500','0','0','NaN'::float,'0','0','0','0','1','0','0','2','5','-13','.625','.625','.500','.000','0.0','0.0','0.0','0.0','2.4','0.0','0.0','8.8','122','130','-2.3'),('Tue, Oct 18, 2022','19:30:00','Philadelphia 76ers','Boston Celtics','Danuel House Jr.','16.2','0','2','.000','0','1','.000','1','2','.500','0','1','1','1','2','0','1','2','1','-5','.174','.000','.500','1.000','0.0','9.0','4.4','7.4','6.0','0.0','25.8','10.8','43','121','-5.5'),('Tue, Oct 18, 2022','19:30:00','Philadelphia 76ers','Boston Celtics','Georges Niang','12.15','1','4','.250','1','3','.333','0','0','NaN'::float,'0','0','0','1','0','0','0','1','3','-5','.375','.375','.750','.000','0.0','0.0','0.0','11.0','0.0','0.0','0.0','14.9','88','136','-6.9'),('Tue, Oct 18, 2022','19:30:00','Philadelphia 76ers','Boston Celtics','Montrezl Harrell','10.73','1','3','.333','0','0','NaN'::float,'0','0','NaN'::float,'0','0','0','0','0','1','1','3','2','+4','.333','.333','.000','.000','0.0','0.0','0.0','0.0','0.0','9.5','25.0','16.8','49','128','-16.4'),('Tue, Oct 18, 2022','19:30:00','Philadelphia 76ers','Boston Celtics','Matisse Thybulle','0.38','0','0','NaN'::float,'0','0','NaN'::float,'0','0','NaN'::float,'0','0','0','0','0','0','0','0','0','-1','NaN'::float,'NaN'::float,'NaN'::float,'NaN'::float,'0.0','0.0','0.0','0.0','0.0','0.0','NaN'::float,'0.0','0','136','-4.0') ON CONFLICT (game_date, game_time, tm1, tm2, player_name) DO NOTHING\n",
      "Committed player_box insertion!\n",
      "INSERT INTO player_box VALUES ('Tue, Oct 18, 2022','19:30:00','Boston Celtics','Philadelphia 76ers','Jayson Tatum','38.63','13','20','.650','2','7','.286','7','9','.778','0','12','12','4','1','1','3','1','35','+10','.730','.700','.350','.450','0.0','43.9','22.3','16.7','1.3','2.7','11.1','32.1','133','116','9.2'),('Tue, Oct 18, 2022','19:30:00','Boston Celtics','Philadelphia 76ers','Jaylen Brown','38.57','14','24','.583','4','12','.333','3','3','1.000','0','3','3','2','2','1','4','1','35','+7','.691','.667','.500','.125','0.0','11.0','5.6','8.7','2.5','2.7','13.6','35.0','117','116','4.8'),('Tue, Oct 18, 2022','19:30:00','Boston Celtics','Philadelphia 76ers','Marcus Smart','36.08','3','8','.375','1','4','.250','7','8','.875','1','2','3','7','1','0','1','3','14','0','.608','.438','.500','1.000','4.0','7.8','6.0','22.2','1.4','0.0','8.0','16.0','140','122','0.4'),('Tue, Oct 18, 2022','19:30:00','Boston Celtics','Philadelphia 76ers','Derrick White','24.03','1','3','.333','0','1','.000','0','1','.000','1','2','3','4','1','0','1','2','2','+9','.291','.333','.333','.333','6.1','11.7','8.9','18.2','2.0','0.0','22.5','8.5','100','120','-2.8'),('Tue, Oct 18, 2022','19:30:00','Boston Celtics','Philadelphia 76ers','Al Horford','23.1','2','7','.286','2','5','.400','0','0','NaN'::float,'1','4','5','1','0','0','0','4','6','+8','.429','.429','.714','.000','6.3','24.4','15.5','5.0','0.0','0.0','0.0','13.9','104','123','-6.7'),('Tue, Oct 18, 2022','19:30:00','Boston Celtics','Philadelphia 76ers','Grant Williams','23.95','5','5','1.000','3','3','1.000','2','3','.667','0','1','1','1','0','0','0','3','15','-3','1.187','1.300','.600','.600','0.0','5.9','3.0','5.6','0.0','0.0','0.0','12.1','233','125','10.3'),('Tue, Oct 18, 2022','19:30:00','Boston Celtics','Philadelphia 76ers','Malcolm Brogdon','23.87','7','11','.636','0','2','.000','2','2','1.000','1','1','2','4','2','0','1','2','16','+9','.673','.636','.182','.182','6.1','5.9','6.0','25.2','4.1','0.0','7.8','24.8','138','116','7.1'),('Tue, Oct 18, 2022','19:30:00','Boston Celtics','Philadelphia 76ers','Noah Vonleh','20.17','1','2','.500','0','0','NaN'::float,'0','0','NaN'::float,'0','2','2','0','1','1','0','4','2','+7','.500','.500','.000','.000','0.0','14.0','7.1','0.0','2.4','5.2','0.0','4.6','101','114','-3.1'),('Tue, Oct 18, 2022','19:30:00','Boston Celtics','Philadelphia 76ers','Blake Griffin','8.28','0','2','.000','0','1','.000','1','2','.500','2','3','5','1','0','0','0','3','1','-5','.174','.000','.500','1.000','35.1','51.1','43.2','12.6','0.0','0.0','0.0','16.0','103','120','-11.9'),('Tue, Oct 18, 2022','19:30:00','Boston Celtics','Philadelphia 76ers','Sam Hauser','3.32','0','0','NaN'::float,'0','0','NaN'::float,'0','0','NaN'::float,'0','0','0','0','0','0','0','1','0','+3','NaN'::float,'NaN'::float,'NaN'::float,'NaN'::float,'0.0','0.0','0.0','0.0','0.0','0.0','NaN'::float,'0.0','0','125','-10.4') ON CONFLICT (game_date, game_time, tm1, tm2, player_name) DO NOTHING\n",
      "Committed player_box insertion!\n"
     ]
    }
   ],
   "source": [
    "def process_time(tim : str):\n",
    "    tim_list = tim.split(':')\n",
    "    \n",
    "    tim_list[1] = tim_list[1][:-1]\n",
    "    if 'p' in tim:\n",
    "        tim_list[0] = int(tim_list[0]) + 12\n",
    "    tim_list.append('00')\n",
    "    tim_str = ':'.join([str(i) for i in tim_list])\n",
    "    return tim_str\n",
    "\n",
    "\n",
    "def update_player_tups(game_info : Tuple[Any,...], \n",
    "                        player_tups : List[Tuple[Any,...]], \n",
    "                        tm1 : str, \n",
    "                        tm2 : str) -> List[Tuple[Any,...]]:\n",
    "    for i in range(len(player_tups)):\n",
    "        res = game_info + (tm1, tm2) + player_tups[i]\n",
    "        player_tups[i] = res\n",
    "    return player_tups"
   ]
  },
  {
   "cell_type": "code",
   "execution_count": null,
   "metadata": {},
   "outputs": [],
   "source": [
    "for month in MONTHS[:1]:\n",
    "    link = schedule_base.format(YEAR, month)\n",
    "    df = learn_schedule_from_month(link, rl)\n",
    "    ctr = 0\n",
    "    for num, row in df.iterrows():\n",
    "        link = BASE + row['game_link']\n",
    "        br.set_link(link)\n",
    "        soup : BeautifulSoup  = br.get_soup()\n",
    "        tm1_tuple, tm1_players, tm2_tuple,tm2_players = get_all_info(soup)\n",
    "        \n",
    "        game_info = (row['Date'], process_time(row['Start (ET)']), str(row['Attend.']), row['Arena']) \n",
    "        game_entry1 = game_info + tm1_tuple + tm2_tuple\n",
    "        game_entry2 = game_info + tm2_tuple + tm1_tuple\n",
    "\n",
    "        tm1 = game_entry1[4]\n",
    "        tm2 = game_entry2[4]\n",
    "\n",
    "        tm1_players = update_player_tups(game_info[:2], tm1_players, tm1, tm2)\n",
    "        tm2_players = update_player_tups(game_info[:2], tm2_players, tm2, tm1)\n",
    "        \n",
    "        dao.team_box_to_db([game_entry1, game_entry2])\n",
    "        dao.player_box_to_db(tm1_players)\n",
    "        dao.player_box_to_db(tm2_players)\n",
    "\n",
    "        ctr += 1\n",
    "        if ctr > 0:\n",
    "            break"
   ]
  },
  {
   "cell_type": "code",
   "execution_count": 39,
   "metadata": {},
   "outputs": [
    {
     "name": "stdout",
     "output_type": "stream",
     "text": [
      "[('Tyrese Maxey', '38.18', '8', '16', '.500', '2', '5', '.400', '3', '3', '1.000', '0', '1', '1', '2', '2', '0', '1', '5', '21', '-6', '.606', '.563', '.313', '.188', '0.0', '3.8', '1.9', '8.4', '2.6', '0.0', '5.5', '21.7', '118', '129', '-0.9'), ('James Harden', '37.28', '9', '14', '.643', '5', '9', '.556', '12', '12', '1.000', '0', '8', '8', '7', '0', '0', '3', '3', '35', '+1', '.908', '.821', '.643', '.857', '0.0', '31.2', '15.4', '31.7', '0.0', '0.0', '13.5', '27.0', '165', '132', '14.5'), ('Joel Embiid', '37.27', '9', '18', '.500', '1', '6', '.167', '7', '9', '.778', '1', '14', '15', '5', '0', '1', '6', '4', '26', '-13', '.592', '.528', '.333', '.500', '3.8', '54.6', '28.8', '22.7', '0.0', '2.7', '21.5', '33.9', '103', '127', '-0.5'), ('Tobias Harris', '34.23', '7', '14', '.500', '3', '6', '.500', '1', '2', '.500', '1', '1', '2', '0', '3', '0', '0', '3', '18', '-1', '.605', '.607', '.429', '.143', '4.1', '4.2', '4.2', '0.0', '4.3', '0.0', '0.0', '19.6', '122', '125', '2.6'), ('P.J. Tucker', '33.02', '3', '5', '.600', '0', '2', '.000', '0', '0', nan, '2', '2', '4', '0', '0', '1', '2', '2', '6', '-6', '.600', '.600', '.400', '.000', '8.6', '8.8', '8.7', '0.0', '0.0', '3.1', '28.6', '9.6', '98', '132', '-4.3'), (\"De'Anthony Melton\", '20.55', '2', '4', '.500', '1', '2', '.500', '0', '0', nan, '0', '0', '0', '0', '1', '0', '0', '2', '5', '-13', '.625', '.625', '.500', '.000', '0.0', '0.0', '0.0', '0.0', '2.4', '0.0', '0.0', '8.8', '122', '130', '-2.3'), ('Danuel House Jr.', '16.2', '0', '2', '.000', '0', '1', '.000', '1', '2', '.500', '0', '1', '1', '1', '2', '0', '1', '2', '1', '-5', '.174', '.000', '.500', '1.000', '0.0', '9.0', '4.4', '7.4', '6.0', '0.0', '25.8', '10.8', '43', '121', '-5.5'), ('Georges Niang', '12.15', '1', '4', '.250', '1', '3', '.333', '0', '0', nan, '0', '0', '0', '1', '0', '0', '0', '1', '3', '-5', '.375', '.375', '.750', '.000', '0.0', '0.0', '0.0', '11.0', '0.0', '0.0', '0.0', '14.9', '88', '136', '-6.9'), ('Montrezl Harrell', '10.73', '1', '3', '.333', '0', '0', nan, '0', '0', nan, '0', '0', '0', '0', '0', '1', '1', '3', '2', '+4', '.333', '.333', '.000', '.000', '0.0', '0.0', '0.0', '0.0', '0.0', '9.5', '25.0', '16.8', '49', '128', '-16.4'), ('Matisse Thybulle', '0.38', '0', '0', nan, '0', '0', nan, '0', '0', nan, '0', '0', '0', '0', '0', '0', '0', '0', '0', '-1', nan, nan, nan, nan, '0.0', '0.0', '0.0', '0.0', '0.0', '0.0', nan, '0.0', '0', '136', '-4.0')]\n"
     ]
    }
   ],
   "source": [
    "tm1_tuple, tm1_players, tm2_tuple,tm2_players = get_all_info(soup)\n",
    "        \n",
    "game_info = (row['Date'], process_time(row['Start (ET)']), str(row['Attend.']), row['Arena']) \n",
    "game_entry1 = game_info + tm1_tuple + tm2_tuple\n",
    "game_entry2 = game_info + tm2_tuple + tm1_tuple\n",
    "# print(game_entry1)\n",
    "print(tm1_players)"
   ]
  },
  {
   "cell_type": "code",
   "execution_count": 8,
   "metadata": {},
   "outputs": [
    {
     "name": "stdout",
     "output_type": "stream",
     "text": [
      "Committed team_box insertion!\n"
     ]
    }
   ],
   "source": [
    "args = dao.cur.mogrify(\"(%s,%s,%s,%s,%s,%s,%s,%s,%s,%s,\"\\\n",
    "                    \"%s,%s,%s,%s,%s,%s,%s,%s,%s,%s,\"\\\n",
    "                    \"%s,%s,%s,%s,%s,%s,%s,%s,%s,%s,\"\\\n",
    "                    \"%s,%s,%s,%s,%s,%s,%s,%s,%s,%s,\"\\\n",
    "                    \"%s,%s,%s,%s,%s,%s,%s,%s,%s,%s,\"\\\n",
    "                    \"%s,%s,%s,%s,%s,%s,%s,%s,%s,%s,\"\\\n",
    "                    \"%s,%s,%s,%s,%s,%s,%s,%s,%s,%s,%s,%s\"\\\n",
    "                    \")\",\n",
    "                    game_entry1).decode('utf-8')\n",
    "qry = \"INSERT INTO team_box VALUES \" + (args) + \" ON CONFLICT \"\\\n",
    "                \"(game_date, game_time, tm1, tm2) DO NOTHING\"\n",
    "dao._try_insertion(qry, 'team_box')"
   ]
  },
  {
   "cell_type": "code",
   "execution_count": 52,
   "metadata": {},
   "outputs": [
    {
     "data": {
      "text/plain": [
       "\"('Tue, Oct 18, 2022','7:30p','19156','TD Garden','Philadelphia 76ers',0,'40','80','.500','13''34','.382','24','28','.857','4','27','31','16','8''3','14','25','117','.634','.581','.425','.350','11.8','81.8''46.3','40.0','8.1','6.4','13.2','100.0','119.2','128.3','Boston Celtics',1'46','82','.561','12','35','.343','22','28','.786','6''30','36','24','8','3','10','24','126','.668','.634''.427','.341','18.2','88.2','53.7','52.2','8.1','6.5','9.6','100.0','128.3','119.2')\""
      ]
     },
     "execution_count": 52,
     "metadata": {},
     "output_type": "execute_result"
    }
   ],
   "source": [
    "# cur.mogrify(\"(%s,%s,%s,%s,%s,%s,%s,%s,%s,%s\"\\\n",
    "#                         \"%s,%s,%s,%s,%s,%s,%s,%s,%s,%s\"\\\n",
    "#                         \"%s,%s,%s,%s,%s,%s,%s,%s,%s,%s\"\\\n",
    "#                         \"%s,%s,%s,%s,%s,%s,%s,%s,%s,%s\"\\\n",
    "#                         \"%s,%s,%s,%s,%s,%s,%s,%s,%s,%s\"\\\n",
    "#                         \"%s,%s,%s,%s,%s,%s,%s,%s,%s,%s\"\\\n",
    "#                         \"%s,%s,%s,%s,%s,%s,%s,%s,%s,%s)\",\n",
    "#                         i).decode('utf-8') \n"
   ]
  },
  {
   "cell_type": "code",
   "execution_count": 104,
   "metadata": {},
   "outputs": [
    {
     "data": {
      "text/plain": [
       "Starters    Team Totals\n",
       "MP                  240\n",
       "TS%                .668\n",
       "eFG%               .634\n",
       "3PAr               .427\n",
       "FTr                .341\n",
       "ORB%               18.2\n",
       "DRB%               88.2\n",
       "TRB%               53.7\n",
       "AST%               52.2\n",
       "STL%                8.1\n",
       "BLK%                6.5\n",
       "TOV%                9.6\n",
       "USG%              100.0\n",
       "ORtg              128.3\n",
       "DRtg              119.2\n",
       "BPM                 NaN\n",
       "Name: 16, dtype: object"
      ]
     },
     "execution_count": 104,
     "metadata": {},
     "output_type": "execute_result"
    }
   ],
   "source": [
    "# a.columns = a.columns.droplevel()\n",
    "a.iloc[-1, :]"
   ]
  },
  {
   "cell_type": "code",
   "execution_count": 15,
   "metadata": {},
   "outputs": [
    {
     "name": "stdout",
     "output_type": "stream",
     "text": [
      "No table found on this HTML page!\n"
     ]
    }
   ],
   "source": [
    "read_ith_table(soup, 0, id = 'div_line_score')"
   ]
  },
  {
   "cell_type": "code",
   "execution_count": 13,
   "metadata": {},
   "outputs": [
    {
     "data": {
      "text/plain": [
       "[]"
      ]
     },
     "execution_count": 13,
     "metadata": {},
     "output_type": "execute_result"
    }
   ],
   "source": [
    "soup.find_all('table', id = 'line_score')"
   ]
  },
  {
   "cell_type": "code",
   "execution_count": null,
   "metadata": {},
   "outputs": [],
   "source": []
  }
 ],
 "metadata": {
  "kernelspec": {
   "display_name": "ncaa",
   "language": "python",
   "name": "python3"
  },
  "language_info": {
   "codemirror_mode": {
    "name": "ipython",
    "version": 3
   },
   "file_extension": ".py",
   "mimetype": "text/x-python",
   "name": "python",
   "nbconvert_exporter": "python",
   "pygments_lexer": "ipython3",
   "version": "3.9.12"
  },
  "orig_nbformat": 4,
  "vscode": {
   "interpreter": {
    "hash": "bee5674010edb9cafde857bf6ed1f796045a81d354f601a762200feb8a30ef17"
   }
  }
 },
 "nbformat": 4,
 "nbformat_minor": 2
}
