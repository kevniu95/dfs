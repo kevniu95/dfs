{
 "cells": [
  {
   "cell_type": "code",
   "execution_count": 3,
   "metadata": {},
   "outputs": [
    {
     "name": "stdout",
     "output_type": "stream",
     "text": [
      "In constructor...\n",
      "Successfully loaded previous Rate Limiter info for https://www.espn.com\n",
      "Initialized with 0 of 20 entries filled\n",
      "\n",
      "Saving RequestLimiter status to disk...\n",
      "True\n",
      "You're about to go over the limt. Because you specified waitForPop, will wait for front of queue to pop.\n",
      "I'm going to sleep for 0 - see ya!\n",
      "Wow, just woke up after sleeping for 0 - feeling refreshed!\n",
      "Successfully processed append to queue...\n",
      "Size of current queue... 1\n",
      "Saving RequestLimiter status to disk...\n",
      "True\n",
      "You're about to go over the limt. Because you specified waitForPop, will wait for front of queue to pop.\n",
      "I'm going to sleep for 58.995604038238525 - see ya!\n"
     ]
    },
    {
     "ename": "KeyboardInterrupt",
     "evalue": "",
     "output_type": "error",
     "traceback": [
      "\u001b[0;31m---------------------------------------------------------------------------\u001b[0m",
      "\u001b[0;31mKeyboardInterrupt\u001b[0m                         Traceback (most recent call last)",
      "\u001b[1;32m/Users/kniu91/Documents/Kevin's Folders/Projects/dfs/rds/test.ipynb Cell 1\u001b[0m in \u001b[0;36m<cell line: 11>\u001b[0;34m()\u001b[0m\n\u001b[1;32m     <a href='vscode-notebook-cell:/Users/kniu91/Documents/Kevin%27s%20Folders/Projects/dfs/rds/test.ipynb#W0sZmlsZQ%3D%3D?line=10'>11</a>\u001b[0m \u001b[39mfor\u001b[39;00m i \u001b[39min\u001b[39;00m \u001b[39mrange\u001b[39m(\u001b[39m20\u001b[39m):\n\u001b[1;32m     <a href='vscode-notebook-cell:/Users/kniu91/Documents/Kevin%27s%20Folders/Projects/dfs/rds/test.ipynb#W0sZmlsZQ%3D%3D?line=11'>12</a>\u001b[0m     time\u001b[39m.\u001b[39msleep(\u001b[39m1\u001b[39m)\n\u001b[0;32m---> <a href='vscode-notebook-cell:/Users/kniu91/Documents/Kevin%27s%20Folders/Projects/dfs/rds/test.ipynb#W0sZmlsZQ%3D%3D?line=12'>13</a>\u001b[0m     rl\u001b[39m.\u001b[39;49mget(\u001b[39m'\u001b[39;49m\u001b[39mhttps://www.espn.com\u001b[39;49m\u001b[39m'\u001b[39;49m, waitForPop \u001b[39m=\u001b[39;49m \u001b[39mTrue\u001b[39;49;00m)\n",
      "File \u001b[0;32m~/Documents/Kevin's Folders/Projects/dfs/rds/requestLimiter.py:39\u001b[0m, in \u001b[0;36mRequestLimiter.popAccesses.<locals>.wrapper\u001b[0;34m(self, *args, **kwargs)\u001b[0m\n\u001b[1;32m     37\u001b[0m \u001b[39mdef\u001b[39;00m \u001b[39mwrapper\u001b[39m(\u001b[39mself\u001b[39m, \u001b[39m*\u001b[39margs, \u001b[39m*\u001b[39m\u001b[39m*\u001b[39mkwargs):\n\u001b[1;32m     38\u001b[0m     \u001b[39mself\u001b[39m\u001b[39m.\u001b[39m_popAccesses()\n\u001b[0;32m---> 39\u001b[0m     result \u001b[39m=\u001b[39m func(\u001b[39mself\u001b[39;49m, \u001b[39m*\u001b[39;49margs, \u001b[39m*\u001b[39;49m\u001b[39m*\u001b[39;49mkwargs)\n\u001b[1;32m     40\u001b[0m     \u001b[39mreturn\u001b[39;00m result\n",
      "File \u001b[0;32m~/Documents/Kevin's Folders/Projects/dfs/rds/requestLimiter.py:31\u001b[0m, in \u001b[0;36mRequestLimiter.save.<locals>.wrapper\u001b[0;34m(self, *args, **kwargs)\u001b[0m\n\u001b[1;32m     30\u001b[0m \u001b[39mdef\u001b[39;00m \u001b[39mwrapper\u001b[39m(\u001b[39mself\u001b[39m, \u001b[39m*\u001b[39margs, \u001b[39m*\u001b[39m\u001b[39m*\u001b[39mkwargs):\n\u001b[0;32m---> 31\u001b[0m     result \u001b[39m=\u001b[39m func(\u001b[39mself\u001b[39;49m, \u001b[39m*\u001b[39;49margs, \u001b[39m*\u001b[39;49m\u001b[39m*\u001b[39;49mkwargs)\n\u001b[1;32m     32\u001b[0m     \u001b[39mself\u001b[39m\u001b[39m.\u001b[39m_save()\n\u001b[1;32m     33\u001b[0m     \u001b[39mreturn\u001b[39;00m result\n",
      "File \u001b[0;32m~/Documents/Kevin's Folders/Projects/dfs/rds/requestLimiter.py:84\u001b[0m, in \u001b[0;36mRequestLimiter.get\u001b[0;34m(self, link, request, waitForPop)\u001b[0m\n\u001b[1;32m     81\u001b[0m \u001b[39mif\u001b[39;00m \u001b[39mself\u001b[39m\u001b[39m.\u001b[39mfull \u001b[39mand\u001b[39;00m waitForPop:\n\u001b[1;32m     82\u001b[0m     \u001b[39mprint\u001b[39m(\u001b[39m\"\u001b[39m\u001b[39mYou\u001b[39m\u001b[39m'\u001b[39m\u001b[39mre about to go over the limt. Because you specified waitForPop, will wait for\u001b[39m\u001b[39m\"\u001b[39m\\\n\u001b[1;32m     83\u001b[0m             \u001b[39m\"\u001b[39m\u001b[39m front of queue to pop.\u001b[39m\u001b[39m\"\u001b[39m)\n\u001b[0;32m---> 84\u001b[0m     \u001b[39mself\u001b[39;49m\u001b[39m.\u001b[39;49m_wait_for_pop_time()\n\u001b[1;32m     85\u001b[0m res \u001b[39m=\u001b[39m request(link)\n\u001b[1;32m     86\u001b[0m \u001b[39mself\u001b[39m\u001b[39m.\u001b[39m_appendAccess()\n",
      "File \u001b[0;32m~/Documents/Kevin's Folders/Projects/dfs/rds/requestLimiter.py:110\u001b[0m, in \u001b[0;36mRequestLimiter._wait_for_pop_time\u001b[0;34m(self)\u001b[0m\n\u001b[1;32m    108\u001b[0m pop_time : \u001b[39mfloat\u001b[39m\u001b[39m=\u001b[39m \u001b[39mself\u001b[39m\u001b[39m.\u001b[39m_get_pop_time()\n\u001b[1;32m    109\u001b[0m \u001b[39mprint\u001b[39m(\u001b[39mf\u001b[39m\u001b[39m\"\u001b[39m\u001b[39mI\u001b[39m\u001b[39m'\u001b[39m\u001b[39mm going to sleep for \u001b[39m\u001b[39m{\u001b[39;00mpop_time\u001b[39m}\u001b[39;00m\u001b[39m - see ya!\u001b[39m\u001b[39m\"\u001b[39m)\n\u001b[0;32m--> 110\u001b[0m time\u001b[39m.\u001b[39;49msleep(pop_time)\n\u001b[1;32m    111\u001b[0m \u001b[39mprint\u001b[39m(\u001b[39mf\u001b[39m\u001b[39m\"\u001b[39m\u001b[39mWow, just woke up after sleeping for \u001b[39m\u001b[39m{\u001b[39;00mpop_time\u001b[39m}\u001b[39;00m\u001b[39m - feeling refreshed!\u001b[39m\u001b[39m\"\u001b[39m)\n\u001b[1;32m    112\u001b[0m \u001b[39mreturn\u001b[39;00m\n",
      "\u001b[0;31mKeyboardInterrupt\u001b[0m: "
     ]
    }
   ],
   "source": [
    "import time\n",
    "import requests\n",
    "from requestLimiter import RequestLimiter\n",
    "\n",
    "rl = RequestLimiter(base_link = 'https://www.espn.com' ,\n",
    "                    interval = 60, # in seconds\n",
    "                    limit  = 20, \n",
    "                    load  = './data/rl/espn.com.p')\n",
    "\n",
    "import time\n",
    "for i in range(20):\n",
    "    time.sleep(1)   \n",
    "    rl.get('https://www.espn.com', waitForPop = True)"
   ]
  },
  {
   "cell_type": "code",
   "execution_count": 15,
   "metadata": {},
   "outputs": [
    {
     "name": "stdout",
     "output_type": "stream",
     "text": [
      "Successfully loaded previous Rate Limiter info for https://www.espn.com\n"
     ]
    },
    {
     "ename": "TypeError",
     "evalue": "'>' not supported between instances of 'method' and 'int'",
     "output_type": "error",
     "traceback": [
      "\u001b[0;31m---------------------------------------------------------------------------\u001b[0m",
      "\u001b[0;31mTypeError\u001b[0m                                 Traceback (most recent call last)",
      "\u001b[1;32m/Users/kniu91/Documents/Kevin's Folders/Projects/dfs/rds/test.ipynb Cell 2\u001b[0m in \u001b[0;36m<cell line: 1>\u001b[0;34m()\u001b[0m\n\u001b[0;32m----> <a href='vscode-notebook-cell:/Users/kniu91/Documents/Kevin%27s%20Folders/Projects/dfs/rds/test.ipynb#W2sZmlsZQ%3D%3D?line=0'>1</a>\u001b[0m rl \u001b[39m=\u001b[39m RequestLimiter(base_link \u001b[39m=\u001b[39;49m \u001b[39m'\u001b[39;49m\u001b[39mhttps://www.espn.com\u001b[39;49m\u001b[39m'\u001b[39;49m ,\n\u001b[1;32m      <a href='vscode-notebook-cell:/Users/kniu91/Documents/Kevin%27s%20Folders/Projects/dfs/rds/test.ipynb#W2sZmlsZQ%3D%3D?line=1'>2</a>\u001b[0m                     interval \u001b[39m=\u001b[39;49m \u001b[39m60\u001b[39;49m, \u001b[39m# in seconds\u001b[39;49;00m\n\u001b[1;32m      <a href='vscode-notebook-cell:/Users/kniu91/Documents/Kevin%27s%20Folders/Projects/dfs/rds/test.ipynb#W2sZmlsZQ%3D%3D?line=2'>3</a>\u001b[0m                     limit  \u001b[39m=\u001b[39;49m \u001b[39m20\u001b[39;49m, \n\u001b[1;32m      <a href='vscode-notebook-cell:/Users/kniu91/Documents/Kevin%27s%20Folders/Projects/dfs/rds/test.ipynb#W2sZmlsZQ%3D%3D?line=3'>4</a>\u001b[0m                     load  \u001b[39m=\u001b[39;49m \u001b[39m'\u001b[39;49m\u001b[39m./data/rl/espn.com.p\u001b[39;49m\u001b[39m'\u001b[39;49m)\n",
      "File \u001b[0;32m~/Documents/Kevin's Folders/Projects/dfs/rds/requestLimiter.py:30\u001b[0m, in \u001b[0;36mRequestLimiter.save.<locals>.wrapper\u001b[0;34m(self, *args, **kwargs)\u001b[0m\n\u001b[1;32m     29\u001b[0m \u001b[39mdef\u001b[39;00m \u001b[39mwrapper\u001b[39m(\u001b[39mself\u001b[39m, \u001b[39m*\u001b[39margs, \u001b[39m*\u001b[39m\u001b[39m*\u001b[39mkwargs):\n\u001b[0;32m---> 30\u001b[0m     result \u001b[39m=\u001b[39m func(\u001b[39mself\u001b[39;49m, \u001b[39m*\u001b[39;49margs, \u001b[39m*\u001b[39;49m\u001b[39m*\u001b[39;49mkwargs)\n\u001b[1;32m     31\u001b[0m     \u001b[39mself\u001b[39m\u001b[39m.\u001b[39m_save()\n\u001b[1;32m     32\u001b[0m     \u001b[39mreturn\u001b[39;00m result\n",
      "File \u001b[0;32m~/Documents/Kevin's Folders/Projects/dfs/rds/requestLimiter.py:57\u001b[0m, in \u001b[0;36mRequestLimiter.__init__\u001b[0;34m(self, base_link, interval, limit, load)\u001b[0m\n\u001b[1;32m     55\u001b[0m     \u001b[39mself\u001b[39m\u001b[39m.\u001b[39mlimit : \u001b[39mint\u001b[39m \u001b[39m=\u001b[39m limit\n\u001b[1;32m     56\u001b[0m     \u001b[39mself\u001b[39m\u001b[39m.\u001b[39maccesses : List[\u001b[39mfloat\u001b[39m] \u001b[39m=\u001b[39m deque() \u001b[39m# In last 60 seconds\u001b[39;00m\n\u001b[0;32m---> 57\u001b[0m \u001b[39mself\u001b[39;49m\u001b[39m.\u001b[39;49m_popAccesses()\n\u001b[1;32m     58\u001b[0m \u001b[39mprint\u001b[39m(\u001b[39mf\u001b[39m\u001b[39m\"\u001b[39m\u001b[39mInitialized with \u001b[39m\u001b[39m{\u001b[39;00m\u001b[39mself\u001b[39m\u001b[39m.\u001b[39mlength\u001b[39m}\u001b[39;00m\u001b[39m of \u001b[39m\u001b[39m{\u001b[39;00m\u001b[39mself\u001b[39m\u001b[39m.\u001b[39mlimit\u001b[39m}\u001b[39;00m\u001b[39m entries filled\u001b[39m\u001b[39m\"\u001b[39m)\n\u001b[1;32m     59\u001b[0m \u001b[39mprint\u001b[39m()\n",
      "File \u001b[0;32m~/Documents/Kevin's Folders/Projects/dfs/rds/requestLimiter.py:139\u001b[0m, in \u001b[0;36mRequestLimiter._popAccesses\u001b[0;34m(self)\u001b[0m\n\u001b[1;32m    138\u001b[0m \u001b[39mdef\u001b[39;00m \u001b[39m_popAccesses\u001b[39m(\u001b[39mself\u001b[39m) \u001b[39m-\u001b[39m\u001b[39m>\u001b[39m \u001b[39mNone\u001b[39;00m:\n\u001b[0;32m--> 139\u001b[0m     \u001b[39mwhile\u001b[39;00m (\u001b[39mself\u001b[39;49m\u001b[39m.\u001b[39;49mlength \u001b[39m>\u001b[39;49m \u001b[39m0\u001b[39;49m) \u001b[39mand\u001b[39;00m (time\u001b[39m.\u001b[39mtime() \u001b[39m-\u001b[39m \u001b[39mself\u001b[39m\u001b[39m.\u001b[39maccesses[\u001b[39m0\u001b[39m] \u001b[39m>\u001b[39m \u001b[39mself\u001b[39m\u001b[39m.\u001b[39minterval):\n\u001b[1;32m    140\u001b[0m         a \u001b[39m=\u001b[39m \u001b[39mself\u001b[39m\u001b[39m.\u001b[39maccesses\u001b[39m.\u001b[39mpopleft()\n",
      "\u001b[0;31mTypeError\u001b[0m: '>' not supported between instances of 'method' and 'int'"
     ]
    }
   ],
   "source": []
  },
  {
   "cell_type": "code",
   "execution_count": null,
   "metadata": {},
   "outputs": [],
   "source": []
  }
 ],
 "metadata": {
  "kernelspec": {
   "display_name": "ncaa",
   "language": "python",
   "name": "python3"
  },
  "language_info": {
   "codemirror_mode": {
    "name": "ipython",
    "version": 3
   },
   "file_extension": ".py",
   "mimetype": "text/x-python",
   "name": "python",
   "nbconvert_exporter": "python",
   "pygments_lexer": "ipython3",
   "version": "3.9.12"
  },
  "orig_nbformat": 4,
  "vscode": {
   "interpreter": {
    "hash": "bee5674010edb9cafde857bf6ed1f796045a81d354f601a762200feb8a30ef17"
   }
  }
 },
 "nbformat": 4,
 "nbformat_minor": 2
}
