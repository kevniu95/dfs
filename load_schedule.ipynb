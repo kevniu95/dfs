{
 "cells": [
  {
   "cell_type": "code",
   "execution_count": 1,
   "metadata": {},
   "outputs": [],
   "source": [
    "from bs4 import BeautifulSoup\n",
    "import requests \n",
    "import pandas as pd\n",
    "import lxml\n",
    "import psycopg2\n",
    "import argparse"
   ]
  },
  {
   "cell_type": "code",
   "execution_count": 2,
   "metadata": {},
   "outputs": [],
   "source": [
    "from pgConnect import PgConnection\n",
    "from requestLimiter import RequestLimiter\n",
    "from config import Config\n",
    "from typing import Dict"
   ]
  },
  {
   "cell_type": "code",
   "execution_count": 3,
   "metadata": {},
   "outputs": [],
   "source": [
    "def get_ith_table(soup, i, **kwargs):\n",
    "    # Get and return table\n",
    "    tables = soup.find_all('table', **kwargs)\n",
    "    if len(tables) > 0:\n",
    "        table = tables[i]\n",
    "        return table\n",
    "    else:\n",
    "        print(\"No table found on this HTML page!\")\n",
    "        "
   ]
  },
  {
   "cell_type": "code",
   "execution_count": 5,
   "metadata": {},
   "outputs": [
    {
     "name": "stdout",
     "output_type": "stream",
     "text": [
      "Successfully loaded previous Rate Limiter info for https://www.basketball-reference.com\n",
      "Initialized with 0 of 20 entries filled\n",
      "\n",
      "Saving RequestLimiter status to disk...\n"
     ]
    }
   ],
   "source": [
    "config : Config = Config('config.ini')\n",
    "# reader \n",
    "read_constants : Dict[str, str] = config.parse_section('reader')\n",
    "BASE : str = read_constants['base']\n",
    "NAME : str = BASE[BASE.find('.') + 1:]\n",
    "\n",
    "# requestLimiter\n",
    "rl_constants : Dict[str, str] = config.parse_section('requestLimiter')\n",
    "load_loc = rl_constants['load_location']\n",
    "LOAD_FILE : str = f'{load_loc}{NAME}.p'\n",
    "INTERVAL : int = int(rl_constants['interval'])\n",
    "LIMIT : int = int(rl_constants['limit'])\n",
    "\n",
    "# ======\n",
    "# 2. Parse args\n",
    "# ======\n",
    "YEAR : int = 2023\n",
    "\n",
    "rl : RequestLimiter = RequestLimiter(BASE, \n",
    "                    interval = INTERVAL, \n",
    "                    limit = LIMIT, \n",
    "                    load = LOAD_FILE)\n",
    "bases = {'summary_base' :BASE + f'/leagues/NBA_{YEAR}.html',\n",
    "            'schedule_base' : BASE + '/leagues/NBA_%s_games-%s.html'}"
   ]
  },
  {
   "cell_type": "code",
   "execution_count": 6,
   "metadata": {},
   "outputs": [],
   "source": [
    "def learn_teams(link : str, rl : RequestLimiter) -> Dict[str, str]:\n",
    "    tm_dict = {}\n",
    "    data = rl.get(requests.get, link)\n",
    "    if not data:\n",
    "        print(\"Couldn't get information in learn_teams() function!\")\n",
    "        return \n",
    "    data = data.text\n",
    "    soup = BeautifulSoup(data, 'html.parser')\n",
    "    \n",
    "    table = get_ith_table(soup, 4, class_ = 'stats_table')\n",
    "    if table:\n",
    "        rows = table.findChildren(['tr'])\n",
    "        for row in rows:\n",
    "            for a in row.find_all('a'):\n",
    "                tm_dict[a.text] = BASE + a.get('href')\n",
    "    else:\n",
    "        print(\"Previously hit rate limit on website!\")\n",
    "    return tm_dict\n"
   ]
  },
  {
   "cell_type": "code",
   "execution_count": 7,
   "metadata": {},
   "outputs": [],
   "source": [
    "def get_team_info(team : str, link : str, rl : RequestLimiter):\n",
    "    data =rl.get(requests.get, link)\n",
    "    if not data:\n",
    "        print(f\"Unable to retrieve team info for {team}!\")\n",
    "        return\n",
    "    soup = BeautifulSoup(data.text, 'html.parser')\n",
    "    arena = get_arena(soup)\n",
    "    roster = read_ith_table(soup, 0, id = 'roster')\n",
    "    return arena, roster\n",
    "\n",
    "        \n",
    "def get_arena(soup):\n",
    "    # Find arena\n",
    "    a = soup.find_all('div', id = 'meta')[0]\n",
    "    p = a.find_all('p')[-1]\n",
    "    arena = p.contents[2].strip()\n",
    "    return arena\n",
    "\n",
    "  \n",
    "def read_ith_table(soup, i, **kwargs):\n",
    "    table = get_ith_table(soup, i, **kwargs)\n",
    "    if table:\n",
    "        return pd.read_html(str(table), flavor='html5lib')[0]    \n"
   ]
  },
  {
   "cell_type": "code",
   "execution_count": 11,
   "metadata": {},
   "outputs": [],
   "source": [
    "def load_teams(year : int, bases : Dict[str, str], rl : RequestLimiter):\n",
    "    team_links : Dict[str, str] = learn_teams(bases['summary_base'], rl)\n",
    "    tl = dict((k, team_links[k]) for k in ['Boston Celtics'])\n",
    "    print(tl)\n",
    "    dat = get_team_info('Boston Celtics', tl['Boston Celtics'], rl)\n",
    "    return dat\n"
   ]
  },
  {
   "cell_type": "code",
   "execution_count": 12,
   "metadata": {},
   "outputs": [
    {
     "name": "stdout",
     "output_type": "stream",
     "text": [
      "Successfully processed append to queue...\n",
      "Size of current queue... 3\n",
      "Saving RequestLimiter status to disk...\n",
      "{'Boston Celtics': 'https://www.basketball-reference.com/teams/BOS/2023.html'}\n",
      "Successfully processed append to queue...\n",
      "Size of current queue... 4\n",
      "Saving RequestLimiter status to disk...\n"
     ]
    }
   ],
   "source": [
    "dat = load_teams(year = YEAR, bases = bases, rl = rl)"
   ]
  },
  {
   "cell_type": "code",
   "execution_count": 14,
   "metadata": {},
   "outputs": [
    {
     "data": {
      "text/plain": [
       "'TD Garden'"
      ]
     },
     "execution_count": 14,
     "metadata": {},
     "output_type": "execute_result"
    }
   ],
   "source": [
    "dat[0]"
   ]
  },
  {
   "cell_type": "code",
   "execution_count": 15,
   "metadata": {},
   "outputs": [
    {
     "data": {
      "text/html": [
       "<div>\n",
       "<style scoped>\n",
       "    .dataframe tbody tr th:only-of-type {\n",
       "        vertical-align: middle;\n",
       "    }\n",
       "\n",
       "    .dataframe tbody tr th {\n",
       "        vertical-align: top;\n",
       "    }\n",
       "\n",
       "    .dataframe thead th {\n",
       "        text-align: right;\n",
       "    }\n",
       "</style>\n",
       "<table border=\"1\" class=\"dataframe\">\n",
       "  <thead>\n",
       "    <tr style=\"text-align: right;\">\n",
       "      <th></th>\n",
       "      <th>No.</th>\n",
       "      <th>Player</th>\n",
       "      <th>Pos</th>\n",
       "      <th>Ht</th>\n",
       "      <th>Wt</th>\n",
       "      <th>Birth Date</th>\n",
       "      <th>Unnamed: 6</th>\n",
       "      <th>Exp</th>\n",
       "      <th>College</th>\n",
       "    </tr>\n",
       "  </thead>\n",
       "  <tbody>\n",
       "    <tr>\n",
       "      <th>0</th>\n",
       "      <td>9.0</td>\n",
       "      <td>Derrick White</td>\n",
       "      <td>SG</td>\n",
       "      <td>6-4</td>\n",
       "      <td>190</td>\n",
       "      <td>July 2, 1994</td>\n",
       "      <td>us</td>\n",
       "      <td>5</td>\n",
       "      <td>Colorado-Colorado Springs, Colorado</td>\n",
       "    </tr>\n",
       "    <tr>\n",
       "      <th>1</th>\n",
       "      <td>30.0</td>\n",
       "      <td>Sam Hauser</td>\n",
       "      <td>PF</td>\n",
       "      <td>6-8</td>\n",
       "      <td>215</td>\n",
       "      <td>December 8, 1997</td>\n",
       "      <td>us</td>\n",
       "      <td>1</td>\n",
       "      <td>Marquette, Virginia</td>\n",
       "    </tr>\n",
       "    <tr>\n",
       "      <th>2</th>\n",
       "      <td>12.0</td>\n",
       "      <td>Grant Williams</td>\n",
       "      <td>PF</td>\n",
       "      <td>6-6</td>\n",
       "      <td>236</td>\n",
       "      <td>November 30, 1998</td>\n",
       "      <td>us</td>\n",
       "      <td>3</td>\n",
       "      <td>Tennessee</td>\n",
       "    </tr>\n",
       "    <tr>\n",
       "      <th>3</th>\n",
       "      <td>0.0</td>\n",
       "      <td>Jayson Tatum</td>\n",
       "      <td>PF</td>\n",
       "      <td>6-8</td>\n",
       "      <td>210</td>\n",
       "      <td>March 3, 1998</td>\n",
       "      <td>us</td>\n",
       "      <td>5</td>\n",
       "      <td>Duke</td>\n",
       "    </tr>\n",
       "    <tr>\n",
       "      <th>4</th>\n",
       "      <td>7.0</td>\n",
       "      <td>Jaylen Brown</td>\n",
       "      <td>SF</td>\n",
       "      <td>6-6</td>\n",
       "      <td>223</td>\n",
       "      <td>October 24, 1996</td>\n",
       "      <td>us</td>\n",
       "      <td>6</td>\n",
       "      <td>California</td>\n",
       "    </tr>\n",
       "    <tr>\n",
       "      <th>5</th>\n",
       "      <td>36.0</td>\n",
       "      <td>Marcus Smart</td>\n",
       "      <td>PG</td>\n",
       "      <td>6-3</td>\n",
       "      <td>220</td>\n",
       "      <td>March 6, 1994</td>\n",
       "      <td>us</td>\n",
       "      <td>8</td>\n",
       "      <td>Oklahoma State</td>\n",
       "    </tr>\n",
       "    <tr>\n",
       "      <th>6</th>\n",
       "      <td>13.0</td>\n",
       "      <td>Malcolm Brogdon</td>\n",
       "      <td>PG</td>\n",
       "      <td>6-5</td>\n",
       "      <td>229</td>\n",
       "      <td>December 11, 1992</td>\n",
       "      <td>us</td>\n",
       "      <td>6</td>\n",
       "      <td>Virginia</td>\n",
       "    </tr>\n",
       "    <tr>\n",
       "      <th>7</th>\n",
       "      <td>40.0</td>\n",
       "      <td>Luke Kornet</td>\n",
       "      <td>C</td>\n",
       "      <td>7-2</td>\n",
       "      <td>250</td>\n",
       "      <td>July 15, 1995</td>\n",
       "      <td>us</td>\n",
       "      <td>5</td>\n",
       "      <td>Vanderbilt</td>\n",
       "    </tr>\n",
       "    <tr>\n",
       "      <th>8</th>\n",
       "      <td>42.0</td>\n",
       "      <td>Al Horford</td>\n",
       "      <td>C</td>\n",
       "      <td>6-9</td>\n",
       "      <td>240</td>\n",
       "      <td>June 3, 1986</td>\n",
       "      <td>do</td>\n",
       "      <td>15</td>\n",
       "      <td>Florida</td>\n",
       "    </tr>\n",
       "    <tr>\n",
       "      <th>9</th>\n",
       "      <td>11.0</td>\n",
       "      <td>Payton Pritchard</td>\n",
       "      <td>PG</td>\n",
       "      <td>6-1</td>\n",
       "      <td>195</td>\n",
       "      <td>January 28, 1998</td>\n",
       "      <td>us</td>\n",
       "      <td>2</td>\n",
       "      <td>Oregon</td>\n",
       "    </tr>\n",
       "    <tr>\n",
       "      <th>10</th>\n",
       "      <td>4.0</td>\n",
       "      <td>Noah Vonleh</td>\n",
       "      <td>C</td>\n",
       "      <td>6-10</td>\n",
       "      <td>257</td>\n",
       "      <td>August 24, 1995</td>\n",
       "      <td>us</td>\n",
       "      <td>7</td>\n",
       "      <td>Indiana</td>\n",
       "    </tr>\n",
       "    <tr>\n",
       "      <th>11</th>\n",
       "      <td>91.0</td>\n",
       "      <td>Blake Griffin</td>\n",
       "      <td>PF</td>\n",
       "      <td>6-9</td>\n",
       "      <td>250</td>\n",
       "      <td>March 16, 1989</td>\n",
       "      <td>us</td>\n",
       "      <td>12</td>\n",
       "      <td>Oklahoma</td>\n",
       "    </tr>\n",
       "    <tr>\n",
       "      <th>12</th>\n",
       "      <td>43.0</td>\n",
       "      <td>Justin Jackson</td>\n",
       "      <td>SF</td>\n",
       "      <td>6-8</td>\n",
       "      <td>220</td>\n",
       "      <td>March 28, 1995</td>\n",
       "      <td>us</td>\n",
       "      <td>5</td>\n",
       "      <td>UNC</td>\n",
       "    </tr>\n",
       "    <tr>\n",
       "      <th>13</th>\n",
       "      <td>44.0</td>\n",
       "      <td>Robert Williams</td>\n",
       "      <td>C</td>\n",
       "      <td>6-9</td>\n",
       "      <td>237</td>\n",
       "      <td>October 17, 1997</td>\n",
       "      <td>us</td>\n",
       "      <td>4</td>\n",
       "      <td>Texas A&amp;M</td>\n",
       "    </tr>\n",
       "    <tr>\n",
       "      <th>14</th>\n",
       "      <td>20.0</td>\n",
       "      <td>JD Davison (TW)</td>\n",
       "      <td>PG</td>\n",
       "      <td>6-3</td>\n",
       "      <td>195</td>\n",
       "      <td>October 3, 2002</td>\n",
       "      <td>us</td>\n",
       "      <td>R</td>\n",
       "      <td>Alabama</td>\n",
       "    </tr>\n",
       "    <tr>\n",
       "      <th>15</th>\n",
       "      <td>28.0</td>\n",
       "      <td>Mfiondu Kabengele (TW)</td>\n",
       "      <td>PF</td>\n",
       "      <td>6-9</td>\n",
       "      <td>250</td>\n",
       "      <td>August 14, 1997</td>\n",
       "      <td>ca</td>\n",
       "      <td>2</td>\n",
       "      <td>Florida State</td>\n",
       "    </tr>\n",
       "    <tr>\n",
       "      <th>16</th>\n",
       "      <td>NaN</td>\n",
       "      <td>Danilo Gallinari</td>\n",
       "      <td>SF</td>\n",
       "      <td>6-10</td>\n",
       "      <td>233</td>\n",
       "      <td>August 8, 1988</td>\n",
       "      <td>it</td>\n",
       "      <td>13</td>\n",
       "      <td>NaN</td>\n",
       "    </tr>\n",
       "  </tbody>\n",
       "</table>\n",
       "</div>"
      ],
      "text/plain": [
       "     No.                  Player Pos    Ht   Wt         Birth Date Unnamed: 6  \\\n",
       "0    9.0           Derrick White  SG   6-4  190       July 2, 1994         us   \n",
       "1   30.0              Sam Hauser  PF   6-8  215   December 8, 1997         us   \n",
       "2   12.0          Grant Williams  PF   6-6  236  November 30, 1998         us   \n",
       "3    0.0            Jayson Tatum  PF   6-8  210      March 3, 1998         us   \n",
       "4    7.0            Jaylen Brown  SF   6-6  223   October 24, 1996         us   \n",
       "5   36.0            Marcus Smart  PG   6-3  220      March 6, 1994         us   \n",
       "6   13.0         Malcolm Brogdon  PG   6-5  229  December 11, 1992         us   \n",
       "7   40.0             Luke Kornet   C   7-2  250      July 15, 1995         us   \n",
       "8   42.0              Al Horford   C   6-9  240       June 3, 1986         do   \n",
       "9   11.0        Payton Pritchard  PG   6-1  195   January 28, 1998         us   \n",
       "10   4.0             Noah Vonleh   C  6-10  257    August 24, 1995         us   \n",
       "11  91.0           Blake Griffin  PF   6-9  250     March 16, 1989         us   \n",
       "12  43.0          Justin Jackson  SF   6-8  220     March 28, 1995         us   \n",
       "13  44.0         Robert Williams   C   6-9  237   October 17, 1997         us   \n",
       "14  20.0         JD Davison (TW)  PG   6-3  195    October 3, 2002         us   \n",
       "15  28.0  Mfiondu Kabengele (TW)  PF   6-9  250    August 14, 1997         ca   \n",
       "16   NaN        Danilo Gallinari  SF  6-10  233     August 8, 1988         it   \n",
       "\n",
       "   Exp                              College  \n",
       "0    5  Colorado-Colorado Springs, Colorado  \n",
       "1    1                  Marquette, Virginia  \n",
       "2    3                            Tennessee  \n",
       "3    5                                 Duke  \n",
       "4    6                           California  \n",
       "5    8                       Oklahoma State  \n",
       "6    6                             Virginia  \n",
       "7    5                           Vanderbilt  \n",
       "8   15                              Florida  \n",
       "9    2                               Oregon  \n",
       "10   7                              Indiana  \n",
       "11  12                             Oklahoma  \n",
       "12   5                                  UNC  \n",
       "13   4                            Texas A&M  \n",
       "14   R                              Alabama  \n",
       "15   2                        Florida State  \n",
       "16  13                                  NaN  "
      ]
     },
     "execution_count": 15,
     "metadata": {},
     "output_type": "execute_result"
    }
   ],
   "source": [
    "dat[1]"
   ]
  },
  {
   "cell_type": "code",
   "execution_count": 21,
   "metadata": {},
   "outputs": [
    {
     "name": "stdout",
     "output_type": "stream",
     "text": [
      "Connecting to the PostgreSQL database...\n"
     ]
    }
   ],
   "source": [
    "pg_conn = PgConnection(config)\n",
    "conn = pg_conn.getConn()\n",
    "cur = conn.cursor()"
   ]
  },
  {
   "cell_type": "code",
   "execution_count": 23,
   "metadata": {},
   "outputs": [
    {
     "data": {
      "text/plain": [
       "<cursor object at 0x11f0666d0; closed: 0>"
      ]
     },
     "execution_count": 23,
     "metadata": {},
     "output_type": "execute_result"
    }
   ],
   "source": [
    "# conn\n",
    "cur"
   ]
  },
  {
   "cell_type": "code",
   "execution_count": 7,
   "metadata": {},
   "outputs": [],
   "source": [
    "conn = psycopg2.connect(\n",
    "    database=\"postgres\",\n",
    "    user=\"postgres\",\n",
    "    password=\"REBELStennis123\",\n",
    "    host=\"dfs-db.ce9d6aqnvhtq.us-east-1.rds.amazonaws.com\",\n",
    "    port='5432'\n",
    ")"
   ]
  },
  {
   "cell_type": "code",
   "execution_count": 5,
   "metadata": {},
   "outputs": [],
   "source": [
    "def connect():\n",
    "    \"\"\" Connect to the PostgreSQL database server \"\"\"\n",
    "    conn = None\n",
    "    try:\n",
    "        # read connection parameters\n",
    "        params = config()\n",
    "\n",
    "        # connect to the PostgreSQL server\n",
    "        print('Connecting to the PostgreSQL database...')\n",
    "        conn = psycopg2.connect(**params)\n",
    "\t\t\n",
    "        # create a cursor\n",
    "        cur = conn.cursor()\n",
    "        \n",
    "\t# execute a statement\n",
    "        print('PostgreSQL database version:')\n",
    "        cur.execute('SELECT version()')\n",
    "\n",
    "        # display the PostgreSQL database server version\n",
    "        db_version = cur.fetchone()\n",
    "        print(db_version)\n",
    "       \n",
    "\t# close the communication with the PostgreSQL\n",
    "        cur.close()\n",
    "    except (Exception, psycopg2.DatabaseError) as error:\n",
    "        print(error)\n",
    "    finally:\n",
    "        if conn is not None:\n",
    "            conn.close()\n",
    "            print('Database connection closed.')\n"
   ]
  },
  {
   "cell_type": "code",
   "execution_count": 6,
   "metadata": {},
   "outputs": [
    {
     "name": "stdout",
     "output_type": "stream",
     "text": [
      "Connecting to the PostgreSQL database...\n"
     ]
    },
    {
     "ename": "NameError",
     "evalue": "name 'psycopg2' is not defined",
     "output_type": "error",
     "traceback": [
      "\u001b[0;31m---------------------------------------------------------------------------\u001b[0m",
      "\u001b[0;31mNameError\u001b[0m                                 Traceback (most recent call last)",
      "\u001b[1;32m/Users/kniu91/Documents/Kevin's Folders/Projects/dfs/rds/load_schedule.ipynb Cell 7\u001b[0m in \u001b[0;36mconnect\u001b[0;34m()\u001b[0m\n\u001b[1;32m      <a href='vscode-notebook-cell:/Users/kniu91/Documents/Kevin%27s%20Folders/Projects/dfs/rds/load_schedule.ipynb#X21sZmlsZQ%3D%3D?line=8'>9</a>\u001b[0m \u001b[39mprint\u001b[39m(\u001b[39m'\u001b[39m\u001b[39mConnecting to the PostgreSQL database...\u001b[39m\u001b[39m'\u001b[39m)\n\u001b[0;32m---> <a href='vscode-notebook-cell:/Users/kniu91/Documents/Kevin%27s%20Folders/Projects/dfs/rds/load_schedule.ipynb#X21sZmlsZQ%3D%3D?line=9'>10</a>\u001b[0m conn \u001b[39m=\u001b[39m psycopg2\u001b[39m.\u001b[39mconnect(\u001b[39m*\u001b[39m\u001b[39m*\u001b[39mparams)\n\u001b[1;32m     <a href='vscode-notebook-cell:/Users/kniu91/Documents/Kevin%27s%20Folders/Projects/dfs/rds/load_schedule.ipynb#X21sZmlsZQ%3D%3D?line=11'>12</a>\u001b[0m \u001b[39m# create a cursor\u001b[39;00m\n",
      "\u001b[0;31mNameError\u001b[0m: name 'psycopg2' is not defined",
      "\nDuring handling of the above exception, another exception occurred:\n",
      "\u001b[0;31mNameError\u001b[0m                                 Traceback (most recent call last)",
      "\u001b[1;32m/Users/kniu91/Documents/Kevin's Folders/Projects/dfs/rds/load_schedule.ipynb Cell 7\u001b[0m in \u001b[0;36m<cell line: 1>\u001b[0;34m()\u001b[0m\n\u001b[0;32m----> <a href='vscode-notebook-cell:/Users/kniu91/Documents/Kevin%27s%20Folders/Projects/dfs/rds/load_schedule.ipynb#X21sZmlsZQ%3D%3D?line=0'>1</a>\u001b[0m connect()\n",
      "\u001b[1;32m/Users/kniu91/Documents/Kevin's Folders/Projects/dfs/rds/load_schedule.ipynb Cell 7\u001b[0m in \u001b[0;36mconnect\u001b[0;34m()\u001b[0m\n\u001b[1;32m     <a href='vscode-notebook-cell:/Users/kniu91/Documents/Kevin%27s%20Folders/Projects/dfs/rds/load_schedule.ipynb#X21sZmlsZQ%3D%3D?line=22'>23</a>\u001b[0m \t\u001b[39m# close the communication with the PostgreSQL\u001b[39;00m\n\u001b[1;32m     <a href='vscode-notebook-cell:/Users/kniu91/Documents/Kevin%27s%20Folders/Projects/dfs/rds/load_schedule.ipynb#X21sZmlsZQ%3D%3D?line=23'>24</a>\u001b[0m         cur\u001b[39m.\u001b[39mclose()\n\u001b[0;32m---> <a href='vscode-notebook-cell:/Users/kniu91/Documents/Kevin%27s%20Folders/Projects/dfs/rds/load_schedule.ipynb#X21sZmlsZQ%3D%3D?line=24'>25</a>\u001b[0m     \u001b[39mexcept\u001b[39;00m (\u001b[39mException\u001b[39;00m, psycopg2\u001b[39m.\u001b[39mDatabaseError) \u001b[39mas\u001b[39;00m error:\n\u001b[1;32m     <a href='vscode-notebook-cell:/Users/kniu91/Documents/Kevin%27s%20Folders/Projects/dfs/rds/load_schedule.ipynb#X21sZmlsZQ%3D%3D?line=25'>26</a>\u001b[0m         \u001b[39mprint\u001b[39m(error)\n\u001b[1;32m     <a href='vscode-notebook-cell:/Users/kniu91/Documents/Kevin%27s%20Folders/Projects/dfs/rds/load_schedule.ipynb#X21sZmlsZQ%3D%3D?line=26'>27</a>\u001b[0m     \u001b[39mfinally\u001b[39;00m:\n",
      "\u001b[0;31mNameError\u001b[0m: name 'psycopg2' is not defined"
     ]
    }
   ],
   "source": [
    "connect()"
   ]
  },
  {
   "cell_type": "code",
   "execution_count": 2,
   "metadata": {},
   "outputs": [],
   "source": [
    "years = [i for i in range(2015, 2024)]\n",
    "a"
   ]
  },
  {
   "cell_type": "code",
   "execution_count": 3,
   "metadata": {},
   "outputs": [],
   "source": [
    "link = 'https://www.basketball-reference.com/leagues/NBA_2022_games.html'\n",
    "playoffs_link = 'https://www.basketball-reference.com/playoffs/NBA_2022.html'"
   ]
  },
  {
   "cell_type": "code",
   "execution_count": 9,
   "metadata": {},
   "outputs": [],
   "source": [
    "data = requests.get(link).text\n",
    "soup = BeautifulSoup(data, 'html.parser')"
   ]
  },
  {
   "cell_type": "code",
   "execution_count": 16,
   "metadata": {},
   "outputs": [
    {
     "name": "stdout",
     "output_type": "stream",
     "text": [
      "                Date Start (ET)        Visitor/Neutral  PTS  \\\n",
      "0  Tue, Oct 19, 2021      7:30p          Brooklyn Nets  104   \n",
      "1  Tue, Oct 19, 2021     10:00p  Golden State Warriors  121   \n",
      "2  Wed, Oct 20, 2021      7:00p         Indiana Pacers  122   \n",
      "3  Wed, Oct 20, 2021      7:00p          Chicago Bulls   94   \n",
      "4  Wed, Oct 20, 2021      7:30p         Boston Celtics  134   \n",
      "\n",
      "         Home/Neutral  PTS.1 Unnamed: 6 Unnamed: 7  Attend.  \\\n",
      "0     Milwaukee Bucks    127  Box Score        NaN    17341   \n",
      "1  Los Angeles Lakers    114  Box Score        NaN    18997   \n",
      "2   Charlotte Hornets    123  Box Score        NaN    15521   \n",
      "3     Detroit Pistons     88  Box Score        NaN    20088   \n",
      "4     New York Knicks    138  Box Score        2OT    19812   \n",
      "\n",
      "                        Arena  Notes  \n",
      "0                Fiserv Forum    NaN  \n",
      "1            Crypto.com Arena    NaN  \n",
      "2             Spectrum Center    NaN  \n",
      "3        Little Caesars Arena    NaN  \n",
      "4  Madison Square Garden (IV)    NaN  \n"
     ]
    }
   ],
   "source": [
    "tables = soup.find_all('table', class_ = 'stats_table')\n",
    "table = tables[0]\n",
    "df = pd.read_html(str(table), flavor='html5lib')[0]\n",
    "print(df.head())"
   ]
  },
  {
   "cell_type": "code",
   "execution_count": null,
   "metadata": {},
   "outputs": [],
   "source": [
    "https://www.basketball-reference.com/leagues/NBA_2021_games-october.html"
   ]
  },
  {
   "cell_type": "code",
   "execution_count": 9,
   "metadata": {},
   "outputs": [
    {
     "ename": "IndexError",
     "evalue": "list index out of range",
     "output_type": "error",
     "traceback": [
      "\u001b[0;31m---------------------------------------------------------------------------\u001b[0m",
      "\u001b[0;31mIndexError\u001b[0m                                Traceback (most recent call last)",
      "Cell \u001b[0;32mIn[9], line 1\u001b[0m\n\u001b[0;32m----> 1\u001b[0m game_data \u001b[39m=\u001b[39m Boxscore(\u001b[39m'\u001b[39;49m\u001b[39m201806080CLE\u001b[39;49m\u001b[39m'\u001b[39;49m)\n",
      "File \u001b[0;32m~/.virtualenvs/dfs/lib/python3.9/site-packages/sportsipy/nba/boxscore.py:280\u001b[0m, in \u001b[0;36mBoxscore.__init__\u001b[0;34m(self, uri)\u001b[0m\n\u001b[1;32m    277\u001b[0m \u001b[39mself\u001b[39m\u001b[39m.\u001b[39m_home_offensive_rating \u001b[39m=\u001b[39m \u001b[39mNone\u001b[39;00m\n\u001b[1;32m    278\u001b[0m \u001b[39mself\u001b[39m\u001b[39m.\u001b[39m_home_defensive_rating \u001b[39m=\u001b[39m \u001b[39mNone\u001b[39;00m\n\u001b[0;32m--> 280\u001b[0m \u001b[39mself\u001b[39;49m\u001b[39m.\u001b[39;49m_parse_game_data(uri)\n",
      "File \u001b[0;32m~/.virtualenvs/dfs/lib/python3.9/site-packages/sportsipy/nba/boxscore.py:645\u001b[0m, in \u001b[0;36mBoxscore._parse_game_data\u001b[0;34m(self, uri)\u001b[0m\n\u001b[1;32m    642\u001b[0m     \u001b[39mcontinue\u001b[39;00m\n\u001b[1;32m    643\u001b[0m \u001b[39mif\u001b[39;00m short_field \u001b[39m==\u001b[39m \u001b[39m'\u001b[39m\u001b[39mlocation\u001b[39m\u001b[39m'\u001b[39m \u001b[39mor\u001b[39;00m \\\n\u001b[1;32m    644\u001b[0m    short_field \u001b[39m==\u001b[39m \u001b[39m'\u001b[39m\u001b[39mdate\u001b[39m\u001b[39m'\u001b[39m:\n\u001b[0;32m--> 645\u001b[0m     value \u001b[39m=\u001b[39m \u001b[39mself\u001b[39;49m\u001b[39m.\u001b[39;49m_parse_game_date_and_location(short_field,\n\u001b[1;32m    646\u001b[0m                                                boxscore)\n\u001b[1;32m    647\u001b[0m     \u001b[39msetattr\u001b[39m(\u001b[39mself\u001b[39m, field, value)\n\u001b[1;32m    648\u001b[0m     \u001b[39mcontinue\u001b[39;00m\n",
      "File \u001b[0;32m~/.virtualenvs/dfs/lib/python3.9/site-packages/sportsipy/nba/boxscore.py:346\u001b[0m, in \u001b[0;36mBoxscore._parse_game_date_and_location\u001b[0;34m(self, field, boxscore)\u001b[0m\n\u001b[1;32m    344\u001b[0m scheme \u001b[39m=\u001b[39m BOXSCORE_SCHEME[field]\n\u001b[1;32m    345\u001b[0m items \u001b[39m=\u001b[39m [i\u001b[39m.\u001b[39mtext() \u001b[39mfor\u001b[39;00m i \u001b[39min\u001b[39;00m boxscore(scheme)\u001b[39m.\u001b[39mitems()]\n\u001b[0;32m--> 346\u001b[0m game_info \u001b[39m=\u001b[39m items[\u001b[39m0\u001b[39;49m]\u001b[39m.\u001b[39msplit(\u001b[39m'\u001b[39m\u001b[39m\\n\u001b[39;00m\u001b[39m'\u001b[39m)\n\u001b[1;32m    347\u001b[0m \u001b[39mif\u001b[39;00m \u001b[39mlen\u001b[39m(game_info) \u001b[39m<\u001b[39m \u001b[39m3\u001b[39m \u001b[39mand\u001b[39;00m field \u001b[39m==\u001b[39m \u001b[39m'\u001b[39m\u001b[39mlocation\u001b[39m\u001b[39m'\u001b[39m:\n\u001b[1;32m    348\u001b[0m     \u001b[39mreturn\u001b[39;00m \u001b[39mNone\u001b[39;00m\n",
      "\u001b[0;31mIndexError\u001b[0m: list index out of range"
     ]
    }
   ],
   "source": [
    "game_data = Boxscore('201806080CLE')"
   ]
  },
  {
   "cell_type": "code",
   "execution_count": 7,
   "metadata": {},
   "outputs": [
    {
     "name": "stdout",
     "output_type": "stream",
     "text": [
      "The requested page returned a valid response, but no data could be found. Has the season begun, and is the data available on www.sports-reference.com?\n"
     ]
    }
   ],
   "source": [
    "teams = Teams()"
   ]
  },
  {
   "cell_type": "code",
   "execution_count": 5,
   "metadata": {},
   "outputs": [
    {
     "name": "stdout",
     "output_type": "stream",
     "text": [
      "The requested page returned a valid response, but no data could be found. Has the season begun, and is the data available on www.sports-reference.com?\n"
     ]
    }
   ],
   "source": [
    "\n",
    "teams = Teams('2021')\n",
    "for team in teams:\n",
    "    print(team.name)  # Prints the team's name\n",
    "    print(team.blocks)  # Prints the team's total blocked shots"
   ]
  },
  {
   "cell_type": "code",
   "execution_count": null,
   "metadata": {},
   "outputs": [],
   "source": []
  }
 ],
 "metadata": {
  "kernelspec": {
   "display_name": "ncaa",
   "language": "python",
   "name": "python3"
  },
  "language_info": {
   "codemirror_mode": {
    "name": "ipython",
    "version": 3
   },
   "file_extension": ".py",
   "mimetype": "text/x-python",
   "name": "python",
   "nbconvert_exporter": "python",
   "pygments_lexer": "ipython3",
   "version": "3.9.12"
  },
  "orig_nbformat": 4,
  "vscode": {
   "interpreter": {
    "hash": "bee5674010edb9cafde857bf6ed1f796045a81d354f601a762200feb8a30ef17"
   }
  }
 },
 "nbformat": 4,
 "nbformat_minor": 2
}
