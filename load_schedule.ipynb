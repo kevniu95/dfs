{
 "cells": [
  {
   "cell_type": "code",
   "execution_count": 4,
   "metadata": {},
   "outputs": [],
   "source": [
    "from bs4 import BeautifulSoup\n",
    "import requests \n",
    "import pandas as pd\n",
    "import lxml\n",
    "import psycopg2"
   ]
  },
  {
   "cell_type": "code",
   "execution_count": 7,
   "metadata": {},
   "outputs": [],
   "source": [
    "conn = psycopg2.connect(\n",
    "    database=\"postgres\",\n",
    "    user=\"postgres\",\n",
    "    password=\"REBELStennis123\",\n",
    "    host=\"dfs-db.ce9d6aqnvhtq.us-east-1.rds.amazonaws.com\",\n",
    "    port='5432'\n",
    ")"
   ]
  },
  {
   "cell_type": "code",
   "execution_count": 8,
   "metadata": {},
   "outputs": [
    {
     "data": {
      "text/plain": [
       "<connection object at 0x11fa39d60; dsn: 'user=postgres password=xxx dbname=postgres host=dfs-db.ce9d6aqnvhtq.us-east-1.rds.amazonaws.com port=5432', closed: 0>"
      ]
     },
     "execution_count": 8,
     "metadata": {},
     "output_type": "execute_result"
    }
   ],
   "source": [
    "conn"
   ]
  },
  {
   "cell_type": "code",
   "execution_count": 2,
   "metadata": {},
   "outputs": [],
   "source": [
    "years = [i for i in range(2015, 2024)]\n"
   ]
  },
  {
   "cell_type": "code",
   "execution_count": 3,
   "metadata": {},
   "outputs": [],
   "source": [
    "link = 'https://www.basketball-reference.com/leagues/NBA_2022_games.html'\n",
    "playoffs_link = 'https://www.basketball-reference.com/playoffs/NBA_2022.html'"
   ]
  },
  {
   "cell_type": "code",
   "execution_count": 9,
   "metadata": {},
   "outputs": [],
   "source": [
    "data = requests.get(link).text\n",
    "soup = BeautifulSoup(data, 'html.parser')"
   ]
  },
  {
   "cell_type": "code",
   "execution_count": 16,
   "metadata": {},
   "outputs": [
    {
     "name": "stdout",
     "output_type": "stream",
     "text": [
      "                Date Start (ET)        Visitor/Neutral  PTS  \\\n",
      "0  Tue, Oct 19, 2021      7:30p          Brooklyn Nets  104   \n",
      "1  Tue, Oct 19, 2021     10:00p  Golden State Warriors  121   \n",
      "2  Wed, Oct 20, 2021      7:00p         Indiana Pacers  122   \n",
      "3  Wed, Oct 20, 2021      7:00p          Chicago Bulls   94   \n",
      "4  Wed, Oct 20, 2021      7:30p         Boston Celtics  134   \n",
      "\n",
      "         Home/Neutral  PTS.1 Unnamed: 6 Unnamed: 7  Attend.  \\\n",
      "0     Milwaukee Bucks    127  Box Score        NaN    17341   \n",
      "1  Los Angeles Lakers    114  Box Score        NaN    18997   \n",
      "2   Charlotte Hornets    123  Box Score        NaN    15521   \n",
      "3     Detroit Pistons     88  Box Score        NaN    20088   \n",
      "4     New York Knicks    138  Box Score        2OT    19812   \n",
      "\n",
      "                        Arena  Notes  \n",
      "0                Fiserv Forum    NaN  \n",
      "1            Crypto.com Arena    NaN  \n",
      "2             Spectrum Center    NaN  \n",
      "3        Little Caesars Arena    NaN  \n",
      "4  Madison Square Garden (IV)    NaN  \n"
     ]
    }
   ],
   "source": [
    "tables = soup.find_all('table', class_ = 'stats_table')\n",
    "table = tables[0]\n",
    "df = pd.read_html(str(table), flavor='html5lib')[0]\n",
    "print(df.head())"
   ]
  },
  {
   "cell_type": "code",
   "execution_count": null,
   "metadata": {},
   "outputs": [],
   "source": [
    "https://www.basketball-reference.com/leagues/NBA_2021_games-october.html"
   ]
  },
  {
   "cell_type": "code",
   "execution_count": 9,
   "metadata": {},
   "outputs": [
    {
     "ename": "IndexError",
     "evalue": "list index out of range",
     "output_type": "error",
     "traceback": [
      "\u001b[0;31m---------------------------------------------------------------------------\u001b[0m",
      "\u001b[0;31mIndexError\u001b[0m                                Traceback (most recent call last)",
      "Cell \u001b[0;32mIn[9], line 1\u001b[0m\n\u001b[0;32m----> 1\u001b[0m game_data \u001b[39m=\u001b[39m Boxscore(\u001b[39m'\u001b[39;49m\u001b[39m201806080CLE\u001b[39;49m\u001b[39m'\u001b[39;49m)\n",
      "File \u001b[0;32m~/.virtualenvs/dfs/lib/python3.9/site-packages/sportsipy/nba/boxscore.py:280\u001b[0m, in \u001b[0;36mBoxscore.__init__\u001b[0;34m(self, uri)\u001b[0m\n\u001b[1;32m    277\u001b[0m \u001b[39mself\u001b[39m\u001b[39m.\u001b[39m_home_offensive_rating \u001b[39m=\u001b[39m \u001b[39mNone\u001b[39;00m\n\u001b[1;32m    278\u001b[0m \u001b[39mself\u001b[39m\u001b[39m.\u001b[39m_home_defensive_rating \u001b[39m=\u001b[39m \u001b[39mNone\u001b[39;00m\n\u001b[0;32m--> 280\u001b[0m \u001b[39mself\u001b[39;49m\u001b[39m.\u001b[39;49m_parse_game_data(uri)\n",
      "File \u001b[0;32m~/.virtualenvs/dfs/lib/python3.9/site-packages/sportsipy/nba/boxscore.py:645\u001b[0m, in \u001b[0;36mBoxscore._parse_game_data\u001b[0;34m(self, uri)\u001b[0m\n\u001b[1;32m    642\u001b[0m     \u001b[39mcontinue\u001b[39;00m\n\u001b[1;32m    643\u001b[0m \u001b[39mif\u001b[39;00m short_field \u001b[39m==\u001b[39m \u001b[39m'\u001b[39m\u001b[39mlocation\u001b[39m\u001b[39m'\u001b[39m \u001b[39mor\u001b[39;00m \\\n\u001b[1;32m    644\u001b[0m    short_field \u001b[39m==\u001b[39m \u001b[39m'\u001b[39m\u001b[39mdate\u001b[39m\u001b[39m'\u001b[39m:\n\u001b[0;32m--> 645\u001b[0m     value \u001b[39m=\u001b[39m \u001b[39mself\u001b[39;49m\u001b[39m.\u001b[39;49m_parse_game_date_and_location(short_field,\n\u001b[1;32m    646\u001b[0m                                                boxscore)\n\u001b[1;32m    647\u001b[0m     \u001b[39msetattr\u001b[39m(\u001b[39mself\u001b[39m, field, value)\n\u001b[1;32m    648\u001b[0m     \u001b[39mcontinue\u001b[39;00m\n",
      "File \u001b[0;32m~/.virtualenvs/dfs/lib/python3.9/site-packages/sportsipy/nba/boxscore.py:346\u001b[0m, in \u001b[0;36mBoxscore._parse_game_date_and_location\u001b[0;34m(self, field, boxscore)\u001b[0m\n\u001b[1;32m    344\u001b[0m scheme \u001b[39m=\u001b[39m BOXSCORE_SCHEME[field]\n\u001b[1;32m    345\u001b[0m items \u001b[39m=\u001b[39m [i\u001b[39m.\u001b[39mtext() \u001b[39mfor\u001b[39;00m i \u001b[39min\u001b[39;00m boxscore(scheme)\u001b[39m.\u001b[39mitems()]\n\u001b[0;32m--> 346\u001b[0m game_info \u001b[39m=\u001b[39m items[\u001b[39m0\u001b[39;49m]\u001b[39m.\u001b[39msplit(\u001b[39m'\u001b[39m\u001b[39m\\n\u001b[39;00m\u001b[39m'\u001b[39m)\n\u001b[1;32m    347\u001b[0m \u001b[39mif\u001b[39;00m \u001b[39mlen\u001b[39m(game_info) \u001b[39m<\u001b[39m \u001b[39m3\u001b[39m \u001b[39mand\u001b[39;00m field \u001b[39m==\u001b[39m \u001b[39m'\u001b[39m\u001b[39mlocation\u001b[39m\u001b[39m'\u001b[39m:\n\u001b[1;32m    348\u001b[0m     \u001b[39mreturn\u001b[39;00m \u001b[39mNone\u001b[39;00m\n",
      "\u001b[0;31mIndexError\u001b[0m: list index out of range"
     ]
    }
   ],
   "source": [
    "game_data = Boxscore('201806080CLE')"
   ]
  },
  {
   "cell_type": "code",
   "execution_count": 7,
   "metadata": {},
   "outputs": [
    {
     "name": "stdout",
     "output_type": "stream",
     "text": [
      "The requested page returned a valid response, but no data could be found. Has the season begun, and is the data available on www.sports-reference.com?\n"
     ]
    }
   ],
   "source": [
    "teams = Teams()"
   ]
  },
  {
   "cell_type": "code",
   "execution_count": 5,
   "metadata": {},
   "outputs": [
    {
     "name": "stdout",
     "output_type": "stream",
     "text": [
      "The requested page returned a valid response, but no data could be found. Has the season begun, and is the data available on www.sports-reference.com?\n"
     ]
    }
   ],
   "source": [
    "\n",
    "teams = Teams('2021')\n",
    "for team in teams:\n",
    "    print(team.name)  # Prints the team's name\n",
    "    print(team.blocks)  # Prints the team's total blocked shots"
   ]
  },
  {
   "cell_type": "code",
   "execution_count": null,
   "metadata": {},
   "outputs": [],
   "source": []
  }
 ],
 "metadata": {
  "kernelspec": {
   "display_name": "ncaa",
   "language": "python",
   "name": "python3"
  },
  "language_info": {
   "codemirror_mode": {
    "name": "ipython",
    "version": 3
   },
   "file_extension": ".py",
   "mimetype": "text/x-python",
   "name": "python",
   "nbconvert_exporter": "python",
   "pygments_lexer": "ipython3",
   "version": "3.9.12"
  },
  "orig_nbformat": 4,
  "vscode": {
   "interpreter": {
    "hash": "bee5674010edb9cafde857bf6ed1f796045a81d354f601a762200feb8a30ef17"
   }
  }
 },
 "nbformat": 4,
 "nbformat_minor": 2
}
