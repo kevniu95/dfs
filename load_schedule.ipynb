{
 "cells": [
  {
   "cell_type": "code",
   "execution_count": 227,
   "metadata": {},
   "outputs": [],
   "source": [
    "from bs4 import BeautifulSoup\n",
    "import requests \n",
    "import pandas as pd\n",
    "import lxml\n",
    "import psycopg2\n",
    "import argparse"
   ]
  },
  {
   "cell_type": "code",
   "execution_count": 228,
   "metadata": {},
   "outputs": [],
   "source": [
    "from pgConnect import PgConnection\n",
    "from requestLimiter import RequestLimiter\n",
    "from config import Config\n",
    "from typing import Dict"
   ]
  },
  {
   "cell_type": "code",
   "execution_count": 229,
   "metadata": {},
   "outputs": [],
   "source": [
    "def get_ith_table(soup, i, **kwargs):\n",
    "    # Get and return table\n",
    "    tables = soup.find_all('table', **kwargs)\n",
    "    if len(tables) > 0:\n",
    "        table = tables[i]\n",
    "        return table\n",
    "    else:\n",
    "        print(\"No table found on this HTML page!\")\n",
    "        "
   ]
  },
  {
   "cell_type": "code",
   "execution_count": 230,
   "metadata": {},
   "outputs": [
    {
     "name": "stdout",
     "output_type": "stream",
     "text": [
      "Successfully loaded previous Rate Limiter info for https://www.basketball-reference.com\n",
      "Initialized with 2 of 20 entries filled\n",
      "\n",
      "Saving RequestLimiter status to disk...\n"
     ]
    }
   ],
   "source": [
    "config : Config = Config('config.ini')\n",
    "# reader \n",
    "read_constants : Dict[str, str] = config.parse_section('reader')\n",
    "BASE : str = read_constants['base']\n",
    "NAME : str = BASE[BASE.find('.') + 1:]\n",
    "\n",
    "# requestLimiter\n",
    "rl_constants : Dict[str, str] = config.parse_section('requestLimiter')\n",
    "load_loc = rl_constants['load_location']\n",
    "LOAD_FILE : str = f'{load_loc}{NAME}.p'\n",
    "INTERVAL : int = int(rl_constants['interval'])\n",
    "LIMIT : int = int(rl_constants['limit'])\n",
    "\n",
    "# ======\n",
    "# 2. Parse args\n",
    "# ======\n",
    "YEAR : int = 2023\n",
    "\n",
    "rl : RequestLimiter = RequestLimiter(BASE, \n",
    "                    interval = INTERVAL, \n",
    "                    limit = LIMIT, \n",
    "                    load = LOAD_FILE)\n",
    "bases = {'summary_base' :BASE + f'/leagues/NBA_{YEAR}.html',\n",
    "            'schedule_base' : BASE + '/leagues/NBA_%s_games-%s.html'}"
   ]
  },
  {
   "cell_type": "code",
   "execution_count": 364,
   "metadata": {},
   "outputs": [
    {
     "name": "stdout",
     "output_type": "stream",
     "text": [
      "<class 'bs4.element.Tag'>\n"
     ]
    }
   ],
   "source": [
    "# data = rl.get(requests.get, \"https://www.basketball-reference.com\")\n",
    "# if not data:\n",
    "#     print(\"Couldn't get information in learn_teams() function!\")\n",
    "# data = data.text\n",
    "# soup = BeautifulSoup(data, 'html.parser')\n",
    "print(type(get_ith_table(soup, 0)))"
   ]
  },
  {
   "cell_type": "code",
   "execution_count": 362,
   "metadata": {},
   "outputs": [
    {
     "name": "stdout",
     "output_type": "stream",
     "text": [
      "<class 'bs4.BeautifulSoup'>\n"
     ]
    }
   ],
   "source": [
    "print(type(soup))"
   ]
  },
  {
   "cell_type": "code",
   "execution_count": 231,
   "metadata": {},
   "outputs": [],
   "source": [
    "def learn_teams(link : str, rl : RequestLimiter) -> Dict[str, str]:\n",
    "    tm_dict = {}\n",
    "    data = rl.get(requests.get, link)\n",
    "    if not data:\n",
    "        print(\"Couldn't get information in learn_teams() function!\")\n",
    "        return \n",
    "    data = data.text\n",
    "    soup = BeautifulSoup(data, 'html.parser')\n",
    "    \n",
    "    table = get_ith_table(soup, 4, class_ = 'stats_table')\n",
    "    if table:\n",
    "        rows = table.findChildren(['tr'])\n",
    "        for row in rows:\n",
    "            for a in row.find_all('a'):\n",
    "                tm_dict[a.text] = BASE + a.get('href')\n",
    "    else:\n",
    "        print(\"Previously hit rate limit on website!\")\n",
    "    return tm_dict\n"
   ]
  },
  {
   "cell_type": "code",
   "execution_count": 232,
   "metadata": {},
   "outputs": [],
   "source": [
    "def get_team_info(team : str, link : str, rl : RequestLimiter):\n",
    "    data =rl.get(requests.get, link)\n",
    "    if not data:\n",
    "        print(f\"Unable to retrieve team info for {team}!\")\n",
    "        return\n",
    "    soup = BeautifulSoup(data.text, 'html.parser')\n",
    "    arena = get_arena(soup)\n",
    "    # roster = read_ith_table(soup, 0, id = 'roster')\n",
    "    roster_table = get_ith_table(soup, 0, id = 'roster')\n",
    "    return arena, roster_table\n",
    "\n",
    "def get_arena(soup):\n",
    "    # Find arena\n",
    "    a = soup.find_all('div', id = 'meta')[0]\n",
    "    p = a.find_all('p')[-1]\n",
    "    arena = p.contents[2].strip()\n",
    "    return arena\n",
    "\n",
    "  \n",
    "def read_ith_table(soup, i, **kwargs):\n",
    "    table = get_ith_table(soup, i, **kwargs)\n",
    "    if table:\n",
    "        return pd.read_html(str(table), flavor='html5lib')[0]    \n"
   ]
  },
  {
   "cell_type": "code",
   "execution_count": 233,
   "metadata": {},
   "outputs": [],
   "source": [
    "def make_team_tuple(tm, stadium):\n",
    "    tm_tup = (YEAR, tm, stadium)\n",
    "    return tm_tup"
   ]
  },
  {
   "cell_type": "code",
   "execution_count": 234,
   "metadata": {},
   "outputs": [],
   "source": []
  },
  {
   "cell_type": "code",
   "execution_count": 356,
   "metadata": {},
   "outputs": [
    {
     "name": "stdout",
     "output_type": "stream",
     "text": [
      "Connecting to the PostgreSQL database...\n"
     ]
    }
   ],
   "source": [
    "pgc = PgConnection(config)\n",
    "conn = pgc.getConn()\n",
    "cur = pgc.getCurs()"
   ]
  },
  {
   "cell_type": "code",
   "execution_count": 357,
   "metadata": {},
   "outputs": [],
   "source": [
    "def process_debut_season(exp : str) -> int:\n",
    "    num = int(exp.replace('R','0'))\n",
    "    return YEAR - num\n",
    "\n",
    "def process_height(ht : str) -> int:\n",
    "    ht_split = ht.split('-')\n",
    "    ft, inch = ht_split[0], ht_split[1]\n",
    "    return int(ft) * 12 + int(inch)\n",
    "\n",
    "def process_name(name : str) -> str:\n",
    "    if name[-4:] == '(TW)':\n",
    "        return name[:-4].strip()\n",
    "    return name.strip()\n"
   ]
  },
  {
   "cell_type": "code",
   "execution_count": 358,
   "metadata": {},
   "outputs": [],
   "source": [
    "def process_player_table(player_table):\n",
    "    table = player_table\n",
    "    thead = player_table.find('thead')\n",
    "    data = []\n",
    "    column_names = [th.text.strip() for th in thead.find_all('th')]\n",
    "    had_link = set()\n",
    "    for row in table.find_all(['tr']):\n",
    "        row_data = []\n",
    "        link_data = []\n",
    "        for num, td in enumerate(row.find_all(['td','th'])):\n",
    "            not_link = None\n",
    "            if ''.join(td.text.strip()):\n",
    "                not_link = ''.join(td.text.strip())\n",
    "            row_data.append(not_link)\n",
    "\n",
    "            if td.find('a'):\n",
    "                link = td.a['href']\n",
    "                link_data.append(link)\n",
    "                had_link.add(num)\n",
    "        set_cols = True\n",
    "        data.append(row_data + link_data)\n",
    "\n",
    "    had_link = list(had_link)\n",
    "    had_link.sort()\n",
    "    for val in had_link:\n",
    "       column_names.append(column_names[val] + '_link')\n",
    "\n",
    "    df = pd.DataFrame(data[1:], columns= column_names)\n",
    "    return df\n",
    "\n",
    "\n",
    "def process_rows_for_player(df):\n",
    "    rows = []\n",
    "    for num, row in df.iterrows():\n",
    "        out = (process_name(row['Player']),\n",
    "                row['Birth Date'],\n",
    "                process_height(row['Ht']),\n",
    "                int(row['Wt']),\n",
    "                None,\n",
    "                process_debut_season(row['Exp']),\n",
    "                row[''].upper(),\n",
    "                row['College'],\n",
    "                row['Player_link'])\n",
    "        rows.append(out)\n",
    "    return rows\n",
    "\n",
    "def process_rows_for_roster(df, tm):\n",
    "    rows = []\n",
    "    for num, row in df.iterrows():\n",
    "        out = (YEAR,\n",
    "                tm,\n",
    "                process_name(row['Player']),\n",
    "                row['Birth Date'],\n",
    "                process_height(row['Ht']),\n",
    "                row['Wt'],\n",
    "                row['No.'],\n",
    "                row['Pos'])\n",
    "        rows.append(out)\n",
    "    return rows"
   ]
  },
  {
   "cell_type": "code",
   "execution_count": 359,
   "metadata": {},
   "outputs": [],
   "source": [
    "def players_to_db(tups):\n",
    "    args = ','.join(cur.mogrify(\"(%s,%s,%s,%s,%s,%s,%s,%s,%s)\", i).decode('utf-8') for i in tups)\n",
    "    qry = \"INSERT INTO player VALUES \" + (args) + \" ON CONFLICT (player_name, dob, height, weight) DO NOTHING\"\n",
    "    # print(qry)\n",
    "    try:\n",
    "        cur.execute(qry)\n",
    "        conn.commit()\n",
    "        print(\"Commited player insertion!\")\n",
    "    except Exception as e:\n",
    "        print(\"Couldn't execute and commit player insertion!\")\n",
    "        print(str(e))\n",
    "\n",
    "def roster_to_db(tups):\n",
    "    args = ','.join(cur.mogrify(\"(%s,%s,%s,%s,%s,%s,%s,%s)\", i).decode('utf-8') for i in tups)\n",
    "    qry = \"INSERT INTO roster VALUES \" + (args) + \" ON CONFLICT (season, team, player_name, dob, height, weight) DO NOTHING\"\n",
    "    try:\n",
    "        cur.execute(qry)\n",
    "        conn.commit()\n",
    "        print(\"Commited roster insertion!\")\n",
    "    except Exception as e:\n",
    "        print(\"Couldn't execute and commit roster insertion!\")\n",
    "        print(str(e))\n",
    "\n",
    "def team_to_db(team_tup):\n",
    "    args = ','.join(cur.mogrify(\"(%s,%s,%s)\", i).decode('utf-8') for i in team_tup)\n",
    "    qry = \"INSERT INTO team VALUES \" + (args) + \" ON CONFLICT (season, team) DO NOTHING\"\n",
    "    try:\n",
    "        cur.execute(qry)\n",
    "        conn.commit()\n",
    "        print(\"Commited team insertion!\")\n",
    "    except Exception as e:\n",
    "        print(\"Couldn't execute and commit team insertion!\")\n",
    "        print(str(e))\n",
    "\n",
    "\n",
    "guy = None\n",
    "def load_teams(year : int, bases : Dict[str, str], rl : RequestLimiter):\n",
    "    team_links : Dict[str, str] = learn_teams(bases['summary_base'], rl)\n",
    "    tl = dict((k, team_links[k]) for k in ['Boston Celtics','Miami Heat','Detroit Pistons'])\n",
    "    print(tl)\n",
    "    for tm, link in tl.items():\n",
    "        stadium, player_table = get_team_info(tm, tl[tm], rl)\n",
    "\n",
    "        team_tup = [(YEAR, tm, stadium)]\n",
    "        team_to_db(team_tup)\n",
    "\n",
    "        df = process_player_table(player_table)\n",
    "        player_tups = process_rows_for_player(df)\n",
    "        players_to_db(player_tups)\n",
    "        \n",
    "        roster_tups = process_rows_for_roster(df, tm)\n",
    "        roster_to_db(roster_tups)\n",
    "\n",
    "    return"
   ]
  },
  {
   "cell_type": "code",
   "execution_count": 360,
   "metadata": {},
   "outputs": [
    {
     "name": "stdout",
     "output_type": "stream",
     "text": [
      "Successfully processed append to queue...\n",
      "Size of current queue... 1\n",
      "Saving RequestLimiter status to disk...\n",
      "{'Boston Celtics': 'https://www.basketball-reference.com/teams/BOS/2023.html', 'Miami Heat': 'https://www.basketball-reference.com/teams/MIA/2023.html', 'Detroit Pistons': 'https://www.basketball-reference.com/teams/DET/2023.html'}\n",
      "Successfully processed append to queue...\n",
      "Size of current queue... 2\n",
      "Saving RequestLimiter status to disk...\n",
      "Commited team insertion!\n",
      "Commited player insertion!\n",
      "Commited roster insertion!\n",
      "Successfully processed append to queue...\n",
      "Size of current queue... 3\n",
      "Saving RequestLimiter status to disk...\n",
      "Commited team insertion!\n",
      "Commited player insertion!\n",
      "Commited roster insertion!\n",
      "Successfully processed append to queue...\n",
      "Size of current queue... 4\n",
      "Saving RequestLimiter status to disk...\n",
      "Commited team insertion!\n",
      "Commited player insertion!\n",
      "Commited roster insertion!\n"
     ]
    }
   ],
   "source": [
    "tups = load_teams(year = YEAR, bases = bases, rl = rl)"
   ]
  },
  {
   "cell_type": "code",
   "execution_count": 208,
   "metadata": {},
   "outputs": [
    {
     "name": "stdout",
     "output_type": "stream",
     "text": [
      "<class 'str'>\n"
     ]
    }
   ],
   "source": [
    "print(type(args))"
   ]
  },
  {
   "cell_type": "code",
   "execution_count": 211,
   "metadata": {},
   "outputs": [
    {
     "name": "stdout",
     "output_type": "stream",
     "text": [
      "INSERT INTO player VALUES (DEFAULT, 'Derrick White',NULL,2018,76,190,'July 2, 1994','US','Colorado-Colorado Springs, Colorado','/players/w/whitede01.html'),(DEFAULT, 'Sam Hauser',NULL,2022,80,215,'December 8, 1997','US','Marquette, Virginia','/players/h/hausesa01.html'),(DEFAULT, 'Grant Williams',NULL,2020,78,236,'November 30, 1998','US','Tennessee','/players/w/willigr01.html'),(DEFAULT, 'Jayson Tatum',NULL,2018,80,210,'March 3, 1998','US','Duke','/players/t/tatumja01.html'),(DEFAULT, 'Jaylen Brown',NULL,2017,78,223,'October 24, 1996','US','California','/players/b/brownja02.html'),(DEFAULT, 'Marcus Smart',NULL,2015,75,220,'March 6, 1994','US','Oklahoma State','/players/s/smartma01.html'),(DEFAULT, 'Malcolm Brogdon',NULL,2017,77,229,'December 11, 1992','US','Virginia','/players/b/brogdma01.html'),(DEFAULT, 'Luke Kornet',NULL,2018,86,250,'July 15, 1995','US','Vanderbilt','/players/k/kornelu01.html'),(DEFAULT, 'Al Horford',NULL,2008,81,240,'June 3, 1986','DO','Florida','/players/h/horfoal01.html'),(DEFAULT, 'Payton Pritchard',NULL,2021,73,195,'January 28, 1998','US','Oregon','/players/p/pritcpa01.html'),(DEFAULT, 'Noah Vonleh',NULL,2016,82,257,'August 24, 1995','US','Indiana','/players/v/vonleno01.html'),(DEFAULT, 'Blake Griffin',NULL,2011,81,250,'March 16, 1989','US','Oklahoma','/players/g/griffbl01.html'),(DEFAULT, 'Justin Jackson',NULL,2018,80,220,'March 28, 1995','US','UNC','/players/j/jacksju01.html'),(DEFAULT, 'Robert Williams',NULL,2019,81,237,'October 17, 1997','US','Texas A&M','/players/w/williro04.html'),(DEFAULT, 'JD Davison  (TW)',NULL,2023,75,195,'October 3, 2002','US','Alabama','/players/d/davisjd01.html'),(DEFAULT, 'Mfiondu Kabengele  (TW)',NULL,2021,81,250,'August 14, 1997','CA','Florida State','/players/k/kabenmf01.html'),(DEFAULT, 'Danilo Gallinari',NULL,2010,82,233,'August 8, 1988','IT',NULL,'/players/g/gallida01.html')\n"
     ]
    }
   ],
   "source": []
  },
  {
   "cell_type": "code",
   "execution_count": 210,
   "metadata": {},
   "outputs": [],
   "source": []
  },
  {
   "cell_type": "code",
   "execution_count": 154,
   "metadata": {},
   "outputs": [],
   "source": [
    "cur.execute(\"SELECT * FROM player\")"
   ]
  },
  {
   "cell_type": "code",
   "execution_count": 100,
   "metadata": {},
   "outputs": [
    {
     "data": {
      "text/plain": [
       "[('Derrick White',\n",
       "  None,\n",
       "  2018,\n",
       "  76,\n",
       "  190,\n",
       "  'July 2, 1994',\n",
       "  'US',\n",
       "  'Colorado-Colorado Springs, Colorado',\n",
       "  '/players/w/whitede01.html'),\n",
       " ('Sam Hauser',\n",
       "  None,\n",
       "  2022,\n",
       "  80,\n",
       "  215,\n",
       "  'December 8, 1997',\n",
       "  'US',\n",
       "  'Marquette, Virginia',\n",
       "  '/players/h/hausesa01.html')]"
      ]
     },
     "execution_count": 100,
     "metadata": {},
     "output_type": "execute_result"
    }
   ],
   "source": [
    "ls"
   ]
  },
  {
   "cell_type": "code",
   "execution_count": null,
   "metadata": {},
   "outputs": [],
   "source": [
    "def load_players(tm, df, rl):\n",
    "    i = 0\n",
    "    for index, row in df.iterrows():\n",
    "        player_id = checkPlayerDatabase(row)\n",
    "        if player_id is None:\n",
    "            loadToPlayerDatabase(row, rl)\n",
    "        loadToRoster()\n",
    "        i += 1\n",
    "        if i > 0:\n",
    "            break\n",
    "        # if player_id is None:\n",
    "            # loadToPlayerDatabase()\n",
    "        # loadToRoster(row, tm, player_id)\n",
    "def loadToPlayerDatabase(row, rl):\n",
    "    link = BASE + row['Player_link']\n",
    "    player_tup = get_player_info(row)\n"
   ]
  }
 ],
 "metadata": {
  "kernelspec": {
   "display_name": "ncaa",
   "language": "python",
   "name": "python3"
  },
  "language_info": {
   "codemirror_mode": {
    "name": "ipython",
    "version": 3
   },
   "file_extension": ".py",
   "mimetype": "text/x-python",
   "name": "python",
   "nbconvert_exporter": "python",
   "pygments_lexer": "ipython3",
   "version": "3.9.12"
  },
  "orig_nbformat": 4,
  "vscode": {
   "interpreter": {
    "hash": "bee5674010edb9cafde857bf6ed1f796045a81d354f601a762200feb8a30ef17"
   }
  }
 },
 "nbformat": 4,
 "nbformat_minor": 2
}
