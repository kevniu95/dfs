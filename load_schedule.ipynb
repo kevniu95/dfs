{
 "cells": [
  {
   "cell_type": "code",
   "execution_count": 1,
   "metadata": {},
   "outputs": [],
   "source": [
    "from bs4 import BeautifulSoup\n",
    "import requests \n",
    "import pandas as pd\n",
    "import lxml\n",
    "import psycopg2\n",
    "import argparse"
   ]
  },
  {
   "cell_type": "code",
   "execution_count": 2,
   "metadata": {},
   "outputs": [],
   "source": [
    "from pgConnect import PgConnection\n",
    "from requestLimiter import RequestLimiter\n",
    "from config import Config\n",
    "from typing import Dict"
   ]
  },
  {
   "cell_type": "code",
   "execution_count": 3,
   "metadata": {},
   "outputs": [],
   "source": [
    "def get_ith_table(soup, i, **kwargs):\n",
    "    # Get and return table\n",
    "    tables = soup.find_all('table', **kwargs)\n",
    "    if len(tables) > 0:\n",
    "        table = tables[i]\n",
    "        return table\n",
    "    else:\n",
    "        print(\"No table found on this HTML page!\")\n",
    "        "
   ]
  },
  {
   "cell_type": "code",
   "execution_count": 5,
   "metadata": {},
   "outputs": [
    {
     "name": "stdout",
     "output_type": "stream",
     "text": [
      "Successfully loaded previous Rate Limiter info for https://www.basketball-reference.com\n",
      "Initialized with 0 of 20 entries filled\n",
      "\n",
      "Saving RequestLimiter status to disk...\n"
     ]
    }
   ],
   "source": [
    "config : Config = Config('config.ini')\n",
    "# reader \n",
    "read_constants : Dict[str, str] = config.parse_section('reader')\n",
    "BASE : str = read_constants['base']\n",
    "NAME : str = BASE[BASE.find('.') + 1:]\n",
    "\n",
    "# requestLimiter\n",
    "rl_constants : Dict[str, str] = config.parse_section('requestLimiter')\n",
    "load_loc = rl_constants['load_location']\n",
    "LOAD_FILE : str = f'{load_loc}{NAME}.p'\n",
    "INTERVAL : int = int(rl_constants['interval'])\n",
    "LIMIT : int = int(rl_constants['limit'])\n",
    "\n",
    "# ======\n",
    "# 2. Parse args\n",
    "# ======\n",
    "YEAR : int = 2023\n",
    "\n",
    "rl : RequestLimiter = RequestLimiter(BASE, \n",
    "                    interval = INTERVAL, \n",
    "                    limit = LIMIT, \n",
    "                    load = LOAD_FILE)\n",
    "bases = {'summary_base' :BASE + f'/leagues/NBA_{YEAR}.html',\n",
    "            'schedule_base' : BASE + '/leagues/NBA_%s_games-%s.html'}"
   ]
  },
  {
   "cell_type": "code",
   "execution_count": 6,
   "metadata": {},
   "outputs": [],
   "source": [
    "def learn_teams(link : str, rl : RequestLimiter) -> Dict[str, str]:\n",
    "    tm_dict = {}\n",
    "    data = rl.get(requests.get, link)\n",
    "    if not data:\n",
    "        print(\"Couldn't get information in learn_teams() function!\")\n",
    "        return \n",
    "    data = data.text\n",
    "    soup = BeautifulSoup(data, 'html.parser')\n",
    "    \n",
    "    table = get_ith_table(soup, 4, class_ = 'stats_table')\n",
    "    if table:\n",
    "        rows = table.findChildren(['tr'])\n",
    "        for row in rows:\n",
    "            for a in row.find_all('a'):\n",
    "                tm_dict[a.text] = BASE + a.get('href')\n",
    "    else:\n",
    "        print(\"Previously hit rate limit on website!\")\n",
    "    return tm_dict\n"
   ]
  },
  {
   "cell_type": "code",
   "execution_count": 59,
   "metadata": {},
   "outputs": [],
   "source": [
    "def get_team_info(team : str, link : str, rl : RequestLimiter):\n",
    "    data =rl.get(requests.get, link)\n",
    "    if not data:\n",
    "        print(f\"Unable to retrieve team info for {team}!\")\n",
    "        return\n",
    "    soup = BeautifulSoup(data.text, 'html.parser')\n",
    "    arena = get_arena(soup)\n",
    "    roster = read_ith_table(soup, 0, id = 'roster')\n",
    "    roster_table = get_ith_table(soup, 0, id = 'roster')\n",
    "    print(roster_table)\n",
    "    return arena, roster, roster_table\n",
    "\n",
    "        \n",
    "def get_arena(soup):\n",
    "    # Find arena\n",
    "    a = soup.find_all('div', id = 'meta')[0]\n",
    "    p = a.find_all('p')[-1]\n",
    "    arena = p.contents[2].strip()\n",
    "    return arena\n",
    "\n",
    "  \n",
    "def read_ith_table(soup, i, **kwargs):\n",
    "    table = get_ith_table(soup, i, **kwargs)\n",
    "    if table:\n",
    "        return pd.read_html(str(table), flavor='html5lib')[0]    \n"
   ]
  },
  {
   "cell_type": "code",
   "execution_count": 60,
   "metadata": {},
   "outputs": [],
   "source": [
    "def make_team_tuple(tm, stadium):\n",
    "    tm_tup = (YEAR, tm, stadium)\n",
    "    return tm_tup"
   ]
  },
  {
   "cell_type": "code",
   "execution_count": 69,
   "metadata": {},
   "outputs": [
    {
     "ename": "ValueError",
     "evalue": "0 columns passed, passed data had 8 columns",
     "output_type": "error",
     "traceback": [
      "\u001b[0;31m---------------------------------------------------------------------------\u001b[0m",
      "\u001b[0;31mAssertionError\u001b[0m                            Traceback (most recent call last)",
      "File \u001b[0;32m~/.virtualenvs/ncaa/lib/python3.9/site-packages/pandas/core/internals/construction.py:982\u001b[0m, in \u001b[0;36m_finalize_columns_and_data\u001b[0;34m(content, columns, dtype)\u001b[0m\n\u001b[1;32m    981\u001b[0m \u001b[39mtry\u001b[39;00m:\n\u001b[0;32m--> 982\u001b[0m     columns \u001b[39m=\u001b[39m _validate_or_indexify_columns(contents, columns)\n\u001b[1;32m    983\u001b[0m \u001b[39mexcept\u001b[39;00m \u001b[39mAssertionError\u001b[39;00m \u001b[39mas\u001b[39;00m err:\n\u001b[1;32m    984\u001b[0m     \u001b[39m# GH#26429 do not raise user-facing AssertionError\u001b[39;00m\n",
      "File \u001b[0;32m~/.virtualenvs/ncaa/lib/python3.9/site-packages/pandas/core/internals/construction.py:1030\u001b[0m, in \u001b[0;36m_validate_or_indexify_columns\u001b[0;34m(content, columns)\u001b[0m\n\u001b[1;32m   1028\u001b[0m \u001b[39mif\u001b[39;00m \u001b[39mnot\u001b[39;00m is_mi_list \u001b[39mand\u001b[39;00m \u001b[39mlen\u001b[39m(columns) \u001b[39m!=\u001b[39m \u001b[39mlen\u001b[39m(content):  \u001b[39m# pragma: no cover\u001b[39;00m\n\u001b[1;32m   1029\u001b[0m     \u001b[39m# caller's responsibility to check for this...\u001b[39;00m\n\u001b[0;32m-> 1030\u001b[0m     \u001b[39mraise\u001b[39;00m \u001b[39mAssertionError\u001b[39;00m(\n\u001b[1;32m   1031\u001b[0m         \u001b[39mf\u001b[39m\u001b[39m\"\u001b[39m\u001b[39m{\u001b[39;00m\u001b[39mlen\u001b[39m(columns)\u001b[39m}\u001b[39;00m\u001b[39m columns passed, passed data had \u001b[39m\u001b[39m\"\u001b[39m\n\u001b[1;32m   1032\u001b[0m         \u001b[39mf\u001b[39m\u001b[39m\"\u001b[39m\u001b[39m{\u001b[39;00m\u001b[39mlen\u001b[39m(content)\u001b[39m}\u001b[39;00m\u001b[39m columns\u001b[39m\u001b[39m\"\u001b[39m\n\u001b[1;32m   1033\u001b[0m     )\n\u001b[1;32m   1034\u001b[0m \u001b[39melif\u001b[39;00m is_mi_list:\n\u001b[1;32m   1035\u001b[0m \n\u001b[1;32m   1036\u001b[0m     \u001b[39m# check if nested list column, length of each sub-list should be equal\u001b[39;00m\n",
      "\u001b[0;31mAssertionError\u001b[0m: 0 columns passed, passed data had 8 columns",
      "\nThe above exception was the direct cause of the following exception:\n",
      "\u001b[0;31mValueError\u001b[0m                                Traceback (most recent call last)",
      "\u001b[1;32m/Users/kniu91/Documents/Kevin's Folders/Projects/dfs/rds/load_schedule.ipynb Cell 8\u001b[0m in \u001b[0;36m<cell line: 1>\u001b[0;34m()\u001b[0m\n\u001b[0;32m----> <a href='vscode-notebook-cell:/Users/kniu91/Documents/Kevin%27s%20Folders/Projects/dfs/rds/load_schedule.ipynb#X42sZmlsZQ%3D%3D?line=0'>1</a>\u001b[0m process_player_table(dat)\n",
      "\u001b[1;32m/Users/kniu91/Documents/Kevin's Folders/Projects/dfs/rds/load_schedule.ipynb Cell 8\u001b[0m in \u001b[0;36mprocess_player_table\u001b[0;34m(player_table)\u001b[0m\n\u001b[1;32m      <a href='vscode-notebook-cell:/Users/kniu91/Documents/Kevin%27s%20Folders/Projects/dfs/rds/load_schedule.ipynb#X42sZmlsZQ%3D%3D?line=0'>1</a>\u001b[0m \u001b[39mdef\u001b[39;00m \u001b[39mprocess_player_table\u001b[39m(player_table):\n\u001b[1;32m      <a href='vscode-notebook-cell:/Users/kniu91/Documents/Kevin%27s%20Folders/Projects/dfs/rds/load_schedule.ipynb#X42sZmlsZQ%3D%3D?line=1'>2</a>\u001b[0m     data \u001b[39m=\u001b[39m [[td\u001b[39m.\u001b[39ma[\u001b[39m'\u001b[39m\u001b[39mhref\u001b[39m\u001b[39m'\u001b[39m] \u001b[39mif\u001b[39;00m td\u001b[39m.\u001b[39mfind(\u001b[39m'\u001b[39m\u001b[39ma\u001b[39m\u001b[39m'\u001b[39m) \u001b[39melse\u001b[39;00m \n\u001b[1;32m      <a href='vscode-notebook-cell:/Users/kniu91/Documents/Kevin%27s%20Folders/Projects/dfs/rds/load_schedule.ipynb#X42sZmlsZQ%3D%3D?line=2'>3</a>\u001b[0m             \u001b[39m'\u001b[39m\u001b[39m'\u001b[39m\u001b[39m.\u001b[39mjoin(td\u001b[39m.\u001b[39mstripped_strings)\n\u001b[1;32m      <a href='vscode-notebook-cell:/Users/kniu91/Documents/Kevin%27s%20Folders/Projects/dfs/rds/load_schedule.ipynb#X42sZmlsZQ%3D%3D?line=3'>4</a>\u001b[0m             \u001b[39mfor\u001b[39;00m td \u001b[39min\u001b[39;00m row\u001b[39m.\u001b[39mfind_all(\u001b[39m'\u001b[39m\u001b[39mtd\u001b[39m\u001b[39m'\u001b[39m)]\n\u001b[1;32m      <a href='vscode-notebook-cell:/Users/kniu91/Documents/Kevin%27s%20Folders/Projects/dfs/rds/load_schedule.ipynb#X42sZmlsZQ%3D%3D?line=4'>5</a>\u001b[0m             \u001b[39mfor\u001b[39;00m row \u001b[39min\u001b[39;00m player_table\u001b[39m.\u001b[39mfind_all(\u001b[39m'\u001b[39m\u001b[39mtr\u001b[39m\u001b[39m'\u001b[39m)]\n\u001b[0;32m----> <a href='vscode-notebook-cell:/Users/kniu91/Documents/Kevin%27s%20Folders/Projects/dfs/rds/load_schedule.ipynb#X42sZmlsZQ%3D%3D?line=5'>6</a>\u001b[0m     df \u001b[39m=\u001b[39m pd\u001b[39m.\u001b[39;49mDataFrame(data[\u001b[39m1\u001b[39;49m:], columns\u001b[39m=\u001b[39;49mdata[\u001b[39m0\u001b[39;49m])\n\u001b[1;32m      <a href='vscode-notebook-cell:/Users/kniu91/Documents/Kevin%27s%20Folders/Projects/dfs/rds/load_schedule.ipynb#X42sZmlsZQ%3D%3D?line=6'>7</a>\u001b[0m     \u001b[39mprint\u001b[39m(df)\n",
      "File \u001b[0;32m~/.virtualenvs/ncaa/lib/python3.9/site-packages/pandas/core/frame.py:721\u001b[0m, in \u001b[0;36mDataFrame.__init__\u001b[0;34m(self, data, index, columns, dtype, copy)\u001b[0m\n\u001b[1;32m    716\u001b[0m     \u001b[39mif\u001b[39;00m columns \u001b[39mis\u001b[39;00m \u001b[39mnot\u001b[39;00m \u001b[39mNone\u001b[39;00m:\n\u001b[1;32m    717\u001b[0m         \u001b[39m# error: Argument 1 to \"ensure_index\" has incompatible type\u001b[39;00m\n\u001b[1;32m    718\u001b[0m         \u001b[39m# \"Collection[Any]\"; expected \"Union[Union[Union[ExtensionArray,\u001b[39;00m\n\u001b[1;32m    719\u001b[0m         \u001b[39m# ndarray], Index, Series], Sequence[Any]]\"\u001b[39;00m\n\u001b[1;32m    720\u001b[0m         columns \u001b[39m=\u001b[39m ensure_index(columns)  \u001b[39m# type: ignore[arg-type]\u001b[39;00m\n\u001b[0;32m--> 721\u001b[0m     arrays, columns, index \u001b[39m=\u001b[39m nested_data_to_arrays(\n\u001b[1;32m    722\u001b[0m         \u001b[39m# error: Argument 3 to \"nested_data_to_arrays\" has incompatible\u001b[39;49;00m\n\u001b[1;32m    723\u001b[0m         \u001b[39m# type \"Optional[Collection[Any]]\"; expected \"Optional[Index]\"\u001b[39;49;00m\n\u001b[1;32m    724\u001b[0m         data,\n\u001b[1;32m    725\u001b[0m         columns,\n\u001b[1;32m    726\u001b[0m         index,  \u001b[39m# type: ignore[arg-type]\u001b[39;49;00m\n\u001b[1;32m    727\u001b[0m         dtype,\n\u001b[1;32m    728\u001b[0m     )\n\u001b[1;32m    729\u001b[0m     mgr \u001b[39m=\u001b[39m arrays_to_mgr(\n\u001b[1;32m    730\u001b[0m         arrays,\n\u001b[1;32m    731\u001b[0m         columns,\n\u001b[0;32m   (...)\u001b[0m\n\u001b[1;32m    734\u001b[0m         typ\u001b[39m=\u001b[39mmanager,\n\u001b[1;32m    735\u001b[0m     )\n\u001b[1;32m    736\u001b[0m \u001b[39melse\u001b[39;00m:\n",
      "File \u001b[0;32m~/.virtualenvs/ncaa/lib/python3.9/site-packages/pandas/core/internals/construction.py:519\u001b[0m, in \u001b[0;36mnested_data_to_arrays\u001b[0;34m(data, columns, index, dtype)\u001b[0m\n\u001b[1;32m    516\u001b[0m \u001b[39mif\u001b[39;00m is_named_tuple(data[\u001b[39m0\u001b[39m]) \u001b[39mand\u001b[39;00m columns \u001b[39mis\u001b[39;00m \u001b[39mNone\u001b[39;00m:\n\u001b[1;32m    517\u001b[0m     columns \u001b[39m=\u001b[39m ensure_index(data[\u001b[39m0\u001b[39m]\u001b[39m.\u001b[39m_fields)\n\u001b[0;32m--> 519\u001b[0m arrays, columns \u001b[39m=\u001b[39m to_arrays(data, columns, dtype\u001b[39m=\u001b[39;49mdtype)\n\u001b[1;32m    520\u001b[0m columns \u001b[39m=\u001b[39m ensure_index(columns)\n\u001b[1;32m    522\u001b[0m \u001b[39mif\u001b[39;00m index \u001b[39mis\u001b[39;00m \u001b[39mNone\u001b[39;00m:\n",
      "File \u001b[0;32m~/.virtualenvs/ncaa/lib/python3.9/site-packages/pandas/core/internals/construction.py:883\u001b[0m, in \u001b[0;36mto_arrays\u001b[0;34m(data, columns, dtype)\u001b[0m\n\u001b[1;32m    880\u001b[0m     data \u001b[39m=\u001b[39m [\u001b[39mtuple\u001b[39m(x) \u001b[39mfor\u001b[39;00m x \u001b[39min\u001b[39;00m data]\n\u001b[1;32m    881\u001b[0m     arr \u001b[39m=\u001b[39m _list_to_arrays(data)\n\u001b[0;32m--> 883\u001b[0m content, columns \u001b[39m=\u001b[39m _finalize_columns_and_data(arr, columns, dtype)\n\u001b[1;32m    884\u001b[0m \u001b[39mreturn\u001b[39;00m content, columns\n",
      "File \u001b[0;32m~/.virtualenvs/ncaa/lib/python3.9/site-packages/pandas/core/internals/construction.py:985\u001b[0m, in \u001b[0;36m_finalize_columns_and_data\u001b[0;34m(content, columns, dtype)\u001b[0m\n\u001b[1;32m    982\u001b[0m     columns \u001b[39m=\u001b[39m _validate_or_indexify_columns(contents, columns)\n\u001b[1;32m    983\u001b[0m \u001b[39mexcept\u001b[39;00m \u001b[39mAssertionError\u001b[39;00m \u001b[39mas\u001b[39;00m err:\n\u001b[1;32m    984\u001b[0m     \u001b[39m# GH#26429 do not raise user-facing AssertionError\u001b[39;00m\n\u001b[0;32m--> 985\u001b[0m     \u001b[39mraise\u001b[39;00m \u001b[39mValueError\u001b[39;00m(err) \u001b[39mfrom\u001b[39;00m \u001b[39merr\u001b[39;00m\n\u001b[1;32m    987\u001b[0m \u001b[39mif\u001b[39;00m \u001b[39mlen\u001b[39m(contents) \u001b[39mand\u001b[39;00m contents[\u001b[39m0\u001b[39m]\u001b[39m.\u001b[39mdtype \u001b[39m==\u001b[39m np\u001b[39m.\u001b[39mobject_:\n\u001b[1;32m    988\u001b[0m     contents \u001b[39m=\u001b[39m _convert_object_array(contents, dtype\u001b[39m=\u001b[39mdtype)\n",
      "\u001b[0;31mValueError\u001b[0m: 0 columns passed, passed data had 8 columns"
     ]
    }
   ],
   "source": []
  },
  {
   "cell_type": "code",
   "execution_count": 144,
   "metadata": {},
   "outputs": [
    {
     "data": {
      "text/html": [
       "<div>\n",
       "<style scoped>\n",
       "    .dataframe tbody tr th:only-of-type {\n",
       "        vertical-align: middle;\n",
       "    }\n",
       "\n",
       "    .dataframe tbody tr th {\n",
       "        vertical-align: top;\n",
       "    }\n",
       "\n",
       "    .dataframe thead th {\n",
       "        text-align: right;\n",
       "    }\n",
       "</style>\n",
       "<table border=\"1\" class=\"dataframe\">\n",
       "  <thead>\n",
       "    <tr style=\"text-align: right;\">\n",
       "      <th></th>\n",
       "      <th>No.</th>\n",
       "      <th>Player</th>\n",
       "      <th>Pos</th>\n",
       "      <th>Ht</th>\n",
       "      <th>Wt</th>\n",
       "      <th>Birth Date</th>\n",
       "      <th></th>\n",
       "      <th>Exp</th>\n",
       "      <th>College</th>\n",
       "      <th>Player_link</th>\n",
       "      <th>College_link</th>\n",
       "    </tr>\n",
       "  </thead>\n",
       "  <tbody>\n",
       "    <tr>\n",
       "      <th>0</th>\n",
       "      <td>9</td>\n",
       "      <td>Derrick White</td>\n",
       "      <td>SG</td>\n",
       "      <td>6-4</td>\n",
       "      <td>190</td>\n",
       "      <td>July 2, 1994</td>\n",
       "      <td>us</td>\n",
       "      <td>5</td>\n",
       "      <td>Colorado-Colorado Springs, Colorado</td>\n",
       "      <td>/players/w/whitede01.html</td>\n",
       "      <td>/friv/colleges.fcgi?college=coloradocs</td>\n",
       "    </tr>\n",
       "    <tr>\n",
       "      <th>1</th>\n",
       "      <td>30</td>\n",
       "      <td>Sam Hauser</td>\n",
       "      <td>PF</td>\n",
       "      <td>6-8</td>\n",
       "      <td>215</td>\n",
       "      <td>December 8, 1997</td>\n",
       "      <td>us</td>\n",
       "      <td>1</td>\n",
       "      <td>Marquette, Virginia</td>\n",
       "      <td>/players/h/hausesa01.html</td>\n",
       "      <td>/friv/colleges.fcgi?college=marquette</td>\n",
       "    </tr>\n",
       "    <tr>\n",
       "      <th>2</th>\n",
       "      <td>12</td>\n",
       "      <td>Grant Williams</td>\n",
       "      <td>PF</td>\n",
       "      <td>6-6</td>\n",
       "      <td>236</td>\n",
       "      <td>November 30, 1998</td>\n",
       "      <td>us</td>\n",
       "      <td>3</td>\n",
       "      <td>Tennessee</td>\n",
       "      <td>/players/w/willigr01.html</td>\n",
       "      <td>/friv/colleges.fcgi?college=tennessee</td>\n",
       "    </tr>\n",
       "    <tr>\n",
       "      <th>3</th>\n",
       "      <td>0</td>\n",
       "      <td>Jayson Tatum</td>\n",
       "      <td>PF</td>\n",
       "      <td>6-8</td>\n",
       "      <td>210</td>\n",
       "      <td>March 3, 1998</td>\n",
       "      <td>us</td>\n",
       "      <td>5</td>\n",
       "      <td>Duke</td>\n",
       "      <td>/players/t/tatumja01.html</td>\n",
       "      <td>/friv/colleges.fcgi?college=duke</td>\n",
       "    </tr>\n",
       "    <tr>\n",
       "      <th>4</th>\n",
       "      <td>7</td>\n",
       "      <td>Jaylen Brown</td>\n",
       "      <td>SF</td>\n",
       "      <td>6-6</td>\n",
       "      <td>223</td>\n",
       "      <td>October 24, 1996</td>\n",
       "      <td>us</td>\n",
       "      <td>6</td>\n",
       "      <td>California</td>\n",
       "      <td>/players/b/brownja02.html</td>\n",
       "      <td>/friv/colleges.fcgi?college=california</td>\n",
       "    </tr>\n",
       "    <tr>\n",
       "      <th>5</th>\n",
       "      <td>36</td>\n",
       "      <td>Marcus Smart</td>\n",
       "      <td>PG</td>\n",
       "      <td>6-3</td>\n",
       "      <td>220</td>\n",
       "      <td>March 6, 1994</td>\n",
       "      <td>us</td>\n",
       "      <td>8</td>\n",
       "      <td>Oklahoma State</td>\n",
       "      <td>/players/s/smartma01.html</td>\n",
       "      <td>/friv/colleges.fcgi?college=okstate</td>\n",
       "    </tr>\n",
       "    <tr>\n",
       "      <th>6</th>\n",
       "      <td>13</td>\n",
       "      <td>Malcolm Brogdon</td>\n",
       "      <td>PG</td>\n",
       "      <td>6-5</td>\n",
       "      <td>229</td>\n",
       "      <td>December 11, 1992</td>\n",
       "      <td>us</td>\n",
       "      <td>6</td>\n",
       "      <td>Virginia</td>\n",
       "      <td>/players/b/brogdma01.html</td>\n",
       "      <td>/friv/colleges.fcgi?college=virginia</td>\n",
       "    </tr>\n",
       "    <tr>\n",
       "      <th>7</th>\n",
       "      <td>40</td>\n",
       "      <td>Luke Kornet</td>\n",
       "      <td>C</td>\n",
       "      <td>7-2</td>\n",
       "      <td>250</td>\n",
       "      <td>July 15, 1995</td>\n",
       "      <td>us</td>\n",
       "      <td>5</td>\n",
       "      <td>Vanderbilt</td>\n",
       "      <td>/players/k/kornelu01.html</td>\n",
       "      <td>/friv/colleges.fcgi?college=vandy</td>\n",
       "    </tr>\n",
       "    <tr>\n",
       "      <th>8</th>\n",
       "      <td>42</td>\n",
       "      <td>Al Horford</td>\n",
       "      <td>C</td>\n",
       "      <td>6-9</td>\n",
       "      <td>240</td>\n",
       "      <td>June 3, 1986</td>\n",
       "      <td>do</td>\n",
       "      <td>15</td>\n",
       "      <td>Florida</td>\n",
       "      <td>/players/h/horfoal01.html</td>\n",
       "      <td>/friv/colleges.fcgi?college=florida</td>\n",
       "    </tr>\n",
       "    <tr>\n",
       "      <th>9</th>\n",
       "      <td>11</td>\n",
       "      <td>Payton Pritchard</td>\n",
       "      <td>PG</td>\n",
       "      <td>6-1</td>\n",
       "      <td>195</td>\n",
       "      <td>January 28, 1998</td>\n",
       "      <td>us</td>\n",
       "      <td>2</td>\n",
       "      <td>Oregon</td>\n",
       "      <td>/players/p/pritcpa01.html</td>\n",
       "      <td>/friv/colleges.fcgi?college=oregon</td>\n",
       "    </tr>\n",
       "    <tr>\n",
       "      <th>10</th>\n",
       "      <td>4</td>\n",
       "      <td>Noah Vonleh</td>\n",
       "      <td>C</td>\n",
       "      <td>6-10</td>\n",
       "      <td>257</td>\n",
       "      <td>August 24, 1995</td>\n",
       "      <td>us</td>\n",
       "      <td>7</td>\n",
       "      <td>Indiana</td>\n",
       "      <td>/players/v/vonleno01.html</td>\n",
       "      <td>/friv/colleges.fcgi?college=indiana</td>\n",
       "    </tr>\n",
       "    <tr>\n",
       "      <th>11</th>\n",
       "      <td>91</td>\n",
       "      <td>Blake Griffin</td>\n",
       "      <td>PF</td>\n",
       "      <td>6-9</td>\n",
       "      <td>250</td>\n",
       "      <td>March 16, 1989</td>\n",
       "      <td>us</td>\n",
       "      <td>12</td>\n",
       "      <td>Oklahoma</td>\n",
       "      <td>/players/g/griffbl01.html</td>\n",
       "      <td>/friv/colleges.fcgi?college=oklahoma</td>\n",
       "    </tr>\n",
       "    <tr>\n",
       "      <th>12</th>\n",
       "      <td>43</td>\n",
       "      <td>Justin Jackson</td>\n",
       "      <td>SF</td>\n",
       "      <td>6-8</td>\n",
       "      <td>220</td>\n",
       "      <td>March 28, 1995</td>\n",
       "      <td>us</td>\n",
       "      <td>5</td>\n",
       "      <td>UNC</td>\n",
       "      <td>/players/j/jacksju01.html</td>\n",
       "      <td>/friv/colleges.fcgi?college=unc</td>\n",
       "    </tr>\n",
       "    <tr>\n",
       "      <th>13</th>\n",
       "      <td>44</td>\n",
       "      <td>Robert Williams</td>\n",
       "      <td>C</td>\n",
       "      <td>6-9</td>\n",
       "      <td>237</td>\n",
       "      <td>October 17, 1997</td>\n",
       "      <td>us</td>\n",
       "      <td>4</td>\n",
       "      <td>Texas A&amp;M</td>\n",
       "      <td>/players/w/williro04.html</td>\n",
       "      <td>/friv/colleges.fcgi?college=texasam</td>\n",
       "    </tr>\n",
       "    <tr>\n",
       "      <th>14</th>\n",
       "      <td>20</td>\n",
       "      <td>JD Davison  (TW)</td>\n",
       "      <td>PG</td>\n",
       "      <td>6-3</td>\n",
       "      <td>195</td>\n",
       "      <td>October 3, 2002</td>\n",
       "      <td>us</td>\n",
       "      <td>R</td>\n",
       "      <td>Alabama</td>\n",
       "      <td>/players/d/davisjd01.html</td>\n",
       "      <td>/friv/colleges.fcgi?college=alabama</td>\n",
       "    </tr>\n",
       "    <tr>\n",
       "      <th>15</th>\n",
       "      <td>28</td>\n",
       "      <td>Mfiondu Kabengele  (TW)</td>\n",
       "      <td>PF</td>\n",
       "      <td>6-9</td>\n",
       "      <td>250</td>\n",
       "      <td>August 14, 1997</td>\n",
       "      <td>ca</td>\n",
       "      <td>2</td>\n",
       "      <td>Florida State</td>\n",
       "      <td>/players/k/kabenmf01.html</td>\n",
       "      <td>/friv/colleges.fcgi?college=floridast</td>\n",
       "    </tr>\n",
       "    <tr>\n",
       "      <th>16</th>\n",
       "      <td>None</td>\n",
       "      <td>Danilo Gallinari</td>\n",
       "      <td>SF</td>\n",
       "      <td>6-10</td>\n",
       "      <td>233</td>\n",
       "      <td>August 8, 1988</td>\n",
       "      <td>it</td>\n",
       "      <td>13</td>\n",
       "      <td>None</td>\n",
       "      <td>/players/g/gallida01.html</td>\n",
       "      <td>None</td>\n",
       "    </tr>\n",
       "  </tbody>\n",
       "</table>\n",
       "</div>"
      ],
      "text/plain": [
       "     No.                   Player Pos    Ht   Wt         Birth Date     Exp  \\\n",
       "0      9            Derrick White  SG   6-4  190       July 2, 1994  us   5   \n",
       "1     30               Sam Hauser  PF   6-8  215   December 8, 1997  us   1   \n",
       "2     12           Grant Williams  PF   6-6  236  November 30, 1998  us   3   \n",
       "3      0             Jayson Tatum  PF   6-8  210      March 3, 1998  us   5   \n",
       "4      7             Jaylen Brown  SF   6-6  223   October 24, 1996  us   6   \n",
       "5     36             Marcus Smart  PG   6-3  220      March 6, 1994  us   8   \n",
       "6     13          Malcolm Brogdon  PG   6-5  229  December 11, 1992  us   6   \n",
       "7     40              Luke Kornet   C   7-2  250      July 15, 1995  us   5   \n",
       "8     42               Al Horford   C   6-9  240       June 3, 1986  do  15   \n",
       "9     11         Payton Pritchard  PG   6-1  195   January 28, 1998  us   2   \n",
       "10     4              Noah Vonleh   C  6-10  257    August 24, 1995  us   7   \n",
       "11    91            Blake Griffin  PF   6-9  250     March 16, 1989  us  12   \n",
       "12    43           Justin Jackson  SF   6-8  220     March 28, 1995  us   5   \n",
       "13    44          Robert Williams   C   6-9  237   October 17, 1997  us   4   \n",
       "14    20         JD Davison  (TW)  PG   6-3  195    October 3, 2002  us   R   \n",
       "15    28  Mfiondu Kabengele  (TW)  PF   6-9  250    August 14, 1997  ca   2   \n",
       "16  None         Danilo Gallinari  SF  6-10  233     August 8, 1988  it  13   \n",
       "\n",
       "                                College                Player_link  \\\n",
       "0   Colorado-Colorado Springs, Colorado  /players/w/whitede01.html   \n",
       "1                   Marquette, Virginia  /players/h/hausesa01.html   \n",
       "2                             Tennessee  /players/w/willigr01.html   \n",
       "3                                  Duke  /players/t/tatumja01.html   \n",
       "4                            California  /players/b/brownja02.html   \n",
       "5                        Oklahoma State  /players/s/smartma01.html   \n",
       "6                              Virginia  /players/b/brogdma01.html   \n",
       "7                            Vanderbilt  /players/k/kornelu01.html   \n",
       "8                               Florida  /players/h/horfoal01.html   \n",
       "9                                Oregon  /players/p/pritcpa01.html   \n",
       "10                              Indiana  /players/v/vonleno01.html   \n",
       "11                             Oklahoma  /players/g/griffbl01.html   \n",
       "12                                  UNC  /players/j/jacksju01.html   \n",
       "13                            Texas A&M  /players/w/williro04.html   \n",
       "14                              Alabama  /players/d/davisjd01.html   \n",
       "15                        Florida State  /players/k/kabenmf01.html   \n",
       "16                                 None  /players/g/gallida01.html   \n",
       "\n",
       "                              College_link  \n",
       "0   /friv/colleges.fcgi?college=coloradocs  \n",
       "1    /friv/colleges.fcgi?college=marquette  \n",
       "2    /friv/colleges.fcgi?college=tennessee  \n",
       "3         /friv/colleges.fcgi?college=duke  \n",
       "4   /friv/colleges.fcgi?college=california  \n",
       "5      /friv/colleges.fcgi?college=okstate  \n",
       "6     /friv/colleges.fcgi?college=virginia  \n",
       "7        /friv/colleges.fcgi?college=vandy  \n",
       "8      /friv/colleges.fcgi?college=florida  \n",
       "9       /friv/colleges.fcgi?college=oregon  \n",
       "10     /friv/colleges.fcgi?college=indiana  \n",
       "11    /friv/colleges.fcgi?college=oklahoma  \n",
       "12         /friv/colleges.fcgi?college=unc  \n",
       "13     /friv/colleges.fcgi?college=texasam  \n",
       "14     /friv/colleges.fcgi?college=alabama  \n",
       "15   /friv/colleges.fcgi?college=floridast  \n",
       "16                                    None  "
      ]
     },
     "execution_count": 144,
     "metadata": {},
     "output_type": "execute_result"
    }
   ],
   "source": [
    "def process_player_table(player_table):\n",
    "    table = player_table\n",
    "    thead = player_table.find('thead')\n",
    "    data = []\n",
    "    column_names = [th.text.strip() for th in thead.find_all('th')]\n",
    "    had_link = set()\n",
    "    for row in table.find_all(['tr']):\n",
    "        row_data = []\n",
    "        link_data = []\n",
    "        for num, td in enumerate(row.find_all(['td','th'])):\n",
    "            not_link = None\n",
    "            if ''.join(td.text.strip()):\n",
    "                not_link = ''.join(td.text.strip())\n",
    "            row_data.append(not_link)\n",
    "\n",
    "            if td.find('a'):\n",
    "                link = td.a['href']\n",
    "                link_data.append(link)\n",
    "                had_link.add(num)\n",
    "        set_cols = True\n",
    "        data.append(row_data + link_data)\n",
    "\n",
    "    had_link = list(had_link)\n",
    "    had_link.sort()\n",
    "    for val in had_link:\n",
    "       column_names.append(column_names[val] + '_link')\n",
    "\n",
    "    df = pd.DataFrame(data[1:], columns= column_names)\n",
    "    return df\n",
    "\n",
    "process_player_table(dat)"
   ]
  },
  {
   "cell_type": "code",
   "execution_count": 65,
   "metadata": {},
   "outputs": [],
   "source": [
    "guy = None\n",
    "def load_teams(year : int, bases : Dict[str, str], rl : RequestLimiter):\n",
    "    team_links : Dict[str, str] = learn_teams(bases['summary_base'], rl)\n",
    "    tl = dict((k, team_links[k]) for k in ['Boston Celtics'])\n",
    "    for tm, link in tl.items():\n",
    "        stadium, player_df, player_table = get_team_info(tm, tl[tm], rl)\n",
    "        guy = player_table\n",
    "        return player_table\n",
    "        # process_player_table(player_table)\n",
    "        # tm_tup = make_team_tuple(tm, stadium)\n",
    "        # print(tm_tup)\n",
    "    # return\n"
   ]
  },
  {
   "cell_type": "code",
   "execution_count": 66,
   "metadata": {},
   "outputs": [],
   "source": [
    "guy"
   ]
  },
  {
   "cell_type": "code",
   "execution_count": 71,
   "metadata": {},
   "outputs": [
    {
     "name": "stdout",
     "output_type": "stream",
     "text": [
      "Successfully processed append to queue...\n",
      "Size of current queue... 3\n",
      "Saving RequestLimiter status to disk...\n",
      "Successfully processed append to queue...\n",
      "Size of current queue... 4\n",
      "Saving RequestLimiter status to disk...\n",
      "<table class=\"sortable stats_table\" data-cols-to-freeze=\",2\" id=\"roster\">\n",
      "<caption>Roster Table</caption>\n",
      "<colgroup><col/><col/><col/><col/><col/><col/><col/><col/><col/></colgroup>\n",
      "<thead>\n",
      "<tr>\n",
      "<th aria-label=\"No.\" class=\"poptip sort_default_asc center\" data-stat=\"number\" data-tip=\"Uniform Number\" scope=\"col\">No.</th>\n",
      "<th aria-label=\"Player\" class=\"poptip sort_default_asc center\" data-stat=\"player\" scope=\"col\">Player</th>\n",
      "<th aria-label=\"Pos\" class=\"poptip sort_default_asc center\" data-stat=\"pos\" data-tip=\"Position\" scope=\"col\">Pos</th>\n",
      "<th aria-label=\"Ht\" class=\"poptip sort_default_asc center\" data-stat=\"height\" data-tip=\"Height\" scope=\"col\">Ht</th>\n",
      "<th aria-label=\"Wt\" class=\"poptip sort_default_asc center\" data-stat=\"weight\" data-tip=\"Weight\" scope=\"col\">Wt</th>\n",
      "<th aria-label=\"Birth Date\" class=\"poptip sort_default_asc center\" data-stat=\"birth_date\" scope=\"col\">Birth Date</th>\n",
      "<th aria-label=\" \" class=\"poptip center\" data-stat=\"birth_country\" scope=\"col\"> </th>\n",
      "<th aria-label=\"Exp\" class=\"poptip sort_default_asc center\" data-stat=\"years_experience\" data-tip=\"Years experience in NBA/ABA (prior to this season)\" scope=\"col\">Exp</th>\n",
      "<th aria-label=\"College\" class=\"poptip sort_default_asc center\" data-stat=\"college\" scope=\"col\">College</th>\n",
      "</tr>\n",
      "</thead>\n",
      "<tbody><tr><th class=\"center\" data-stat=\"number\" scope=\"row\">9</th><td class=\"left\" csk=\"White,Derrick\" data-stat=\"player\"><a href=\"/players/w/whitede01.html\">Derrick White</a></td><td class=\"center\" csk=\"2\" data-stat=\"pos\">SG</td><td class=\"right\" csk=\"76.0\" data-stat=\"height\">6-4</td><td class=\"right\" data-stat=\"weight\">190</td><td class=\"left\" csk=\"19940702\" data-stat=\"birth_date\">July 2, 1994</td><td class=\"right\" data-stat=\"birth_country\"><span class=\"f-i f-us\" style=\"\">us</span></td><td class=\"right\" csk=\"5\" data-stat=\"years_experience\">5</td><td class=\"left\" data-stat=\"college\"><a href=\"/friv/colleges.fcgi?college=coloradocs\">Colorado-Colorado Springs</a>, <a href=\"/friv/colleges.fcgi?college=colorado\">Colorado</a></td></tr>\n",
      "<tr><th class=\"center\" data-stat=\"number\" scope=\"row\">30</th><td class=\"left\" csk=\"Hauser,Sam\" data-stat=\"player\"><a href=\"/players/h/hausesa01.html\">Sam Hauser</a></td><td class=\"center\" csk=\"4\" data-stat=\"pos\">PF</td><td class=\"right\" csk=\"80.0\" data-stat=\"height\">6-8</td><td class=\"right\" data-stat=\"weight\">215</td><td class=\"left\" csk=\"19971208\" data-stat=\"birth_date\">December 8, 1997</td><td class=\"right\" data-stat=\"birth_country\"><span class=\"f-i f-us\" style=\"\">us</span></td><td class=\"right\" csk=\"1\" data-stat=\"years_experience\">1</td><td class=\"left\" data-stat=\"college\"><a href=\"/friv/colleges.fcgi?college=marquette\">Marquette</a>, <a href=\"/friv/colleges.fcgi?college=virginia\">Virginia</a></td></tr>\n",
      "<tr><th class=\"center\" data-stat=\"number\" scope=\"row\">12</th><td class=\"left\" csk=\"Williams,Grant\" data-stat=\"player\"><a href=\"/players/w/willigr01.html\">Grant Williams</a></td><td class=\"center\" csk=\"4\" data-stat=\"pos\">PF</td><td class=\"right\" csk=\"78.0\" data-stat=\"height\">6-6</td><td class=\"right\" data-stat=\"weight\">236</td><td class=\"left\" csk=\"19981130\" data-stat=\"birth_date\">November 30, 1998</td><td class=\"right\" data-stat=\"birth_country\"><span class=\"f-i f-us\" style=\"\">us</span></td><td class=\"right\" csk=\"3\" data-stat=\"years_experience\">3</td><td class=\"left\" data-stat=\"college\"><a href=\"/friv/colleges.fcgi?college=tennessee\">Tennessee</a></td></tr>\n",
      "<tr><th class=\"center iz\" data-stat=\"number\" scope=\"row\">0</th><td class=\"left\" csk=\"Tatum,Jayson\" data-stat=\"player\"><a href=\"/players/t/tatumja01.html\">Jayson Tatum</a></td><td class=\"center\" csk=\"4\" data-stat=\"pos\">PF</td><td class=\"right\" csk=\"80.0\" data-stat=\"height\">6-8</td><td class=\"right\" data-stat=\"weight\">210</td><td class=\"left\" csk=\"19980303\" data-stat=\"birth_date\">March 3, 1998</td><td class=\"right\" data-stat=\"birth_country\"><span class=\"f-i f-us\" style=\"\">us</span></td><td class=\"right\" csk=\"5\" data-stat=\"years_experience\">5</td><td class=\"left\" data-stat=\"college\"><a href=\"/friv/colleges.fcgi?college=duke\">Duke</a></td></tr>\n",
      "<tr><th class=\"center\" data-stat=\"number\" scope=\"row\">7</th><td class=\"left\" csk=\"Brown,Jaylen\" data-stat=\"player\"><a href=\"/players/b/brownja02.html\">Jaylen Brown</a></td><td class=\"center\" csk=\"3\" data-stat=\"pos\">SF</td><td class=\"right\" csk=\"78.0\" data-stat=\"height\">6-6</td><td class=\"right\" data-stat=\"weight\">223</td><td class=\"left\" csk=\"19961024\" data-stat=\"birth_date\">October 24, 1996</td><td class=\"right\" data-stat=\"birth_country\"><span class=\"f-i f-us\" style=\"\">us</span></td><td class=\"right\" csk=\"6\" data-stat=\"years_experience\">6</td><td class=\"left\" data-stat=\"college\"><a href=\"/friv/colleges.fcgi?college=california\">California</a></td></tr>\n",
      "<tr><th class=\"center\" data-stat=\"number\" scope=\"row\">36</th><td class=\"left\" csk=\"Smart,Marcus\" data-stat=\"player\"><a href=\"/players/s/smartma01.html\">Marcus Smart</a></td><td class=\"center\" csk=\"1\" data-stat=\"pos\">PG</td><td class=\"right\" csk=\"75.0\" data-stat=\"height\">6-3</td><td class=\"right\" data-stat=\"weight\">220</td><td class=\"left\" csk=\"19940306\" data-stat=\"birth_date\">March 6, 1994</td><td class=\"right\" data-stat=\"birth_country\"><span class=\"f-i f-us\" style=\"\">us</span></td><td class=\"right\" csk=\"8\" data-stat=\"years_experience\">8</td><td class=\"left\" data-stat=\"college\"><a href=\"/friv/colleges.fcgi?college=okstate\">Oklahoma State</a></td></tr>\n",
      "<tr><th class=\"center\" data-stat=\"number\" scope=\"row\">13</th><td class=\"left\" csk=\"Brogdon,Malcolm\" data-stat=\"player\"><a href=\"/players/b/brogdma01.html\">Malcolm Brogdon</a></td><td class=\"center\" csk=\"1\" data-stat=\"pos\">PG</td><td class=\"right\" csk=\"77.0\" data-stat=\"height\">6-5</td><td class=\"right\" data-stat=\"weight\">229</td><td class=\"left\" csk=\"19921211\" data-stat=\"birth_date\">December 11, 1992</td><td class=\"right\" data-stat=\"birth_country\"><span class=\"f-i f-us\" style=\"\">us</span></td><td class=\"right\" csk=\"6\" data-stat=\"years_experience\">6</td><td class=\"left\" data-stat=\"college\"><a href=\"/friv/colleges.fcgi?college=virginia\">Virginia</a></td></tr>\n",
      "<tr><th class=\"center\" data-stat=\"number\" scope=\"row\">40</th><td class=\"left\" csk=\"Kornet,Luke\" data-stat=\"player\"><a href=\"/players/k/kornelu01.html\">Luke Kornet</a></td><td class=\"center\" csk=\"5\" data-stat=\"pos\">C</td><td class=\"right\" csk=\"86.0\" data-stat=\"height\">7-2</td><td class=\"right\" data-stat=\"weight\">250</td><td class=\"left\" csk=\"19950715\" data-stat=\"birth_date\">July 15, 1995</td><td class=\"right\" data-stat=\"birth_country\"><span class=\"f-i f-us\" style=\"\">us</span></td><td class=\"right\" csk=\"5\" data-stat=\"years_experience\">5</td><td class=\"left\" data-stat=\"college\"><a href=\"/friv/colleges.fcgi?college=vandy\">Vanderbilt</a></td></tr>\n",
      "<tr><th class=\"center\" data-stat=\"number\" scope=\"row\">42</th><td class=\"left\" csk=\"Horford,Al\" data-stat=\"player\"><a href=\"/players/h/horfoal01.html\">Al Horford</a></td><td class=\"center\" csk=\"5\" data-stat=\"pos\">C</td><td class=\"right\" csk=\"81.0\" data-stat=\"height\">6-9</td><td class=\"right\" data-stat=\"weight\">240</td><td class=\"left\" csk=\"19860603\" data-stat=\"birth_date\">June 3, 1986</td><td class=\"right\" data-stat=\"birth_country\"><span class=\"f-i f-do\" style=\"\">do</span></td><td class=\"right\" csk=\"15\" data-stat=\"years_experience\">15</td><td class=\"left\" data-stat=\"college\"><a href=\"/friv/colleges.fcgi?college=florida\">Florida</a></td></tr>\n",
      "<tr><th class=\"center\" data-stat=\"number\" scope=\"row\">11</th><td class=\"left\" csk=\"Pritchard,Payton\" data-stat=\"player\"><a href=\"/players/p/pritcpa01.html\">Payton Pritchard</a></td><td class=\"center\" csk=\"1\" data-stat=\"pos\">PG</td><td class=\"right\" csk=\"73.0\" data-stat=\"height\">6-1</td><td class=\"right\" data-stat=\"weight\">195</td><td class=\"left\" csk=\"19980128\" data-stat=\"birth_date\">January 28, 1998</td><td class=\"right\" data-stat=\"birth_country\"><span class=\"f-i f-us\" style=\"\">us</span></td><td class=\"right\" csk=\"2\" data-stat=\"years_experience\">2</td><td class=\"left\" data-stat=\"college\"><a href=\"/friv/colleges.fcgi?college=oregon\">Oregon</a></td></tr>\n",
      "<tr><th class=\"center\" data-stat=\"number\" scope=\"row\">4</th><td class=\"left\" csk=\"Vonleh,Noah\" data-stat=\"player\"><a href=\"/players/v/vonleno01.html\">Noah Vonleh</a></td><td class=\"center\" csk=\"5\" data-stat=\"pos\">C</td><td class=\"right\" csk=\"82.0\" data-stat=\"height\">6-10</td><td class=\"right\" data-stat=\"weight\">257</td><td class=\"left\" csk=\"19950824\" data-stat=\"birth_date\">August 24, 1995</td><td class=\"right\" data-stat=\"birth_country\"><span class=\"f-i f-us\" style=\"\">us</span></td><td class=\"right\" csk=\"7\" data-stat=\"years_experience\">7</td><td class=\"left\" data-stat=\"college\"><a href=\"/friv/colleges.fcgi?college=indiana\">Indiana</a></td></tr>\n",
      "<tr><th class=\"center\" data-stat=\"number\" scope=\"row\">91</th><td class=\"left\" csk=\"Griffin,Blake\" data-stat=\"player\"><a href=\"/players/g/griffbl01.html\">Blake Griffin</a></td><td class=\"center\" csk=\"4\" data-stat=\"pos\">PF</td><td class=\"right\" csk=\"81.0\" data-stat=\"height\">6-9</td><td class=\"right\" data-stat=\"weight\">250</td><td class=\"left\" csk=\"19890316\" data-stat=\"birth_date\">March 16, 1989</td><td class=\"right\" data-stat=\"birth_country\"><span class=\"f-i f-us\" style=\"\">us</span></td><td class=\"right\" csk=\"12\" data-stat=\"years_experience\">12</td><td class=\"left\" data-stat=\"college\"><a href=\"/friv/colleges.fcgi?college=oklahoma\">Oklahoma</a></td></tr>\n",
      "<tr><th class=\"center\" data-stat=\"number\" scope=\"row\">43</th><td class=\"left\" csk=\"Jackson,Justin\" data-stat=\"player\"><a href=\"/players/j/jacksju01.html\">Justin Jackson</a></td><td class=\"center\" csk=\"3\" data-stat=\"pos\">SF</td><td class=\"right\" csk=\"80.0\" data-stat=\"height\">6-8</td><td class=\"right\" data-stat=\"weight\">220</td><td class=\"left\" csk=\"19950328\" data-stat=\"birth_date\">March 28, 1995</td><td class=\"right\" data-stat=\"birth_country\"><span class=\"f-i f-us\" style=\"\">us</span></td><td class=\"right\" csk=\"5\" data-stat=\"years_experience\">5</td><td class=\"left\" data-stat=\"college\"><a href=\"/friv/colleges.fcgi?college=unc\">UNC</a></td></tr>\n",
      "<tr><th class=\"center\" data-stat=\"number\" scope=\"row\">44</th><td class=\"left\" csk=\"Williams,Robert\" data-stat=\"player\"><a href=\"/players/w/williro04.html\">Robert Williams</a></td><td class=\"center\" csk=\"5\" data-stat=\"pos\">C</td><td class=\"right\" csk=\"81.0\" data-stat=\"height\">6-9</td><td class=\"right\" data-stat=\"weight\">237</td><td class=\"left\" csk=\"19971017\" data-stat=\"birth_date\">October 17, 1997</td><td class=\"right\" data-stat=\"birth_country\"><span class=\"f-i f-us\" style=\"\">us</span></td><td class=\"right\" csk=\"4\" data-stat=\"years_experience\">4</td><td class=\"left\" data-stat=\"college\"><a href=\"/friv/colleges.fcgi?college=texasam\">Texas A&amp;M</a></td></tr>\n",
      "<tr><th class=\"center\" data-stat=\"number\" scope=\"row\">20</th><td class=\"left\" csk=\"Davison,JD\" data-stat=\"player\"><a href=\"/players/d/davisjd01.html\">JD Davison</a>  <span class=\"note\"><small>(TW)</small></span></td><td class=\"center\" csk=\"1\" data-stat=\"pos\">PG</td><td class=\"right\" csk=\"75.0\" data-stat=\"height\">6-3</td><td class=\"right\" data-stat=\"weight\">195</td><td class=\"left\" csk=\"20021003\" data-stat=\"birth_date\">October 3, 2002</td><td class=\"right\" data-stat=\"birth_country\"><span class=\"f-i f-us\" style=\"\">us</span></td><td class=\"right\" csk=\"0.5\" data-stat=\"years_experience\">R</td><td class=\"left\" data-stat=\"college\"><a href=\"/friv/colleges.fcgi?college=alabama\">Alabama</a></td></tr>\n",
      "<tr><th class=\"center\" data-stat=\"number\" scope=\"row\">28</th><td class=\"left\" csk=\"Kabengele,Mfiondu\" data-stat=\"player\"><a href=\"/players/k/kabenmf01.html\">Mfiondu Kabengele</a>  <span class=\"note\"><small>(TW)</small></span></td><td class=\"center\" csk=\"4\" data-stat=\"pos\">PF</td><td class=\"right\" csk=\"81.0\" data-stat=\"height\">6-9</td><td class=\"right\" data-stat=\"weight\">250</td><td class=\"left\" csk=\"19970814\" data-stat=\"birth_date\">August 14, 1997</td><td class=\"right\" data-stat=\"birth_country\"><span class=\"f-i f-ca\" style=\"\">ca</span></td><td class=\"right\" csk=\"2\" data-stat=\"years_experience\">2</td><td class=\"left\" data-stat=\"college\"><a href=\"/friv/colleges.fcgi?college=floridast\">Florida State</a></td></tr>\n",
      "<tr><th class=\"center iz\" data-stat=\"number\" scope=\"row\"></th><td class=\"left\" csk=\"Gallinari,Danilo\" data-stat=\"player\"><a href=\"/players/g/gallida01.html\">Danilo Gallinari</a></td><td class=\"center\" csk=\"3\" data-stat=\"pos\">SF</td><td class=\"right\" csk=\"82.0\" data-stat=\"height\">6-10</td><td class=\"right\" data-stat=\"weight\">233</td><td class=\"left\" csk=\"19880808\" data-stat=\"birth_date\">August 8, 1988</td><td class=\"right\" data-stat=\"birth_country\"><span class=\"f-i f-it\" style=\"\">it</span></td><td class=\"right\" csk=\"13\" data-stat=\"years_experience\">13</td><td class=\"left iz\" data-stat=\"college\"></td></tr>\n",
      "</tbody></table>\n"
     ]
    }
   ],
   "source": [
    "dat = load_teams(year = YEAR, bases = bases, rl = rl)"
   ]
  },
  {
   "cell_type": "code",
   "execution_count": 72,
   "metadata": {},
   "outputs": [
    {
     "data": {
      "text/plain": [
       "<table class=\"sortable stats_table\" data-cols-to-freeze=\",2\" id=\"roster\">\n",
       "<caption>Roster Table</caption>\n",
       "<colgroup><col/><col/><col/><col/><col/><col/><col/><col/><col/></colgroup>\n",
       "<thead>\n",
       "<tr>\n",
       "<th aria-label=\"No.\" class=\"poptip sort_default_asc center\" data-stat=\"number\" data-tip=\"Uniform Number\" scope=\"col\">No.</th>\n",
       "<th aria-label=\"Player\" class=\"poptip sort_default_asc center\" data-stat=\"player\" scope=\"col\">Player</th>\n",
       "<th aria-label=\"Pos\" class=\"poptip sort_default_asc center\" data-stat=\"pos\" data-tip=\"Position\" scope=\"col\">Pos</th>\n",
       "<th aria-label=\"Ht\" class=\"poptip sort_default_asc center\" data-stat=\"height\" data-tip=\"Height\" scope=\"col\">Ht</th>\n",
       "<th aria-label=\"Wt\" class=\"poptip sort_default_asc center\" data-stat=\"weight\" data-tip=\"Weight\" scope=\"col\">Wt</th>\n",
       "<th aria-label=\"Birth Date\" class=\"poptip sort_default_asc center\" data-stat=\"birth_date\" scope=\"col\">Birth Date</th>\n",
       "<th aria-label=\" \" class=\"poptip center\" data-stat=\"birth_country\" scope=\"col\"> </th>\n",
       "<th aria-label=\"Exp\" class=\"poptip sort_default_asc center\" data-stat=\"years_experience\" data-tip=\"Years experience in NBA/ABA (prior to this season)\" scope=\"col\">Exp</th>\n",
       "<th aria-label=\"College\" class=\"poptip sort_default_asc center\" data-stat=\"college\" scope=\"col\">College</th>\n",
       "</tr>\n",
       "</thead>\n",
       "<tbody><tr><th class=\"center\" data-stat=\"number\" scope=\"row\">9</th><td class=\"left\" csk=\"White,Derrick\" data-stat=\"player\"><a href=\"/players/w/whitede01.html\">Derrick White</a></td><td class=\"center\" csk=\"2\" data-stat=\"pos\">SG</td><td class=\"right\" csk=\"76.0\" data-stat=\"height\">6-4</td><td class=\"right\" data-stat=\"weight\">190</td><td class=\"left\" csk=\"19940702\" data-stat=\"birth_date\">July 2, 1994</td><td class=\"right\" data-stat=\"birth_country\"><span class=\"f-i f-us\" style=\"\">us</span></td><td class=\"right\" csk=\"5\" data-stat=\"years_experience\">5</td><td class=\"left\" data-stat=\"college\"><a href=\"/friv/colleges.fcgi?college=coloradocs\">Colorado-Colorado Springs</a>, <a href=\"/friv/colleges.fcgi?college=colorado\">Colorado</a></td></tr>\n",
       "<tr><th class=\"center\" data-stat=\"number\" scope=\"row\">30</th><td class=\"left\" csk=\"Hauser,Sam\" data-stat=\"player\"><a href=\"/players/h/hausesa01.html\">Sam Hauser</a></td><td class=\"center\" csk=\"4\" data-stat=\"pos\">PF</td><td class=\"right\" csk=\"80.0\" data-stat=\"height\">6-8</td><td class=\"right\" data-stat=\"weight\">215</td><td class=\"left\" csk=\"19971208\" data-stat=\"birth_date\">December 8, 1997</td><td class=\"right\" data-stat=\"birth_country\"><span class=\"f-i f-us\" style=\"\">us</span></td><td class=\"right\" csk=\"1\" data-stat=\"years_experience\">1</td><td class=\"left\" data-stat=\"college\"><a href=\"/friv/colleges.fcgi?college=marquette\">Marquette</a>, <a href=\"/friv/colleges.fcgi?college=virginia\">Virginia</a></td></tr>\n",
       "<tr><th class=\"center\" data-stat=\"number\" scope=\"row\">12</th><td class=\"left\" csk=\"Williams,Grant\" data-stat=\"player\"><a href=\"/players/w/willigr01.html\">Grant Williams</a></td><td class=\"center\" csk=\"4\" data-stat=\"pos\">PF</td><td class=\"right\" csk=\"78.0\" data-stat=\"height\">6-6</td><td class=\"right\" data-stat=\"weight\">236</td><td class=\"left\" csk=\"19981130\" data-stat=\"birth_date\">November 30, 1998</td><td class=\"right\" data-stat=\"birth_country\"><span class=\"f-i f-us\" style=\"\">us</span></td><td class=\"right\" csk=\"3\" data-stat=\"years_experience\">3</td><td class=\"left\" data-stat=\"college\"><a href=\"/friv/colleges.fcgi?college=tennessee\">Tennessee</a></td></tr>\n",
       "<tr><th class=\"center iz\" data-stat=\"number\" scope=\"row\">0</th><td class=\"left\" csk=\"Tatum,Jayson\" data-stat=\"player\"><a href=\"/players/t/tatumja01.html\">Jayson Tatum</a></td><td class=\"center\" csk=\"4\" data-stat=\"pos\">PF</td><td class=\"right\" csk=\"80.0\" data-stat=\"height\">6-8</td><td class=\"right\" data-stat=\"weight\">210</td><td class=\"left\" csk=\"19980303\" data-stat=\"birth_date\">March 3, 1998</td><td class=\"right\" data-stat=\"birth_country\"><span class=\"f-i f-us\" style=\"\">us</span></td><td class=\"right\" csk=\"5\" data-stat=\"years_experience\">5</td><td class=\"left\" data-stat=\"college\"><a href=\"/friv/colleges.fcgi?college=duke\">Duke</a></td></tr>\n",
       "<tr><th class=\"center\" data-stat=\"number\" scope=\"row\">7</th><td class=\"left\" csk=\"Brown,Jaylen\" data-stat=\"player\"><a href=\"/players/b/brownja02.html\">Jaylen Brown</a></td><td class=\"center\" csk=\"3\" data-stat=\"pos\">SF</td><td class=\"right\" csk=\"78.0\" data-stat=\"height\">6-6</td><td class=\"right\" data-stat=\"weight\">223</td><td class=\"left\" csk=\"19961024\" data-stat=\"birth_date\">October 24, 1996</td><td class=\"right\" data-stat=\"birth_country\"><span class=\"f-i f-us\" style=\"\">us</span></td><td class=\"right\" csk=\"6\" data-stat=\"years_experience\">6</td><td class=\"left\" data-stat=\"college\"><a href=\"/friv/colleges.fcgi?college=california\">California</a></td></tr>\n",
       "<tr><th class=\"center\" data-stat=\"number\" scope=\"row\">36</th><td class=\"left\" csk=\"Smart,Marcus\" data-stat=\"player\"><a href=\"/players/s/smartma01.html\">Marcus Smart</a></td><td class=\"center\" csk=\"1\" data-stat=\"pos\">PG</td><td class=\"right\" csk=\"75.0\" data-stat=\"height\">6-3</td><td class=\"right\" data-stat=\"weight\">220</td><td class=\"left\" csk=\"19940306\" data-stat=\"birth_date\">March 6, 1994</td><td class=\"right\" data-stat=\"birth_country\"><span class=\"f-i f-us\" style=\"\">us</span></td><td class=\"right\" csk=\"8\" data-stat=\"years_experience\">8</td><td class=\"left\" data-stat=\"college\"><a href=\"/friv/colleges.fcgi?college=okstate\">Oklahoma State</a></td></tr>\n",
       "<tr><th class=\"center\" data-stat=\"number\" scope=\"row\">13</th><td class=\"left\" csk=\"Brogdon,Malcolm\" data-stat=\"player\"><a href=\"/players/b/brogdma01.html\">Malcolm Brogdon</a></td><td class=\"center\" csk=\"1\" data-stat=\"pos\">PG</td><td class=\"right\" csk=\"77.0\" data-stat=\"height\">6-5</td><td class=\"right\" data-stat=\"weight\">229</td><td class=\"left\" csk=\"19921211\" data-stat=\"birth_date\">December 11, 1992</td><td class=\"right\" data-stat=\"birth_country\"><span class=\"f-i f-us\" style=\"\">us</span></td><td class=\"right\" csk=\"6\" data-stat=\"years_experience\">6</td><td class=\"left\" data-stat=\"college\"><a href=\"/friv/colleges.fcgi?college=virginia\">Virginia</a></td></tr>\n",
       "<tr><th class=\"center\" data-stat=\"number\" scope=\"row\">40</th><td class=\"left\" csk=\"Kornet,Luke\" data-stat=\"player\"><a href=\"/players/k/kornelu01.html\">Luke Kornet</a></td><td class=\"center\" csk=\"5\" data-stat=\"pos\">C</td><td class=\"right\" csk=\"86.0\" data-stat=\"height\">7-2</td><td class=\"right\" data-stat=\"weight\">250</td><td class=\"left\" csk=\"19950715\" data-stat=\"birth_date\">July 15, 1995</td><td class=\"right\" data-stat=\"birth_country\"><span class=\"f-i f-us\" style=\"\">us</span></td><td class=\"right\" csk=\"5\" data-stat=\"years_experience\">5</td><td class=\"left\" data-stat=\"college\"><a href=\"/friv/colleges.fcgi?college=vandy\">Vanderbilt</a></td></tr>\n",
       "<tr><th class=\"center\" data-stat=\"number\" scope=\"row\">42</th><td class=\"left\" csk=\"Horford,Al\" data-stat=\"player\"><a href=\"/players/h/horfoal01.html\">Al Horford</a></td><td class=\"center\" csk=\"5\" data-stat=\"pos\">C</td><td class=\"right\" csk=\"81.0\" data-stat=\"height\">6-9</td><td class=\"right\" data-stat=\"weight\">240</td><td class=\"left\" csk=\"19860603\" data-stat=\"birth_date\">June 3, 1986</td><td class=\"right\" data-stat=\"birth_country\"><span class=\"f-i f-do\" style=\"\">do</span></td><td class=\"right\" csk=\"15\" data-stat=\"years_experience\">15</td><td class=\"left\" data-stat=\"college\"><a href=\"/friv/colleges.fcgi?college=florida\">Florida</a></td></tr>\n",
       "<tr><th class=\"center\" data-stat=\"number\" scope=\"row\">11</th><td class=\"left\" csk=\"Pritchard,Payton\" data-stat=\"player\"><a href=\"/players/p/pritcpa01.html\">Payton Pritchard</a></td><td class=\"center\" csk=\"1\" data-stat=\"pos\">PG</td><td class=\"right\" csk=\"73.0\" data-stat=\"height\">6-1</td><td class=\"right\" data-stat=\"weight\">195</td><td class=\"left\" csk=\"19980128\" data-stat=\"birth_date\">January 28, 1998</td><td class=\"right\" data-stat=\"birth_country\"><span class=\"f-i f-us\" style=\"\">us</span></td><td class=\"right\" csk=\"2\" data-stat=\"years_experience\">2</td><td class=\"left\" data-stat=\"college\"><a href=\"/friv/colleges.fcgi?college=oregon\">Oregon</a></td></tr>\n",
       "<tr><th class=\"center\" data-stat=\"number\" scope=\"row\">4</th><td class=\"left\" csk=\"Vonleh,Noah\" data-stat=\"player\"><a href=\"/players/v/vonleno01.html\">Noah Vonleh</a></td><td class=\"center\" csk=\"5\" data-stat=\"pos\">C</td><td class=\"right\" csk=\"82.0\" data-stat=\"height\">6-10</td><td class=\"right\" data-stat=\"weight\">257</td><td class=\"left\" csk=\"19950824\" data-stat=\"birth_date\">August 24, 1995</td><td class=\"right\" data-stat=\"birth_country\"><span class=\"f-i f-us\" style=\"\">us</span></td><td class=\"right\" csk=\"7\" data-stat=\"years_experience\">7</td><td class=\"left\" data-stat=\"college\"><a href=\"/friv/colleges.fcgi?college=indiana\">Indiana</a></td></tr>\n",
       "<tr><th class=\"center\" data-stat=\"number\" scope=\"row\">91</th><td class=\"left\" csk=\"Griffin,Blake\" data-stat=\"player\"><a href=\"/players/g/griffbl01.html\">Blake Griffin</a></td><td class=\"center\" csk=\"4\" data-stat=\"pos\">PF</td><td class=\"right\" csk=\"81.0\" data-stat=\"height\">6-9</td><td class=\"right\" data-stat=\"weight\">250</td><td class=\"left\" csk=\"19890316\" data-stat=\"birth_date\">March 16, 1989</td><td class=\"right\" data-stat=\"birth_country\"><span class=\"f-i f-us\" style=\"\">us</span></td><td class=\"right\" csk=\"12\" data-stat=\"years_experience\">12</td><td class=\"left\" data-stat=\"college\"><a href=\"/friv/colleges.fcgi?college=oklahoma\">Oklahoma</a></td></tr>\n",
       "<tr><th class=\"center\" data-stat=\"number\" scope=\"row\">43</th><td class=\"left\" csk=\"Jackson,Justin\" data-stat=\"player\"><a href=\"/players/j/jacksju01.html\">Justin Jackson</a></td><td class=\"center\" csk=\"3\" data-stat=\"pos\">SF</td><td class=\"right\" csk=\"80.0\" data-stat=\"height\">6-8</td><td class=\"right\" data-stat=\"weight\">220</td><td class=\"left\" csk=\"19950328\" data-stat=\"birth_date\">March 28, 1995</td><td class=\"right\" data-stat=\"birth_country\"><span class=\"f-i f-us\" style=\"\">us</span></td><td class=\"right\" csk=\"5\" data-stat=\"years_experience\">5</td><td class=\"left\" data-stat=\"college\"><a href=\"/friv/colleges.fcgi?college=unc\">UNC</a></td></tr>\n",
       "<tr><th class=\"center\" data-stat=\"number\" scope=\"row\">44</th><td class=\"left\" csk=\"Williams,Robert\" data-stat=\"player\"><a href=\"/players/w/williro04.html\">Robert Williams</a></td><td class=\"center\" csk=\"5\" data-stat=\"pos\">C</td><td class=\"right\" csk=\"81.0\" data-stat=\"height\">6-9</td><td class=\"right\" data-stat=\"weight\">237</td><td class=\"left\" csk=\"19971017\" data-stat=\"birth_date\">October 17, 1997</td><td class=\"right\" data-stat=\"birth_country\"><span class=\"f-i f-us\" style=\"\">us</span></td><td class=\"right\" csk=\"4\" data-stat=\"years_experience\">4</td><td class=\"left\" data-stat=\"college\"><a href=\"/friv/colleges.fcgi?college=texasam\">Texas A&amp;M</a></td></tr>\n",
       "<tr><th class=\"center\" data-stat=\"number\" scope=\"row\">20</th><td class=\"left\" csk=\"Davison,JD\" data-stat=\"player\"><a href=\"/players/d/davisjd01.html\">JD Davison</a>  <span class=\"note\"><small>(TW)</small></span></td><td class=\"center\" csk=\"1\" data-stat=\"pos\">PG</td><td class=\"right\" csk=\"75.0\" data-stat=\"height\">6-3</td><td class=\"right\" data-stat=\"weight\">195</td><td class=\"left\" csk=\"20021003\" data-stat=\"birth_date\">October 3, 2002</td><td class=\"right\" data-stat=\"birth_country\"><span class=\"f-i f-us\" style=\"\">us</span></td><td class=\"right\" csk=\"0.5\" data-stat=\"years_experience\">R</td><td class=\"left\" data-stat=\"college\"><a href=\"/friv/colleges.fcgi?college=alabama\">Alabama</a></td></tr>\n",
       "<tr><th class=\"center\" data-stat=\"number\" scope=\"row\">28</th><td class=\"left\" csk=\"Kabengele,Mfiondu\" data-stat=\"player\"><a href=\"/players/k/kabenmf01.html\">Mfiondu Kabengele</a>  <span class=\"note\"><small>(TW)</small></span></td><td class=\"center\" csk=\"4\" data-stat=\"pos\">PF</td><td class=\"right\" csk=\"81.0\" data-stat=\"height\">6-9</td><td class=\"right\" data-stat=\"weight\">250</td><td class=\"left\" csk=\"19970814\" data-stat=\"birth_date\">August 14, 1997</td><td class=\"right\" data-stat=\"birth_country\"><span class=\"f-i f-ca\" style=\"\">ca</span></td><td class=\"right\" csk=\"2\" data-stat=\"years_experience\">2</td><td class=\"left\" data-stat=\"college\"><a href=\"/friv/colleges.fcgi?college=floridast\">Florida State</a></td></tr>\n",
       "<tr><th class=\"center iz\" data-stat=\"number\" scope=\"row\"></th><td class=\"left\" csk=\"Gallinari,Danilo\" data-stat=\"player\"><a href=\"/players/g/gallida01.html\">Danilo Gallinari</a></td><td class=\"center\" csk=\"3\" data-stat=\"pos\">SF</td><td class=\"right\" csk=\"82.0\" data-stat=\"height\">6-10</td><td class=\"right\" data-stat=\"weight\">233</td><td class=\"left\" csk=\"19880808\" data-stat=\"birth_date\">August 8, 1988</td><td class=\"right\" data-stat=\"birth_country\"><span class=\"f-i f-it\" style=\"\">it</span></td><td class=\"right\" csk=\"13\" data-stat=\"years_experience\">13</td><td class=\"left iz\" data-stat=\"college\"></td></tr>\n",
       "</tbody></table>"
      ]
     },
     "execution_count": 72,
     "metadata": {},
     "output_type": "execute_result"
    }
   ],
   "source": [
    "dat"
   ]
  },
  {
   "cell_type": "code",
   "execution_count": 28,
   "metadata": {},
   "outputs": [],
   "source": []
  },
  {
   "cell_type": "code",
   "execution_count": null,
   "metadata": {},
   "outputs": [],
   "source": []
  },
  {
   "cell_type": "code",
   "execution_count": 14,
   "metadata": {},
   "outputs": [
    {
     "data": {
      "text/plain": [
       "'TD Garden'"
      ]
     },
     "execution_count": 14,
     "metadata": {},
     "output_type": "execute_result"
    }
   ],
   "source": [
    "dat[0]"
   ]
  },
  {
   "cell_type": "code",
   "execution_count": 24,
   "metadata": {},
   "outputs": [
    {
     "data": {
      "text/html": [
       "<div>\n",
       "<style scoped>\n",
       "    .dataframe tbody tr th:only-of-type {\n",
       "        vertical-align: middle;\n",
       "    }\n",
       "\n",
       "    .dataframe tbody tr th {\n",
       "        vertical-align: top;\n",
       "    }\n",
       "\n",
       "    .dataframe thead th {\n",
       "        text-align: right;\n",
       "    }\n",
       "</style>\n",
       "<table border=\"1\" class=\"dataframe\">\n",
       "  <thead>\n",
       "    <tr style=\"text-align: right;\">\n",
       "      <th></th>\n",
       "      <th>No.</th>\n",
       "      <th>Player</th>\n",
       "      <th>Pos</th>\n",
       "      <th>Ht</th>\n",
       "      <th>Wt</th>\n",
       "      <th>Birth Date</th>\n",
       "      <th>Unnamed: 6</th>\n",
       "      <th>Exp</th>\n",
       "      <th>College</th>\n",
       "    </tr>\n",
       "  </thead>\n",
       "  <tbody>\n",
       "    <tr>\n",
       "      <th>0</th>\n",
       "      <td>9.0</td>\n",
       "      <td>Derrick White</td>\n",
       "      <td>SG</td>\n",
       "      <td>6-4</td>\n",
       "      <td>190</td>\n",
       "      <td>July 2, 1994</td>\n",
       "      <td>us</td>\n",
       "      <td>5</td>\n",
       "      <td>Colorado-Colorado Springs, Colorado</td>\n",
       "    </tr>\n",
       "    <tr>\n",
       "      <th>1</th>\n",
       "      <td>30.0</td>\n",
       "      <td>Sam Hauser</td>\n",
       "      <td>PF</td>\n",
       "      <td>6-8</td>\n",
       "      <td>215</td>\n",
       "      <td>December 8, 1997</td>\n",
       "      <td>us</td>\n",
       "      <td>1</td>\n",
       "      <td>Marquette, Virginia</td>\n",
       "    </tr>\n",
       "    <tr>\n",
       "      <th>2</th>\n",
       "      <td>12.0</td>\n",
       "      <td>Grant Williams</td>\n",
       "      <td>PF</td>\n",
       "      <td>6-6</td>\n",
       "      <td>236</td>\n",
       "      <td>November 30, 1998</td>\n",
       "      <td>us</td>\n",
       "      <td>3</td>\n",
       "      <td>Tennessee</td>\n",
       "    </tr>\n",
       "    <tr>\n",
       "      <th>3</th>\n",
       "      <td>0.0</td>\n",
       "      <td>Jayson Tatum</td>\n",
       "      <td>PF</td>\n",
       "      <td>6-8</td>\n",
       "      <td>210</td>\n",
       "      <td>March 3, 1998</td>\n",
       "      <td>us</td>\n",
       "      <td>5</td>\n",
       "      <td>Duke</td>\n",
       "    </tr>\n",
       "    <tr>\n",
       "      <th>4</th>\n",
       "      <td>7.0</td>\n",
       "      <td>Jaylen Brown</td>\n",
       "      <td>SF</td>\n",
       "      <td>6-6</td>\n",
       "      <td>223</td>\n",
       "      <td>October 24, 1996</td>\n",
       "      <td>us</td>\n",
       "      <td>6</td>\n",
       "      <td>California</td>\n",
       "    </tr>\n",
       "  </tbody>\n",
       "</table>\n",
       "</div>"
      ],
      "text/plain": [
       "    No.          Player Pos   Ht   Wt         Birth Date Unnamed: 6 Exp  \\\n",
       "0   9.0   Derrick White  SG  6-4  190       July 2, 1994         us   5   \n",
       "1  30.0      Sam Hauser  PF  6-8  215   December 8, 1997         us   1   \n",
       "2  12.0  Grant Williams  PF  6-6  236  November 30, 1998         us   3   \n",
       "3   0.0    Jayson Tatum  PF  6-8  210      March 3, 1998         us   5   \n",
       "4   7.0    Jaylen Brown  SF  6-6  223   October 24, 1996         us   6   \n",
       "\n",
       "                               College  \n",
       "0  Colorado-Colorado Springs, Colorado  \n",
       "1                  Marquette, Virginia  \n",
       "2                            Tennessee  \n",
       "3                                 Duke  \n",
       "4                           California  "
      ]
     },
     "execution_count": 24,
     "metadata": {},
     "output_type": "execute_result"
    }
   ],
   "source": [
    "dat[1].head()"
   ]
  },
  {
   "cell_type": "code",
   "execution_count": null,
   "metadata": {},
   "outputs": [],
   "source": [
    "https://www.basketball-reference.com/players/w/whitede01.html"
   ]
  },
  {
   "cell_type": "code",
   "execution_count": 21,
   "metadata": {},
   "outputs": [
    {
     "name": "stdout",
     "output_type": "stream",
     "text": [
      "Connecting to the PostgreSQL database...\n"
     ]
    }
   ],
   "source": [
    "pg_conn = PgConnection(config)\n",
    "conn = pg_conn.getConn()\n",
    "cur = conn.cursor()"
   ]
  },
  {
   "cell_type": "code",
   "execution_count": 23,
   "metadata": {},
   "outputs": [
    {
     "data": {
      "text/plain": [
       "<cursor object at 0x11f0666d0; closed: 0>"
      ]
     },
     "execution_count": 23,
     "metadata": {},
     "output_type": "execute_result"
    }
   ],
   "source": [
    "# conn\n",
    "cur"
   ]
  },
  {
   "cell_type": "code",
   "execution_count": 7,
   "metadata": {},
   "outputs": [],
   "source": [
    "conn = psycopg2.connect(\n",
    "    database=\"postgres\",\n",
    "    user=\"postgres\",\n",
    "    password=\"REBELStennis123\",\n",
    "    host=\"dfs-db.ce9d6aqnvhtq.us-east-1.rds.amazonaws.com\",\n",
    "    port='5432'\n",
    ")"
   ]
  },
  {
   "cell_type": "code",
   "execution_count": 5,
   "metadata": {},
   "outputs": [],
   "source": [
    "def connect():\n",
    "    \"\"\" Connect to the PostgreSQL database server \"\"\"\n",
    "    conn = None\n",
    "    try:\n",
    "        # read connection parameters\n",
    "        params = config()\n",
    "\n",
    "        # connect to the PostgreSQL server\n",
    "        print('Connecting to the PostgreSQL database...')\n",
    "        conn = psycopg2.connect(**params)\n",
    "\t\t\n",
    "        # create a cursor\n",
    "        cur = conn.cursor()\n",
    "        \n",
    "\t# execute a statement\n",
    "        print('PostgreSQL database version:')\n",
    "        cur.execute('SELECT version()')\n",
    "\n",
    "        # display the PostgreSQL database server version\n",
    "        db_version = cur.fetchone()\n",
    "        print(db_version)\n",
    "       \n",
    "\t# close the communication with the PostgreSQL\n",
    "        cur.close()\n",
    "    except (Exception, psycopg2.DatabaseError) as error:\n",
    "        print(error)\n",
    "    finally:\n",
    "        if conn is not None:\n",
    "            conn.close()\n",
    "            print('Database connection closed.')\n"
   ]
  },
  {
   "cell_type": "code",
   "execution_count": 6,
   "metadata": {},
   "outputs": [
    {
     "name": "stdout",
     "output_type": "stream",
     "text": [
      "Connecting to the PostgreSQL database...\n"
     ]
    },
    {
     "ename": "NameError",
     "evalue": "name 'psycopg2' is not defined",
     "output_type": "error",
     "traceback": [
      "\u001b[0;31m---------------------------------------------------------------------------\u001b[0m",
      "\u001b[0;31mNameError\u001b[0m                                 Traceback (most recent call last)",
      "\u001b[1;32m/Users/kniu91/Documents/Kevin's Folders/Projects/dfs/rds/load_schedule.ipynb Cell 7\u001b[0m in \u001b[0;36mconnect\u001b[0;34m()\u001b[0m\n\u001b[1;32m      <a href='vscode-notebook-cell:/Users/kniu91/Documents/Kevin%27s%20Folders/Projects/dfs/rds/load_schedule.ipynb#X21sZmlsZQ%3D%3D?line=8'>9</a>\u001b[0m \u001b[39mprint\u001b[39m(\u001b[39m'\u001b[39m\u001b[39mConnecting to the PostgreSQL database...\u001b[39m\u001b[39m'\u001b[39m)\n\u001b[0;32m---> <a href='vscode-notebook-cell:/Users/kniu91/Documents/Kevin%27s%20Folders/Projects/dfs/rds/load_schedule.ipynb#X21sZmlsZQ%3D%3D?line=9'>10</a>\u001b[0m conn \u001b[39m=\u001b[39m psycopg2\u001b[39m.\u001b[39mconnect(\u001b[39m*\u001b[39m\u001b[39m*\u001b[39mparams)\n\u001b[1;32m     <a href='vscode-notebook-cell:/Users/kniu91/Documents/Kevin%27s%20Folders/Projects/dfs/rds/load_schedule.ipynb#X21sZmlsZQ%3D%3D?line=11'>12</a>\u001b[0m \u001b[39m# create a cursor\u001b[39;00m\n",
      "\u001b[0;31mNameError\u001b[0m: name 'psycopg2' is not defined",
      "\nDuring handling of the above exception, another exception occurred:\n",
      "\u001b[0;31mNameError\u001b[0m                                 Traceback (most recent call last)",
      "\u001b[1;32m/Users/kniu91/Documents/Kevin's Folders/Projects/dfs/rds/load_schedule.ipynb Cell 7\u001b[0m in \u001b[0;36m<cell line: 1>\u001b[0;34m()\u001b[0m\n\u001b[0;32m----> <a href='vscode-notebook-cell:/Users/kniu91/Documents/Kevin%27s%20Folders/Projects/dfs/rds/load_schedule.ipynb#X21sZmlsZQ%3D%3D?line=0'>1</a>\u001b[0m connect()\n",
      "\u001b[1;32m/Users/kniu91/Documents/Kevin's Folders/Projects/dfs/rds/load_schedule.ipynb Cell 7\u001b[0m in \u001b[0;36mconnect\u001b[0;34m()\u001b[0m\n\u001b[1;32m     <a href='vscode-notebook-cell:/Users/kniu91/Documents/Kevin%27s%20Folders/Projects/dfs/rds/load_schedule.ipynb#X21sZmlsZQ%3D%3D?line=22'>23</a>\u001b[0m \t\u001b[39m# close the communication with the PostgreSQL\u001b[39;00m\n\u001b[1;32m     <a href='vscode-notebook-cell:/Users/kniu91/Documents/Kevin%27s%20Folders/Projects/dfs/rds/load_schedule.ipynb#X21sZmlsZQ%3D%3D?line=23'>24</a>\u001b[0m         cur\u001b[39m.\u001b[39mclose()\n\u001b[0;32m---> <a href='vscode-notebook-cell:/Users/kniu91/Documents/Kevin%27s%20Folders/Projects/dfs/rds/load_schedule.ipynb#X21sZmlsZQ%3D%3D?line=24'>25</a>\u001b[0m     \u001b[39mexcept\u001b[39;00m (\u001b[39mException\u001b[39;00m, psycopg2\u001b[39m.\u001b[39mDatabaseError) \u001b[39mas\u001b[39;00m error:\n\u001b[1;32m     <a href='vscode-notebook-cell:/Users/kniu91/Documents/Kevin%27s%20Folders/Projects/dfs/rds/load_schedule.ipynb#X21sZmlsZQ%3D%3D?line=25'>26</a>\u001b[0m         \u001b[39mprint\u001b[39m(error)\n\u001b[1;32m     <a href='vscode-notebook-cell:/Users/kniu91/Documents/Kevin%27s%20Folders/Projects/dfs/rds/load_schedule.ipynb#X21sZmlsZQ%3D%3D?line=26'>27</a>\u001b[0m     \u001b[39mfinally\u001b[39;00m:\n",
      "\u001b[0;31mNameError\u001b[0m: name 'psycopg2' is not defined"
     ]
    }
   ],
   "source": [
    "connect()"
   ]
  },
  {
   "cell_type": "code",
   "execution_count": 2,
   "metadata": {},
   "outputs": [],
   "source": [
    "years = [i for i in range(2015, 2024)]\n",
    "a"
   ]
  },
  {
   "cell_type": "code",
   "execution_count": 3,
   "metadata": {},
   "outputs": [],
   "source": [
    "link = 'https://www.basketball-reference.com/leagues/NBA_2022_games.html'\n",
    "playoffs_link = 'https://www.basketball-reference.com/playoffs/NBA_2022.html'"
   ]
  },
  {
   "cell_type": "code",
   "execution_count": 9,
   "metadata": {},
   "outputs": [],
   "source": [
    "data = requests.get(link).text\n",
    "soup = BeautifulSoup(data, 'html.parser')"
   ]
  },
  {
   "cell_type": "code",
   "execution_count": 16,
   "metadata": {},
   "outputs": [
    {
     "name": "stdout",
     "output_type": "stream",
     "text": [
      "                Date Start (ET)        Visitor/Neutral  PTS  \\\n",
      "0  Tue, Oct 19, 2021      7:30p          Brooklyn Nets  104   \n",
      "1  Tue, Oct 19, 2021     10:00p  Golden State Warriors  121   \n",
      "2  Wed, Oct 20, 2021      7:00p         Indiana Pacers  122   \n",
      "3  Wed, Oct 20, 2021      7:00p          Chicago Bulls   94   \n",
      "4  Wed, Oct 20, 2021      7:30p         Boston Celtics  134   \n",
      "\n",
      "         Home/Neutral  PTS.1 Unnamed: 6 Unnamed: 7  Attend.  \\\n",
      "0     Milwaukee Bucks    127  Box Score        NaN    17341   \n",
      "1  Los Angeles Lakers    114  Box Score        NaN    18997   \n",
      "2   Charlotte Hornets    123  Box Score        NaN    15521   \n",
      "3     Detroit Pistons     88  Box Score        NaN    20088   \n",
      "4     New York Knicks    138  Box Score        2OT    19812   \n",
      "\n",
      "                        Arena  Notes  \n",
      "0                Fiserv Forum    NaN  \n",
      "1            Crypto.com Arena    NaN  \n",
      "2             Spectrum Center    NaN  \n",
      "3        Little Caesars Arena    NaN  \n",
      "4  Madison Square Garden (IV)    NaN  \n"
     ]
    }
   ],
   "source": [
    "tables = soup.find_all('table', class_ = 'stats_table')\n",
    "table = tables[0]\n",
    "df = pd.read_html(str(table), flavor='html5lib')[0]\n",
    "print(df.head())"
   ]
  },
  {
   "cell_type": "code",
   "execution_count": null,
   "metadata": {},
   "outputs": [],
   "source": [
    "https://www.basketball-reference.com/leagues/NBA_2021_games-october.html"
   ]
  },
  {
   "cell_type": "code",
   "execution_count": 9,
   "metadata": {},
   "outputs": [
    {
     "ename": "IndexError",
     "evalue": "list index out of range",
     "output_type": "error",
     "traceback": [
      "\u001b[0;31m---------------------------------------------------------------------------\u001b[0m",
      "\u001b[0;31mIndexError\u001b[0m                                Traceback (most recent call last)",
      "Cell \u001b[0;32mIn[9], line 1\u001b[0m\n\u001b[0;32m----> 1\u001b[0m game_data \u001b[39m=\u001b[39m Boxscore(\u001b[39m'\u001b[39;49m\u001b[39m201806080CLE\u001b[39;49m\u001b[39m'\u001b[39;49m)\n",
      "File \u001b[0;32m~/.virtualenvs/dfs/lib/python3.9/site-packages/sportsipy/nba/boxscore.py:280\u001b[0m, in \u001b[0;36mBoxscore.__init__\u001b[0;34m(self, uri)\u001b[0m\n\u001b[1;32m    277\u001b[0m \u001b[39mself\u001b[39m\u001b[39m.\u001b[39m_home_offensive_rating \u001b[39m=\u001b[39m \u001b[39mNone\u001b[39;00m\n\u001b[1;32m    278\u001b[0m \u001b[39mself\u001b[39m\u001b[39m.\u001b[39m_home_defensive_rating \u001b[39m=\u001b[39m \u001b[39mNone\u001b[39;00m\n\u001b[0;32m--> 280\u001b[0m \u001b[39mself\u001b[39;49m\u001b[39m.\u001b[39;49m_parse_game_data(uri)\n",
      "File \u001b[0;32m~/.virtualenvs/dfs/lib/python3.9/site-packages/sportsipy/nba/boxscore.py:645\u001b[0m, in \u001b[0;36mBoxscore._parse_game_data\u001b[0;34m(self, uri)\u001b[0m\n\u001b[1;32m    642\u001b[0m     \u001b[39mcontinue\u001b[39;00m\n\u001b[1;32m    643\u001b[0m \u001b[39mif\u001b[39;00m short_field \u001b[39m==\u001b[39m \u001b[39m'\u001b[39m\u001b[39mlocation\u001b[39m\u001b[39m'\u001b[39m \u001b[39mor\u001b[39;00m \\\n\u001b[1;32m    644\u001b[0m    short_field \u001b[39m==\u001b[39m \u001b[39m'\u001b[39m\u001b[39mdate\u001b[39m\u001b[39m'\u001b[39m:\n\u001b[0;32m--> 645\u001b[0m     value \u001b[39m=\u001b[39m \u001b[39mself\u001b[39;49m\u001b[39m.\u001b[39;49m_parse_game_date_and_location(short_field,\n\u001b[1;32m    646\u001b[0m                                                boxscore)\n\u001b[1;32m    647\u001b[0m     \u001b[39msetattr\u001b[39m(\u001b[39mself\u001b[39m, field, value)\n\u001b[1;32m    648\u001b[0m     \u001b[39mcontinue\u001b[39;00m\n",
      "File \u001b[0;32m~/.virtualenvs/dfs/lib/python3.9/site-packages/sportsipy/nba/boxscore.py:346\u001b[0m, in \u001b[0;36mBoxscore._parse_game_date_and_location\u001b[0;34m(self, field, boxscore)\u001b[0m\n\u001b[1;32m    344\u001b[0m scheme \u001b[39m=\u001b[39m BOXSCORE_SCHEME[field]\n\u001b[1;32m    345\u001b[0m items \u001b[39m=\u001b[39m [i\u001b[39m.\u001b[39mtext() \u001b[39mfor\u001b[39;00m i \u001b[39min\u001b[39;00m boxscore(scheme)\u001b[39m.\u001b[39mitems()]\n\u001b[0;32m--> 346\u001b[0m game_info \u001b[39m=\u001b[39m items[\u001b[39m0\u001b[39;49m]\u001b[39m.\u001b[39msplit(\u001b[39m'\u001b[39m\u001b[39m\\n\u001b[39;00m\u001b[39m'\u001b[39m)\n\u001b[1;32m    347\u001b[0m \u001b[39mif\u001b[39;00m \u001b[39mlen\u001b[39m(game_info) \u001b[39m<\u001b[39m \u001b[39m3\u001b[39m \u001b[39mand\u001b[39;00m field \u001b[39m==\u001b[39m \u001b[39m'\u001b[39m\u001b[39mlocation\u001b[39m\u001b[39m'\u001b[39m:\n\u001b[1;32m    348\u001b[0m     \u001b[39mreturn\u001b[39;00m \u001b[39mNone\u001b[39;00m\n",
      "\u001b[0;31mIndexError\u001b[0m: list index out of range"
     ]
    }
   ],
   "source": [
    "game_data = Boxscore('201806080CLE')"
   ]
  },
  {
   "cell_type": "code",
   "execution_count": 7,
   "metadata": {},
   "outputs": [
    {
     "name": "stdout",
     "output_type": "stream",
     "text": [
      "The requested page returned a valid response, but no data could be found. Has the season begun, and is the data available on www.sports-reference.com?\n"
     ]
    }
   ],
   "source": [
    "teams = Teams()"
   ]
  },
  {
   "cell_type": "code",
   "execution_count": 5,
   "metadata": {},
   "outputs": [
    {
     "name": "stdout",
     "output_type": "stream",
     "text": [
      "The requested page returned a valid response, but no data could be found. Has the season begun, and is the data available on www.sports-reference.com?\n"
     ]
    }
   ],
   "source": [
    "\n",
    "teams = Teams('2021')\n",
    "for team in teams:\n",
    "    print(team.name)  # Prints the team's name\n",
    "    print(team.blocks)  # Prints the team's total blocked shots"
   ]
  },
  {
   "cell_type": "code",
   "execution_count": null,
   "metadata": {},
   "outputs": [],
   "source": []
  }
 ],
 "metadata": {
  "kernelspec": {
   "display_name": "ncaa",
   "language": "python",
   "name": "python3"
  },
  "language_info": {
   "codemirror_mode": {
    "name": "ipython",
    "version": 3
   },
   "file_extension": ".py",
   "mimetype": "text/x-python",
   "name": "python",
   "nbconvert_exporter": "python",
   "pygments_lexer": "ipython3",
   "version": "3.9.12"
  },
  "orig_nbformat": 4,
  "vscode": {
   "interpreter": {
    "hash": "bee5674010edb9cafde857bf6ed1f796045a81d354f601a762200feb8a30ef17"
   }
  }
 },
 "nbformat": 4,
 "nbformat_minor": 2
}
