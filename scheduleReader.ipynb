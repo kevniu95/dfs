{
 "cells": [
  {
   "cell_type": "code",
   "execution_count": 10,
   "metadata": {},
   "outputs": [],
   "source": [
    "import sys\n",
    " \n",
    "# adding Folder_2 to the system path\n",
    "sys.path.insert(0, '../utils')\n",
    "\n",
    "from typing import Dict, List\n",
    "import argparse\n",
    "\n",
    "from config import Config\n",
    "from pgConnect import PgConnection\n",
    "from dfs_dao import Dfs_dao\n",
    "from requestLimiter import RequestLimiter\n",
    "from teamRosterReader import TeamRosterReader, learn_teams_from_summary\n",
    "from scheduleReader import BoxscoreReader, learn_schedule_from_month\n",
    "from bs4 import BeautifulSoup\n"
   ]
  },
  {
   "cell_type": "code",
   "execution_count": 11,
   "metadata": {},
   "outputs": [
    {
     "name": "stdout",
     "output_type": "stream",
     "text": [
      "Connecting to the PostgreSQL database...\n",
      "In constructor...\n",
      "Successfully loaded previous Rate Limiter info for https://www.basketball-reference.com\n",
      "Initialized with 2 of 19 entries filled\n",
      "\n",
      "Saving RequestLimiter status to disk...\n"
     ]
    }
   ],
   "source": [
    "# ======\n",
    "# 1. Read configs\n",
    "# ======\n",
    "config : Config = Config()\n",
    "pgc : PgConnection = PgConnection(config)\n",
    "\n",
    "# reader \n",
    "read_constants : Dict[str, str] = config.parse_section('reader')\n",
    "BASE : str = read_constants['base']\n",
    "NAME : str = BASE[BASE.find('.') + 1:]\n",
    "\n",
    "# requestLimiter\n",
    "rl_constants : Dict[str, str] = config.parse_section('requestLimiter')\n",
    "load_loc = rl_constants['load_location']\n",
    "LOAD_FILE : str = f'{load_loc}{NAME}.p'\n",
    "INTERVAL : int = int(rl_constants['interval'])\n",
    "LIMIT : int = int(rl_constants['limit'])\n",
    "\n",
    "# ======\n",
    "# 2. Parse args\n",
    "# ======\n",
    "YEAR : int = 2023\n",
    "\n",
    "rl : RequestLimiter = RequestLimiter(BASE, \n",
    "                    interval = INTERVAL, \n",
    "                    limit = LIMIT - 1, \n",
    "                    load = LOAD_FILE)\n",
    "trr : TeamRosterReader = TeamRosterReader(None, None, YEAR, rl)\n",
    "br : BoxscoreReader = BoxscoreReader(rl)\n",
    "dao : Dfs_dao = Dfs_dao(pgc)\n",
    "\n",
    "schedule_base = BASE + '/leagues/NBA_{}_games-{}.html'\n",
    "\n",
    "MONTHS : List[str] = ['october', \n",
    "            'november', \n",
    "            'december', \n",
    "            'january',\n",
    "            'february',\n",
    "            'march',\n",
    "            'april',\n",
    "            'may',\n",
    "            'june']"
   ]
  },
  {
   "cell_type": "code",
   "execution_count": 12,
   "metadata": {},
   "outputs": [],
   "source": [
    "from bs4utils import get_ith_table, read_ith_table\n",
    "from bs4.element import Tag\n",
    "import pandas as pd\n",
    "from typing import Tuple, Any"
   ]
  },
  {
   "cell_type": "code",
   "execution_count": 13,
   "metadata": {},
   "outputs": [],
   "source": [
    "def get_team_names(soup : BeautifulSoup) -> Tuple[str, str]:\n",
    "    tm1 : str = soup.find_all('strong')[1].text.strip()\n",
    "    tm2 : str = soup.find_all('strong')[2].text.strip()\n",
    "    return tm1, tm2\n",
    "\n",
    "\n",
    "def check_players(players : List[Tuple[Any,...]]) -> None:\n",
    "    for p in players:\n",
    "        assert p[0] == p[21]\n",
    "        \n",
    "\n",
    "def get_all_info(soup : BeautifulSoup):\n",
    "    \"\"\"\"\n",
    "    Returns\n",
    "        Tuple with 4 items\n",
    "            - tm1_tuple, tm1_player_list (tuples)\n",
    "            - tm2_tuple, tm2_player_list (tuples)\n",
    "    \"\"\"\n",
    "    tm1, tm2 = get_team_names(soup)\n",
    "    tm1_inds = [0, 7] \n",
    "    tm2_inds = [8, 15]\n",
    "    \n",
    "    tm1_tup, tm1_players = process_team_tables(soup, tm1_inds)\n",
    "    tm2_tup, tm2_players = process_team_tables(soup, tm2_inds)\n",
    "    check_players(tm1_players)\n",
    "    check_players(tm2_players)\n",
    "\n",
    "    # Extra 0/1 represents away vs home\n",
    "    tm1_tup = (tm1, '0') + tm1_tup\n",
    "    tm2_tup = (tm2, '1') + tm2_tup\n",
    "\n",
    "    return tm1_tup, tm1_players, tm2_tup, tm2_players\n",
    "\n",
    "\n",
    "def process_team_tables(soup : BeautifulSoup, inds : List[int]):\n",
    "    tmTup = ()\n",
    "    playerTups : List[Tuple[Any, ...]] = []\n",
    "    for ind in inds:\n",
    "        df = read_ith_table(soup, ind)\n",
    "        df.columns = df.columns.droplevel()\n",
    "        tmTup += _get_tm_info(df)\n",
    "        playerTups = _get_player_tuples(df, playerTups)\n",
    "    return tmTup, playerTups\n",
    "\n",
    "\n",
    "def _get_tm_info(df : pd.DataFrame) -> Tuple[Any, ...]:\n",
    "    last_row = df.iloc[-1, :]\n",
    "    assert last_row['Starters'] == 'Team Totals'\n",
    "    tup = tuple(list(last_row)[2:-1])\n",
    "    return tup\n",
    "\n",
    "\n",
    "def _get_player_tuples(df : pd.DataFrame(), playerTups : List[Tuple[Any,...]]) -> Tuple[Any, ...]:\n",
    "    player_df = df[~df['MP'].isin(['Did Not Play', '240', 'MP'])].reset_index()\n",
    "    for num, row in player_df.iterrows():\n",
    "        player_tup : Tuple[Any,...] = tuple(list(row)[1:])\n",
    "        if len(playerTups) <= num:\n",
    "            playerTups.append(player_tup)\n",
    "        else:\n",
    "            playerTups[num] = playerTups[num] + player_tup\n",
    "    return playerTups"
   ]
  },
  {
   "cell_type": "code",
   "execution_count": 14,
   "metadata": {},
   "outputs": [
    {
     "name": "stdout",
     "output_type": "stream",
     "text": [
      "Successfully processed append to queue...\n",
      "Size of current queue... 3\n",
      "Saving RequestLimiter status to disk...\n",
      "Successfully processed append to queue...\n",
      "Size of current queue... 4\n",
      "Saving RequestLimiter status to disk...\n",
      "INSERT INTO team_box VALUES ('Tue, Oct 18, 2022','19:30:00','19156','TD Garden','Philadelphia 76ers','0','40','80','.500','13','34','.382','24','28','.857','4','27','31','16','8','3','14','25','117','.634','.581','.425','.350','11.8','81.8','46.3','40.0','8.1','6.4','13.2','100.0','119.2','128.3','Boston Celtics','1','46','82','.561','12','35','.343','22','28','.786','6','30','36','24','8','3','10','24','126','.668','.634','.427','.341','18.2','88.2','53.7','52.2','8.1','6.5','9.6','100.0','128.3','119.2'),('Tue, Oct 18, 2022','19:30:00','19156','TD Garden','Boston Celtics','1','46','82','.561','12','35','.343','22','28','.786','6','30','36','24','8','3','10','24','126','.668','.634','.427','.341','18.2','88.2','53.7','52.2','8.1','6.5','9.6','100.0','128.3','119.2','Philadelphia 76ers','0','40','80','.500','13','34','.382','24','28','.857','4','27','31','16','8','3','14','25','117','.634','.581','.425','.350','11.8','81.8','46.3','40.0','8.1','6.4','13.2','100.0','119.2','128.3') ON CONFLICT (game_date, game_time, tm1, tm2) DO NOTHING\n",
      "Committed team_box insertion!\n"
     ]
    }
   ],
   "source": [
    "def process_time(tim : str):\n",
    "    tim_list = tim.split(':')\n",
    "    \n",
    "    tim_list[1] = tim_list[1][:-1]\n",
    "    if 'p' in tim:\n",
    "        tim_list[0] = int(tim_list[0]) + 12\n",
    "    tim_list.append('00')\n",
    "    tim_str = ':'.join([str(i) for i in tim_list])\n",
    "    return tim_str\n",
    "\n",
    "for month in MONTHS[:1]:\n",
    "    link = schedule_base.format(YEAR, month)\n",
    "    df = learn_schedule_from_month(link, rl)\n",
    "    # print(df.head())\n",
    "    ctr = 0\n",
    "    for num, row in df.iterrows():\n",
    "        link = BASE + row['game_link']\n",
    "        br.set_link(link)\n",
    "        soup : BeautifulSoup  = br.get_soup()\n",
    "        tm1_tuple, tm1_players, tm2_tuple,tm2_players = get_all_info(soup)\n",
    "        \n",
    "        game_info = (row['Date'], process_time(row['Start (ET)']), str(row['Attend.']), row['Arena']) \n",
    "        game_entry1 = game_info + tm1_tuple + tm2_tuple\n",
    "        game_entry2 = game_info + tm2_tuple + tm1_tuple\n",
    "        \n",
    "        dao.team_box_to_db((game_entry1, game_entry2))\n",
    "        # print(tm2_tuple)\n",
    "        ctr += 1\n",
    "        if ctr > 0:\n",
    "            break"
   ]
  },
  {
   "cell_type": "code",
   "execution_count": 7,
   "metadata": {},
   "outputs": [
    {
     "name": "stdout",
     "output_type": "stream",
     "text": [
      "('Tue, Oct 18, 2022', '19:30:00', '19156', 'TD Garden', 'Philadelphia 76ers', '0', '40', '80', '.500', '13', '34', '.382', '24', '28', '.857', '4', '27', '31', '16', '8', '3', '14', '25', '117', '.634', '.581', '.425', '.350', '11.8', '81.8', '46.3', '40.0', '8.1', '6.4', '13.2', '100.0', '119.2', '128.3', 'Boston Celtics', '1', '46', '82', '.561', '12', '35', '.343', '22', '28', '.786', '6', '30', '36', '24', '8', '3', '10', '24', '126', '.668', '.634', '.427', '.341', '18.2', '88.2', '53.7', '52.2', '8.1', '6.5', '9.6', '100.0', '128.3', '119.2')\n"
     ]
    }
   ],
   "source": [
    "tm1_tuple, tm1_players, tm2_tuple,tm2_players = get_all_info(soup)\n",
    "        \n",
    "game_info = (row['Date'], process_time(row['Start (ET)']), str(row['Attend.']), row['Arena']) \n",
    "game_entry1 = game_info + tm1_tuple + tm2_tuple\n",
    "game_entry2 = game_info + tm2_tuple + tm1_tuple\n",
    "print(game_entry1)"
   ]
  },
  {
   "cell_type": "code",
   "execution_count": 8,
   "metadata": {},
   "outputs": [
    {
     "name": "stdout",
     "output_type": "stream",
     "text": [
      "Committed team_box insertion!\n"
     ]
    }
   ],
   "source": [
    "args = dao.cur.mogrify(\"(%s,%s,%s,%s,%s,%s,%s,%s,%s,%s,\"\\\n",
    "                    \"%s,%s,%s,%s,%s,%s,%s,%s,%s,%s,\"\\\n",
    "                    \"%s,%s,%s,%s,%s,%s,%s,%s,%s,%s,\"\\\n",
    "                    \"%s,%s,%s,%s,%s,%s,%s,%s,%s,%s,\"\\\n",
    "                    \"%s,%s,%s,%s,%s,%s,%s,%s,%s,%s,\"\\\n",
    "                    \"%s,%s,%s,%s,%s,%s,%s,%s,%s,%s,\"\\\n",
    "                    \"%s,%s,%s,%s,%s,%s,%s,%s,%s,%s,%s,%s\"\\\n",
    "                    \")\",\n",
    "                    game_entry1).decode('utf-8')\n",
    "qry = \"INSERT INTO team_box VALUES \" + (args) + \" ON CONFLICT \"\\\n",
    "                \"(game_date, game_time, tm1, tm2) DO NOTHING\"\n",
    "dao._try_insertion(qry, 'team_box')"
   ]
  },
  {
   "cell_type": "code",
   "execution_count": 52,
   "metadata": {},
   "outputs": [
    {
     "data": {
      "text/plain": [
       "\"('Tue, Oct 18, 2022','7:30p','19156','TD Garden','Philadelphia 76ers',0,'40','80','.500','13''34','.382','24','28','.857','4','27','31','16','8''3','14','25','117','.634','.581','.425','.350','11.8','81.8''46.3','40.0','8.1','6.4','13.2','100.0','119.2','128.3','Boston Celtics',1'46','82','.561','12','35','.343','22','28','.786','6''30','36','24','8','3','10','24','126','.668','.634''.427','.341','18.2','88.2','53.7','52.2','8.1','6.5','9.6','100.0','128.3','119.2')\""
      ]
     },
     "execution_count": 52,
     "metadata": {},
     "output_type": "execute_result"
    }
   ],
   "source": [
    "# cur.mogrify(\"(%s,%s,%s,%s,%s,%s,%s,%s,%s,%s\"\\\n",
    "#                         \"%s,%s,%s,%s,%s,%s,%s,%s,%s,%s\"\\\n",
    "#                         \"%s,%s,%s,%s,%s,%s,%s,%s,%s,%s\"\\\n",
    "#                         \"%s,%s,%s,%s,%s,%s,%s,%s,%s,%s\"\\\n",
    "#                         \"%s,%s,%s,%s,%s,%s,%s,%s,%s,%s\"\\\n",
    "#                         \"%s,%s,%s,%s,%s,%s,%s,%s,%s,%s\"\\\n",
    "#                         \"%s,%s,%s,%s,%s,%s,%s,%s,%s,%s)\",\n",
    "#                         i).decode('utf-8') \n"
   ]
  },
  {
   "cell_type": "code",
   "execution_count": 104,
   "metadata": {},
   "outputs": [
    {
     "data": {
      "text/plain": [
       "Starters    Team Totals\n",
       "MP                  240\n",
       "TS%                .668\n",
       "eFG%               .634\n",
       "3PAr               .427\n",
       "FTr                .341\n",
       "ORB%               18.2\n",
       "DRB%               88.2\n",
       "TRB%               53.7\n",
       "AST%               52.2\n",
       "STL%                8.1\n",
       "BLK%                6.5\n",
       "TOV%                9.6\n",
       "USG%              100.0\n",
       "ORtg              128.3\n",
       "DRtg              119.2\n",
       "BPM                 NaN\n",
       "Name: 16, dtype: object"
      ]
     },
     "execution_count": 104,
     "metadata": {},
     "output_type": "execute_result"
    }
   ],
   "source": [
    "# a.columns = a.columns.droplevel()\n",
    "a.iloc[-1, :]"
   ]
  },
  {
   "cell_type": "code",
   "execution_count": 15,
   "metadata": {},
   "outputs": [
    {
     "name": "stdout",
     "output_type": "stream",
     "text": [
      "No table found on this HTML page!\n"
     ]
    }
   ],
   "source": [
    "read_ith_table(soup, 0, id = 'div_line_score')"
   ]
  },
  {
   "cell_type": "code",
   "execution_count": 13,
   "metadata": {},
   "outputs": [
    {
     "data": {
      "text/plain": [
       "[]"
      ]
     },
     "execution_count": 13,
     "metadata": {},
     "output_type": "execute_result"
    }
   ],
   "source": [
    "soup.find_all('table', id = 'line_score')"
   ]
  },
  {
   "cell_type": "code",
   "execution_count": null,
   "metadata": {},
   "outputs": [],
   "source": []
  }
 ],
 "metadata": {
  "kernelspec": {
   "display_name": "ncaa",
   "language": "python",
   "name": "python3"
  },
  "language_info": {
   "codemirror_mode": {
    "name": "ipython",
    "version": 3
   },
   "file_extension": ".py",
   "mimetype": "text/x-python",
   "name": "python",
   "nbconvert_exporter": "python",
   "pygments_lexer": "ipython3",
   "version": "3.9.12"
  },
  "orig_nbformat": 4,
  "vscode": {
   "interpreter": {
    "hash": "bee5674010edb9cafde857bf6ed1f796045a81d354f601a762200feb8a30ef17"
   }
  }
 },
 "nbformat": 4,
 "nbformat_minor": 2
}
